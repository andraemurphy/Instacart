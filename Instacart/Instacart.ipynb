{
 "cells": [
  {
   "cell_type": "markdown",
   "id": "d183c798",
   "metadata": {},
   "source": [
    "<h2>\n",
    "Murphy Case - TripleTen  - Sprint 2 Project\n",
    "Instacart Exploratory Data Analysis\n",
    "    \n",
    "Table of Contents <br><br>\n",
    "<Li>\t1. Duplicate Values\n",
    "<Li>\t2. Missing Values\n",
    "<Li>\t3. Easy Tasks\n",
    "<Li>\t4. Medium Tasks\n",
    "<Li>\t5. Hard Task\n",
    "\n",
    "</h2> \n",
    "</div>"
   ]
  },
  {
   "cell_type": "code",
   "execution_count": 1,
   "id": "5b8936b3",
   "metadata": {},
   "outputs": [],
   "source": [
    "import pandas as pd\n",
    "from matplotlib import pyplot as plt\n",
    "import numpy as np"
   ]
  },
  {
   "cell_type": "code",
   "execution_count": 2,
   "id": "ad36396d",
   "metadata": {},
   "outputs": [
    {
     "name": "stdout",
     "output_type": "stream",
     "text": [
      "<class 'pandas.core.frame.DataFrame'>\n",
      "RangeIndex: 478967 entries, 0 to 478966\n",
      "Data columns (total 6 columns):\n",
      " #   Column                  Non-Null Count   Dtype  \n",
      "---  ------                  --------------   -----  \n",
      " 0   order_id                478967 non-null  int64  \n",
      " 1   user_id                 478967 non-null  int64  \n",
      " 2   order_number            478967 non-null  int64  \n",
      " 3   order_dow               478967 non-null  int64  \n",
      " 4   order_hour_of_day       478967 non-null  int64  \n",
      " 5   days_since_prior_order  450148 non-null  float64\n",
      "dtypes: float64(1), int64(5)\n",
      "memory usage: 21.9 MB\n"
     ]
    }
   ],
   "source": [
    "#notes: days since last order is a float --> int; contains blanks = ''; \n",
    "filepath = r\"C:\\Users\\andrae\\OneDrive\\Desktop\\Python_Work\\Tripleten_Lessons\\Sprint_02_Project\"\n",
    "try:\n",
    "    df_instacart_orders = pd.read_csv(f\"{filepath}\\\\instacart_orders.csv\", sep=';')\n",
    "except:\n",
    "    df_instacart_orders = pd.read_csv('/datasets/instacart_orders.csv', sep=';')\n",
    "    \n",
    "#need to correct nulls before converting the float\n",
    "df_instacart_orders.info()"
   ]
  },
  {
   "cell_type": "code",
   "execution_count": 3,
   "id": "ad6a1efa",
   "metadata": {},
   "outputs": [
    {
     "name": "stdout",
     "output_type": "stream",
     "text": [
      "<class 'pandas.core.frame.DataFrame'>\n",
      "RangeIndex: 49694 entries, 0 to 49693\n",
      "Data columns (total 4 columns):\n",
      " #   Column         Non-Null Count  Dtype \n",
      "---  ------         --------------  ----- \n",
      " 0   product_id     49694 non-null  int64 \n",
      " 1   product_name   48436 non-null  object\n",
      " 2   aisle_id       49694 non-null  int64 \n",
      " 3   department_id  49694 non-null  int64 \n",
      "dtypes: int64(3), object(1)\n",
      "memory usage: 1.5+ MB\n"
     ]
    }
   ],
   "source": [
    "#notes: join departments for department name; join aisle to get aisle name; contains blanks (\"\") in product_name\n",
    "try:\n",
    "    df_products = pd.read_csv(f\"{filepath}\\\\products.csv\", sep=';')\n",
    "except:\n",
    "    df_products = pd.read_csv('/datasets/products.csv', sep=';')\n",
    "\n",
    "df_products.info()"
   ]
  },
  {
   "cell_type": "code",
   "execution_count": 4,
   "id": "5130e05e",
   "metadata": {},
   "outputs": [
    {
     "name": "stdout",
     "output_type": "stream",
     "text": [
      "<class 'pandas.core.frame.DataFrame'>\n",
      "RangeIndex: 134 entries, 0 to 133\n",
      "Data columns (total 2 columns):\n",
      " #   Column    Non-Null Count  Dtype \n",
      "---  ------    --------------  ----- \n",
      " 0   aisle_id  134 non-null    int64 \n",
      " 1   aisle     134 non-null    object\n",
      "dtypes: int64(1), object(1)\n",
      "memory usage: 2.2+ KB\n"
     ]
    }
   ],
   "source": [
    "#notes: no preprocessing needed\n",
    "try:\n",
    "    df_aisles = pd.read_csv(f\"{filepath}\\\\aisles.csv\", sep=';')\n",
    "except:\n",
    "    df_aisles = pd.read_csv('/datasets/aisles.csv', sep=';')\n",
    "\n",
    "df_aisles.info()"
   ]
  },
  {
   "cell_type": "code",
   "execution_count": 5,
   "id": "d8370c05",
   "metadata": {},
   "outputs": [
    {
     "name": "stdout",
     "output_type": "stream",
     "text": [
      "<class 'pandas.core.frame.DataFrame'>\n",
      "RangeIndex: 21 entries, 0 to 20\n",
      "Data columns (total 2 columns):\n",
      " #   Column         Non-Null Count  Dtype \n",
      "---  ------         --------------  ----- \n",
      " 0   department_id  21 non-null     int64 \n",
      " 1   department     21 non-null     object\n",
      "dtypes: int64(1), object(1)\n",
      "memory usage: 464.0+ bytes\n"
     ]
    }
   ],
   "source": [
    "#notes: code 21 = \"missing\" - potential null value\n",
    "try:\n",
    "    df_departments = pd.read_csv(f\"{filepath}\\\\departments.csv\", sep=';')\n",
    "except:\n",
    "    df_departments = pd.read_csv('/datasets/departments.csv', sep=';')\n",
    "\n",
    "df_departments.info()"
   ]
  },
  {
   "cell_type": "code",
   "execution_count": 6,
   "id": "59e2090f",
   "metadata": {},
   "outputs": [
    {
     "name": "stdout",
     "output_type": "stream",
     "text": [
      "<class 'pandas.core.frame.DataFrame'>\n",
      "RangeIndex: 4545007 entries, 0 to 4545006\n",
      "Data columns (total 4 columns):\n",
      " #   Column             Non-Null Count    Dtype  \n",
      "---  ------             --------------    -----  \n",
      " 0   order_id           4545007 non-null  int64  \n",
      " 1   product_id         4545007 non-null  int64  \n",
      " 2   add_to_cart_order  4544171 non-null  float64\n",
      " 3   reordered          4545007 non-null  int64  \n",
      "dtypes: float64(1), int64(3)\n",
      "memory usage: 138.7 MB\n"
     ]
    }
   ],
   "source": [
    "#notes: many rows (show_counts=True); add_to_cart_order is a float --> int\n",
    "try:\n",
    "    df_order_products = pd.read_csv(f\"{filepath}\\\\order_products.csv\", sep=';')\n",
    "except:\n",
    "    df_order_products = pd.read_csv('/datasets/order_products.csv', sep=';')\n",
    "\n",
    "df_order_products.info(show_counts=True)"
   ]
  },
  {
   "cell_type": "code",
   "execution_count": null,
   "id": "6fc81694",
   "metadata": {},
   "outputs": [],
   "source": []
  },
  {
   "cell_type": "markdown",
   "id": "07357848-dc64-4156-9cc3-01ff4365226d",
   "metadata": {},
   "source": [
    "## Find and remove duplicate values (and describe why you make your choices)"
   ]
  },
  {
   "cell_type": "markdown",
   "id": "f179f0a9",
   "metadata": {},
   "source": [
    "### `orders` data frame"
   ]
  },
  {
   "cell_type": "code",
   "execution_count": 7,
   "id": "b99297a5-405a-463d-8535-9adc3da4ad74",
   "metadata": {},
   "outputs": [
    {
     "name": "stdout",
     "output_type": "stream",
     "text": [
      "There are 15 duplicate values in the instacart_orders data.\n"
     ]
    }
   ],
   "source": [
    "# Check for duplicated orders\n",
    "df_orders_dups = df_instacart_orders.duplicated()\n",
    "print(f\"There are {df_orders_dups.sum()} duplicate values in the instacart_orders data.\")\n"
   ]
  },
  {
   "cell_type": "code",
   "execution_count": 8,
   "id": "0d44de5d",
   "metadata": {},
   "outputs": [
    {
     "data": {
      "text/html": [
       "<div>\n",
       "<style scoped>\n",
       "    .dataframe tbody tr th:only-of-type {\n",
       "        vertical-align: middle;\n",
       "    }\n",
       "\n",
       "    .dataframe tbody tr th {\n",
       "        vertical-align: top;\n",
       "    }\n",
       "\n",
       "    .dataframe thead th {\n",
       "        text-align: right;\n",
       "    }\n",
       "</style>\n",
       "<table border=\"1\" class=\"dataframe\">\n",
       "  <thead>\n",
       "    <tr style=\"text-align: right;\">\n",
       "      <th></th>\n",
       "      <th>order_id</th>\n",
       "      <th>user_id</th>\n",
       "      <th>order_number</th>\n",
       "      <th>order_dow</th>\n",
       "      <th>order_hour_of_day</th>\n",
       "      <th>days_since_prior_order</th>\n",
       "    </tr>\n",
       "  </thead>\n",
       "  <tbody>\n",
       "    <tr>\n",
       "      <th>4838</th>\n",
       "      <td>2766110</td>\n",
       "      <td>162084</td>\n",
       "      <td>41</td>\n",
       "      <td>3</td>\n",
       "      <td>2</td>\n",
       "      <td>16.0</td>\n",
       "    </tr>\n",
       "    <tr>\n",
       "      <th>5156</th>\n",
       "      <td>2190225</td>\n",
       "      <td>138285</td>\n",
       "      <td>18</td>\n",
       "      <td>3</td>\n",
       "      <td>2</td>\n",
       "      <td>11.0</td>\n",
       "    </tr>\n",
       "    <tr>\n",
       "      <th>15506</th>\n",
       "      <td>553049</td>\n",
       "      <td>58599</td>\n",
       "      <td>13</td>\n",
       "      <td>3</td>\n",
       "      <td>2</td>\n",
       "      <td>7.0</td>\n",
       "    </tr>\n",
       "    <tr>\n",
       "      <th>18420</th>\n",
       "      <td>382357</td>\n",
       "      <td>120200</td>\n",
       "      <td>19</td>\n",
       "      <td>3</td>\n",
       "      <td>2</td>\n",
       "      <td>11.0</td>\n",
       "    </tr>\n",
       "    <tr>\n",
       "      <th>24691</th>\n",
       "      <td>690242</td>\n",
       "      <td>77357</td>\n",
       "      <td>2</td>\n",
       "      <td>3</td>\n",
       "      <td>2</td>\n",
       "      <td>9.0</td>\n",
       "    </tr>\n",
       "    <tr>\n",
       "      <th>...</th>\n",
       "      <td>...</td>\n",
       "      <td>...</td>\n",
       "      <td>...</td>\n",
       "      <td>...</td>\n",
       "      <td>...</td>\n",
       "      <td>...</td>\n",
       "    </tr>\n",
       "    <tr>\n",
       "      <th>457013</th>\n",
       "      <td>3384021</td>\n",
       "      <td>14881</td>\n",
       "      <td>6</td>\n",
       "      <td>3</td>\n",
       "      <td>2</td>\n",
       "      <td>30.0</td>\n",
       "    </tr>\n",
       "    <tr>\n",
       "      <th>458816</th>\n",
       "      <td>910166</td>\n",
       "      <td>164782</td>\n",
       "      <td>18</td>\n",
       "      <td>3</td>\n",
       "      <td>2</td>\n",
       "      <td>4.0</td>\n",
       "    </tr>\n",
       "    <tr>\n",
       "      <th>459635</th>\n",
       "      <td>1680532</td>\n",
       "      <td>106435</td>\n",
       "      <td>6</td>\n",
       "      <td>3</td>\n",
       "      <td>2</td>\n",
       "      <td>21.0</td>\n",
       "    </tr>\n",
       "    <tr>\n",
       "      <th>468324</th>\n",
       "      <td>222962</td>\n",
       "      <td>54979</td>\n",
       "      <td>59</td>\n",
       "      <td>3</td>\n",
       "      <td>2</td>\n",
       "      <td>3.0</td>\n",
       "    </tr>\n",
       "    <tr>\n",
       "      <th>477526</th>\n",
       "      <td>2592344</td>\n",
       "      <td>46860</td>\n",
       "      <td>38</td>\n",
       "      <td>3</td>\n",
       "      <td>2</td>\n",
       "      <td>3.0</td>\n",
       "    </tr>\n",
       "  </tbody>\n",
       "</table>\n",
       "<p>121 rows × 6 columns</p>\n",
       "</div>"
      ],
      "text/plain": [
       "        order_id  user_id  order_number  order_dow  order_hour_of_day  \\\n",
       "4838     2766110   162084            41          3                  2   \n",
       "5156     2190225   138285            18          3                  2   \n",
       "15506     553049    58599            13          3                  2   \n",
       "18420     382357   120200            19          3                  2   \n",
       "24691     690242    77357             2          3                  2   \n",
       "...          ...      ...           ...        ...                ...   \n",
       "457013   3384021    14881             6          3                  2   \n",
       "458816    910166   164782            18          3                  2   \n",
       "459635   1680532   106435             6          3                  2   \n",
       "468324    222962    54979            59          3                  2   \n",
       "477526   2592344    46860            38          3                  2   \n",
       "\n",
       "        days_since_prior_order  \n",
       "4838                      16.0  \n",
       "5156                      11.0  \n",
       "15506                      7.0  \n",
       "18420                     11.0  \n",
       "24691                      9.0  \n",
       "...                        ...  \n",
       "457013                    30.0  \n",
       "458816                     4.0  \n",
       "459635                    21.0  \n",
       "468324                     3.0  \n",
       "477526                     3.0  \n",
       "\n",
       "[121 rows x 6 columns]"
      ]
     },
     "execution_count": 8,
     "metadata": {},
     "output_type": "execute_result"
    }
   ],
   "source": [
    "# Check for all orders placed Wednesday at 2:00 AM\n",
    "wednesday_2am = df_instacart_orders.query(\"order_dow == 3 and order_hour_of_day == 2\")\n",
    "wednesday_2am"
   ]
  },
  {
   "cell_type": "code",
   "execution_count": 9,
   "id": "480563c7",
   "metadata": {},
   "outputs": [
    {
     "data": {
      "text/html": [
       "<div>\n",
       "<style scoped>\n",
       "    .dataframe tbody tr th:only-of-type {\n",
       "        vertical-align: middle;\n",
       "    }\n",
       "\n",
       "    .dataframe tbody tr th {\n",
       "        vertical-align: top;\n",
       "    }\n",
       "\n",
       "    .dataframe thead th {\n",
       "        text-align: right;\n",
       "    }\n",
       "</style>\n",
       "<table border=\"1\" class=\"dataframe\">\n",
       "  <thead>\n",
       "    <tr style=\"text-align: right;\">\n",
       "      <th></th>\n",
       "      <th>order_id</th>\n",
       "      <th>user_id</th>\n",
       "      <th>order_number</th>\n",
       "      <th>order_dow</th>\n",
       "      <th>order_hour_of_day</th>\n",
       "      <th>days_since_prior_order</th>\n",
       "    </tr>\n",
       "  </thead>\n",
       "  <tbody>\n",
       "    <tr>\n",
       "      <th>0</th>\n",
       "      <td>1515936</td>\n",
       "      <td>183418</td>\n",
       "      <td>11</td>\n",
       "      <td>6</td>\n",
       "      <td>13</td>\n",
       "      <td>30.0</td>\n",
       "    </tr>\n",
       "    <tr>\n",
       "      <th>1</th>\n",
       "      <td>1690866</td>\n",
       "      <td>163593</td>\n",
       "      <td>5</td>\n",
       "      <td>5</td>\n",
       "      <td>12</td>\n",
       "      <td>9.0</td>\n",
       "    </tr>\n",
       "    <tr>\n",
       "      <th>2</th>\n",
       "      <td>1454967</td>\n",
       "      <td>39980</td>\n",
       "      <td>4</td>\n",
       "      <td>5</td>\n",
       "      <td>19</td>\n",
       "      <td>2.0</td>\n",
       "    </tr>\n",
       "    <tr>\n",
       "      <th>3</th>\n",
       "      <td>1768857</td>\n",
       "      <td>82516</td>\n",
       "      <td>56</td>\n",
       "      <td>0</td>\n",
       "      <td>20</td>\n",
       "      <td>10.0</td>\n",
       "    </tr>\n",
       "    <tr>\n",
       "      <th>4</th>\n",
       "      <td>3007858</td>\n",
       "      <td>196724</td>\n",
       "      <td>2</td>\n",
       "      <td>4</td>\n",
       "      <td>12</td>\n",
       "      <td>17.0</td>\n",
       "    </tr>\n",
       "    <tr>\n",
       "      <th>...</th>\n",
       "      <td>...</td>\n",
       "      <td>...</td>\n",
       "      <td>...</td>\n",
       "      <td>...</td>\n",
       "      <td>...</td>\n",
       "      <td>...</td>\n",
       "    </tr>\n",
       "    <tr>\n",
       "      <th>478947</th>\n",
       "      <td>3210681</td>\n",
       "      <td>5617</td>\n",
       "      <td>5</td>\n",
       "      <td>1</td>\n",
       "      <td>14</td>\n",
       "      <td>7.0</td>\n",
       "    </tr>\n",
       "    <tr>\n",
       "      <th>478948</th>\n",
       "      <td>3270802</td>\n",
       "      <td>112087</td>\n",
       "      <td>2</td>\n",
       "      <td>3</td>\n",
       "      <td>13</td>\n",
       "      <td>6.0</td>\n",
       "    </tr>\n",
       "    <tr>\n",
       "      <th>478949</th>\n",
       "      <td>885349</td>\n",
       "      <td>82944</td>\n",
       "      <td>16</td>\n",
       "      <td>2</td>\n",
       "      <td>11</td>\n",
       "      <td>6.0</td>\n",
       "    </tr>\n",
       "    <tr>\n",
       "      <th>478950</th>\n",
       "      <td>216274</td>\n",
       "      <td>4391</td>\n",
       "      <td>3</td>\n",
       "      <td>3</td>\n",
       "      <td>8</td>\n",
       "      <td>8.0</td>\n",
       "    </tr>\n",
       "    <tr>\n",
       "      <th>478951</th>\n",
       "      <td>2071924</td>\n",
       "      <td>1730</td>\n",
       "      <td>18</td>\n",
       "      <td>1</td>\n",
       "      <td>14</td>\n",
       "      <td>15.0</td>\n",
       "    </tr>\n",
       "  </tbody>\n",
       "</table>\n",
       "<p>478952 rows × 6 columns</p>\n",
       "</div>"
      ],
      "text/plain": [
       "        order_id  user_id  order_number  order_dow  order_hour_of_day  \\\n",
       "0        1515936   183418            11          6                 13   \n",
       "1        1690866   163593             5          5                 12   \n",
       "2        1454967    39980             4          5                 19   \n",
       "3        1768857    82516            56          0                 20   \n",
       "4        3007858   196724             2          4                 12   \n",
       "...          ...      ...           ...        ...                ...   \n",
       "478947   3210681     5617             5          1                 14   \n",
       "478948   3270802   112087             2          3                 13   \n",
       "478949    885349    82944            16          2                 11   \n",
       "478950    216274     4391             3          3                  8   \n",
       "478951   2071924     1730            18          1                 14   \n",
       "\n",
       "        days_since_prior_order  \n",
       "0                         30.0  \n",
       "1                          9.0  \n",
       "2                          2.0  \n",
       "3                         10.0  \n",
       "4                         17.0  \n",
       "...                        ...  \n",
       "478947                     7.0  \n",
       "478948                     6.0  \n",
       "478949                     6.0  \n",
       "478950                     8.0  \n",
       "478951                    15.0  \n",
       "\n",
       "[478952 rows x 6 columns]"
      ]
     },
     "execution_count": 9,
     "metadata": {},
     "output_type": "execute_result"
    }
   ],
   "source": [
    "# Remove duplicate orders\n",
    "df_instacart_orders = df_instacart_orders.drop_duplicates()\n",
    "df_instacart_orders.reset_index(drop=True, inplace=True)\n",
    "df_instacart_orders"
   ]
  },
  {
   "cell_type": "code",
   "execution_count": 10,
   "id": "0b2396a2",
   "metadata": {},
   "outputs": [
    {
     "name": "stdout",
     "output_type": "stream",
     "text": [
      "The series object wednesday_2am contains 15 duplicate values.\n",
      "\n",
      "The instacart_orders df contains 0 duplicate values.\n"
     ]
    }
   ],
   "source": [
    "# Double check for duplicate rows\n",
    "# There could be implicit duplicates, each order ID should be unique, so I will check those\n",
    "print(f\"The series object wednesday_2am contains {wednesday_2am['order_id'].duplicated().sum()} duplicate values.\\n\")\n",
    "\n",
    "#Double checking entire df\n",
    "print(f\"The instacart_orders df contains {df_instacart_orders.duplicated().sum()} duplicate values.\")"
   ]
  },
  {
   "cell_type": "code",
   "execution_count": 11,
   "id": "f6113ef1",
   "metadata": {},
   "outputs": [
    {
     "data": {
      "text/plain": [
       "0"
      ]
     },
     "execution_count": 11,
     "metadata": {},
     "output_type": "execute_result"
    }
   ],
   "source": [
    "# Double check for duplicate order IDs only\n",
    "df_instacart_orders['order_id'].duplicated().sum()"
   ]
  },
  {
   "cell_type": "markdown",
   "id": "211bebbe",
   "metadata": {},
   "source": []
  },
  {
   "cell_type": "markdown",
   "id": "5e8905ae",
   "metadata": {},
   "source": [
    "In the instacart_orders data, We have found 15 duplicate values and stored them in their own DataFrame. We then used this DataFrame to drop rows from the original read DateFrame by dropping rows where the index matched, and reset the indices. Then we  checked for implicit duplicates by confirming that each order_id was in fact unique as it is intended. Using a formatted string, We have displayed that there are in fact no duplicate values."
   ]
  },
  {
   "cell_type": "markdown",
   "id": "45e6bc46",
   "metadata": {},
   "source": [
    "### `products` data frame"
   ]
  },
  {
   "cell_type": "code",
   "execution_count": 12,
   "id": "5f526b5b-8175-46fa-a0fd-441767d50e64",
   "metadata": {},
   "outputs": [
    {
     "name": "stdout",
     "output_type": "stream",
     "text": [
      "There are 0 duplicate values in the \"products\" data.\n"
     ]
    }
   ],
   "source": [
    "# Check for fully duplicate rows\n",
    "df_products_dups = df_products.duplicated()\n",
    "print(f\"There are {df_products_dups.sum()} duplicate values in the \\\"products\\\" data.\")"
   ]
  },
  {
   "cell_type": "code",
   "execution_count": 13,
   "id": "88daa4f4",
   "metadata": {},
   "outputs": [
    {
     "data": {
      "text/plain": [
       "0"
      ]
     },
     "execution_count": 13,
     "metadata": {},
     "output_type": "execute_result"
    }
   ],
   "source": [
    "# Check for just duplicate product IDs\n",
    "prod_dup_ids = df_products['product_id'].duplicated().sum()\n",
    "prod_dup_ids"
   ]
  },
  {
   "cell_type": "code",
   "execution_count": 14,
   "id": "c773f0bf",
   "metadata": {},
   "outputs": [
    {
     "name": "stdout",
     "output_type": "stream",
     "text": [
      "There are 1361 total product name duplicates.\n",
      "\n"
     ]
    },
    {
     "data": {
      "text/html": [
       "<div>\n",
       "<style scoped>\n",
       "    .dataframe tbody tr th:only-of-type {\n",
       "        vertical-align: middle;\n",
       "    }\n",
       "\n",
       "    .dataframe tbody tr th {\n",
       "        vertical-align: top;\n",
       "    }\n",
       "\n",
       "    .dataframe thead th {\n",
       "        text-align: right;\n",
       "    }\n",
       "</style>\n",
       "<table border=\"1\" class=\"dataframe\">\n",
       "  <thead>\n",
       "    <tr style=\"text-align: right;\">\n",
       "      <th></th>\n",
       "      <th>product_id</th>\n",
       "      <th>product_name</th>\n",
       "      <th>aisle_id</th>\n",
       "      <th>department_id</th>\n",
       "    </tr>\n",
       "  </thead>\n",
       "  <tbody>\n",
       "    <tr>\n",
       "      <th>14872</th>\n",
       "      <td>14873</td>\n",
       "      <td>fruit cocktail in heavy syrup</td>\n",
       "      <td>99</td>\n",
       "      <td>15</td>\n",
       "    </tr>\n",
       "    <tr>\n",
       "      <th>42570</th>\n",
       "      <td>42571</td>\n",
       "      <td>fruit cocktail in heavy syrup</td>\n",
       "      <td>99</td>\n",
       "      <td>15</td>\n",
       "    </tr>\n",
       "  </tbody>\n",
       "</table>\n",
       "</div>"
      ],
      "text/plain": [
       "       product_id                   product_name  aisle_id  department_id\n",
       "14872       14873  fruit cocktail in heavy syrup        99             15\n",
       "42570       42571  fruit cocktail in heavy syrup        99             15"
      ]
     },
     "execution_count": 14,
     "metadata": {},
     "output_type": "execute_result"
    }
   ],
   "source": [
    "# Check for just duplicate product names (convert names to lowercase to compare better)\n",
    "# Going to permanently change these to lowercase\n",
    "df_products['product_name'] = df_products['product_name'].str.lower()\n",
    "prod_name_dups = df_products['product_name'].duplicated()\n",
    "\n",
    "print(f\"There are {prod_name_dups.sum()} total product name duplicates.\\n\")\n",
    "\n",
    "df_products['product_name'].isna().sum() #most of the duplicate names are missing values. There are some non-blanks\n",
    "                                         #that should be safe to remove. \n",
    "\n",
    "df_duplicate_prods_index_2 = df_products[prod_name_dups]\n",
    "df_duplicate_prods_index_2.sample(20)\n",
    "\n",
    "df_products[df_products['product_name'] == 'fruit cocktail in heavy syrup'] #we can see that product_id is unique, but name is not"
   ]
  },
  {
   "cell_type": "code",
   "execution_count": 15,
   "id": "01efd02e",
   "metadata": {},
   "outputs": [
    {
     "name": "stdout",
     "output_type": "stream",
     "text": [
      "104\n",
      "(49590, 5)\n"
     ]
    }
   ],
   "source": [
    "# Check for duplicate product names that aren't missing\n",
    "# Check for duplicate product names that aren't missing (that are not null values)\n",
    "non_nulls_prod_name = df_products[df_products['product_name'].notna()]\n",
    "#print(non_nulls_prod_name.head(50))\n",
    "#print()\n",
    "\n",
    "#subset product_name\n",
    "non_nulls_dup_count = non_nulls_prod_name.duplicated(subset='product_name')\n",
    "\n",
    "print(non_nulls_dup_count.sum()) #there are 104 non-null dups\n",
    "\n",
    "\n",
    "#drop these 104 values\n",
    "df_prod_dup_index = non_nulls_dup_count[non_nulls_dup_count].index #list of 104 indices\n",
    "df_products = df_products.drop(index=df_prod_dup_index).reset_index()\n",
    "print(df_products.shape) #prev 49694: 49694 - 49590 = 104, boom!\n",
    "#print(df_products.info())"
   ]
  },
  {
   "cell_type": "markdown",
   "id": "9da8d293",
   "metadata": {},
   "source": [
    "When looking at the products data, Originally there were no duplicate values. This was because the product_id column was still unique on the implicit duplicate product names; I then needed to analyze the product names. To begin, I convert them all to lowercase, to better catch the duplicates and removed all null values so those were not being caught. I was able to determine that there were 104 duplicate non-null product names with unique product ids, and therefore removed those 104 from the original database, and reset the indices."
   ]
  },
  {
   "cell_type": "markdown",
   "id": "60f30db1",
   "metadata": {},
   "source": [
    "### `departments` data frame"
   ]
  },
  {
   "cell_type": "code",
   "execution_count": 16,
   "id": "fb410ad4-0fbf-4b80-bb09-23fdea79afe3",
   "metadata": {},
   "outputs": [
    {
     "name": "stdout",
     "output_type": "stream",
     "text": [
      "0\n",
      "\n",
      "['frozen' 'other' 'bakery' 'produce' 'alcohol' 'international' 'beverages'\n",
      " 'pets' 'dry goods pasta' 'bulk' 'personal care' 'meat seafood' 'pantry'\n",
      " 'breakfast' 'canned goods' 'dairy eggs' 'household' 'babies' 'snacks'\n",
      " 'deli' 'missing']\n"
     ]
    }
   ],
   "source": [
    "print(df_departments.duplicated().sum())\n",
    "print()\n",
    "print(df_departments['department'].unique())"
   ]
  },
  {
   "cell_type": "markdown",
   "id": "bd30d78e",
   "metadata": {},
   "source": [
    "There are no duplicate values or implicit duplicates. The data types are also correct so there is further processing is necessary."
   ]
  },
  {
   "cell_type": "markdown",
   "id": "889349c1",
   "metadata": {},
   "source": [
    "### `aisles` data frame"
   ]
  },
  {
   "cell_type": "code",
   "execution_count": 17,
   "id": "9da89fb9-4679-40f5-ad0d-c34df753a3f8",
   "metadata": {},
   "outputs": [
    {
     "name": "stdout",
     "output_type": "stream",
     "text": [
      "There are 0 duplicate values in the aisles dataset.\n",
      "\n",
      "The number of duplicate values in the aisles column are 0.\n"
     ]
    }
   ],
   "source": [
    "print(f\"There are {df_aisles.duplicated().sum()} duplicate values in the aisles dataset.\")\n",
    "print()\n",
    "print(f\"The number of duplicate values in the aisles column are {df_aisles['aisle_id'].duplicated().sum()}.\")"
   ]
  },
  {
   "cell_type": "markdown",
   "id": "ac63826f",
   "metadata": {},
   "source": [
    "There are no duplicate values or implicit duplicates. The data types are also correct. No further processing is necessary. It should be noted that \"other\" is 6 and \"missing\" is 100."
   ]
  },
  {
   "cell_type": "markdown",
   "id": "274cd06a",
   "metadata": {},
   "source": [
    "### `order_products` data frame"
   ]
  },
  {
   "cell_type": "code",
   "execution_count": 18,
   "id": "52326689-84a8-4b8f-a881-7c68780f62c9",
   "metadata": {},
   "outputs": [
    {
     "data": {
      "text/plain": [
       "0"
      ]
     },
     "execution_count": 18,
     "metadata": {},
     "output_type": "execute_result"
    }
   ],
   "source": [
    "# Check for fullly duplicate rows\n",
    "df_order_products.duplicated().sum()"
   ]
  },
  {
   "cell_type": "code",
   "execution_count": 19,
   "id": "7b861391",
   "metadata": {},
   "outputs": [
    {
     "name": "stdout",
     "output_type": "stream",
     "text": [
      "0\n"
     ]
    }
   ],
   "source": [
    "# Double check for any other tricky duplicates\n",
    "#check individual columns\n",
    "df_order_products.columns = ['order_id', 'product_id', 'add_to_cart_order', 'reordered']\n",
    "\n",
    "print(df_order_products[['order_id', 'product_id']].duplicated().sum())\n"
   ]
  },
  {
   "cell_type": "code",
   "execution_count": 20,
   "id": "6ab14455",
   "metadata": {},
   "outputs": [
    {
     "data": {
      "text/html": [
       "<div>\n",
       "<style scoped>\n",
       "    .dataframe tbody tr th:only-of-type {\n",
       "        vertical-align: middle;\n",
       "    }\n",
       "\n",
       "    .dataframe tbody tr th {\n",
       "        vertical-align: top;\n",
       "    }\n",
       "\n",
       "    .dataframe thead th {\n",
       "        text-align: right;\n",
       "    }\n",
       "</style>\n",
       "<table border=\"1\" class=\"dataframe\">\n",
       "  <thead>\n",
       "    <tr style=\"text-align: right;\">\n",
       "      <th></th>\n",
       "      <th>order_id</th>\n",
       "      <th>product_id</th>\n",
       "    </tr>\n",
       "  </thead>\n",
       "  <tbody>\n",
       "    <tr>\n",
       "      <th>1420535</th>\n",
       "      <td>4</td>\n",
       "      <td>10054</td>\n",
       "    </tr>\n",
       "    <tr>\n",
       "      <th>2507695</th>\n",
       "      <td>4</td>\n",
       "      <td>17616</td>\n",
       "    </tr>\n",
       "    <tr>\n",
       "      <th>3977678</th>\n",
       "      <td>4</td>\n",
       "      <td>21351</td>\n",
       "    </tr>\n",
       "    <tr>\n",
       "      <th>1172585</th>\n",
       "      <td>4</td>\n",
       "      <td>22598</td>\n",
       "    </tr>\n",
       "    <tr>\n",
       "      <th>3189411</th>\n",
       "      <td>4</td>\n",
       "      <td>25146</td>\n",
       "    </tr>\n",
       "    <tr>\n",
       "      <th>...</th>\n",
       "      <td>...</td>\n",
       "      <td>...</td>\n",
       "    </tr>\n",
       "    <tr>\n",
       "      <th>719972</th>\n",
       "      <td>3421077</td>\n",
       "      <td>26940</td>\n",
       "    </tr>\n",
       "    <tr>\n",
       "      <th>4000108</th>\n",
       "      <td>3421077</td>\n",
       "      <td>27845</td>\n",
       "    </tr>\n",
       "    <tr>\n",
       "      <th>1505667</th>\n",
       "      <td>3421077</td>\n",
       "      <td>27966</td>\n",
       "    </tr>\n",
       "    <tr>\n",
       "      <th>4417991</th>\n",
       "      <td>3421077</td>\n",
       "      <td>45007</td>\n",
       "    </tr>\n",
       "    <tr>\n",
       "      <th>4473670</th>\n",
       "      <td>3421079</td>\n",
       "      <td>30136</td>\n",
       "    </tr>\n",
       "  </tbody>\n",
       "</table>\n",
       "<p>4545007 rows × 2 columns</p>\n",
       "</div>"
      ],
      "text/plain": [
       "         order_id  product_id\n",
       "1420535         4       10054\n",
       "2507695         4       17616\n",
       "3977678         4       21351\n",
       "1172585         4       22598\n",
       "3189411         4       25146\n",
       "...           ...         ...\n",
       "719972    3421077       26940\n",
       "4000108   3421077       27845\n",
       "1505667   3421077       27966\n",
       "4417991   3421077       45007\n",
       "4473670   3421079       30136\n",
       "\n",
       "[4545007 rows x 2 columns]"
      ]
     },
     "execution_count": 20,
     "metadata": {},
     "output_type": "execute_result"
    }
   ],
   "source": [
    "df_order_products[['order_id', 'product_id']].sort_values(by=['order_id', 'product_id'])"
   ]
  },
  {
   "cell_type": "markdown",
   "id": "1e46de76",
   "metadata": {},
   "source": [
    "## Find and remove missing values\n"
   ]
  },
  {
   "cell_type": "markdown",
   "id": "c0aebd78",
   "metadata": {},
   "source": [
    "### `products` data frame"
   ]
  },
  {
   "cell_type": "code",
   "execution_count": 21,
   "id": "fe4a8b0f",
   "metadata": {},
   "outputs": [
    {
     "data": {
      "text/plain": [
       "Index(['index', 'product_id', 'product_name', 'aisle_id', 'department_id'], dtype='object')"
      ]
     },
     "execution_count": 21,
     "metadata": {},
     "output_type": "execute_result"
    }
   ],
   "source": [
    "df_products.shape\n",
    "df_products.columns"
   ]
  },
  {
   "cell_type": "code",
   "execution_count": 22,
   "id": "e96167bc",
   "metadata": {},
   "outputs": [
    {
     "name": "stdout",
     "output_type": "stream",
     "text": [
      "100    1258\n",
      "Name: aisle_id, dtype: int64\n"
     ]
    },
    {
     "data": {
      "text/html": [
       "<div>\n",
       "<style scoped>\n",
       "    .dataframe tbody tr th:only-of-type {\n",
       "        vertical-align: middle;\n",
       "    }\n",
       "\n",
       "    .dataframe tbody tr th {\n",
       "        vertical-align: top;\n",
       "    }\n",
       "\n",
       "    .dataframe thead th {\n",
       "        text-align: right;\n",
       "    }\n",
       "</style>\n",
       "<table border=\"1\" class=\"dataframe\">\n",
       "  <thead>\n",
       "    <tr style=\"text-align: right;\">\n",
       "      <th></th>\n",
       "      <th>index</th>\n",
       "      <th>product_id</th>\n",
       "      <th>product_name</th>\n",
       "      <th>aisle_id</th>\n",
       "      <th>department_id</th>\n",
       "    </tr>\n",
       "  </thead>\n",
       "  <tbody>\n",
       "    <tr>\n",
       "      <th>31736</th>\n",
       "      <td>31776</td>\n",
       "      <td>31777</td>\n",
       "      <td>sunscreen spf 50+</td>\n",
       "      <td>6</td>\n",
       "      <td>2</td>\n",
       "    </tr>\n",
       "    <tr>\n",
       "      <th>29078</th>\n",
       "      <td>29108</td>\n",
       "      <td>29109</td>\n",
       "      <td>h2o closer personal lubricant</td>\n",
       "      <td>6</td>\n",
       "      <td>2</td>\n",
       "    </tr>\n",
       "    <tr>\n",
       "      <th>43319</th>\n",
       "      <td>43392</td>\n",
       "      <td>43393</td>\n",
       "      <td>antibacterial hand soap</td>\n",
       "      <td>6</td>\n",
       "      <td>2</td>\n",
       "    </tr>\n",
       "    <tr>\n",
       "      <th>39450</th>\n",
       "      <td>39510</td>\n",
       "      <td>39511</td>\n",
       "      <td>baby diaper rash ointment</td>\n",
       "      <td>6</td>\n",
       "      <td>2</td>\n",
       "    </tr>\n",
       "    <tr>\n",
       "      <th>34360</th>\n",
       "      <td>34403</td>\n",
       "      <td>34404</td>\n",
       "      <td>facial mask age defying hydro serum</td>\n",
       "      <td>6</td>\n",
       "      <td>2</td>\n",
       "    </tr>\n",
       "    <tr>\n",
       "      <th>28491</th>\n",
       "      <td>28521</td>\n",
       "      <td>28522</td>\n",
       "      <td>coconut flour</td>\n",
       "      <td>6</td>\n",
       "      <td>2</td>\n",
       "    </tr>\n",
       "    <tr>\n",
       "      <th>39400</th>\n",
       "      <td>39460</td>\n",
       "      <td>39461</td>\n",
       "      <td>coffee mate french vanilla creamer packets</td>\n",
       "      <td>6</td>\n",
       "      <td>2</td>\n",
       "    </tr>\n",
       "    <tr>\n",
       "      <th>1654</th>\n",
       "      <td>1654</td>\n",
       "      <td>1655</td>\n",
       "      <td>moderate absorbency for women  underwear large</td>\n",
       "      <td>6</td>\n",
       "      <td>2</td>\n",
       "    </tr>\n",
       "    <tr>\n",
       "      <th>23165</th>\n",
       "      <td>23185</td>\n",
       "      <td>23186</td>\n",
       "      <td>naturals flushable moist wipes tush wipes</td>\n",
       "      <td>6</td>\n",
       "      <td>2</td>\n",
       "    </tr>\n",
       "    <tr>\n",
       "      <th>1723</th>\n",
       "      <td>1723</td>\n",
       "      <td>1724</td>\n",
       "      <td>coconut lime frozen pop dairy free gluten free</td>\n",
       "      <td>6</td>\n",
       "      <td>2</td>\n",
       "    </tr>\n",
       "  </tbody>\n",
       "</table>\n",
       "</div>"
      ],
      "text/plain": [
       "       index  product_id                                    product_name  \\\n",
       "31736  31776       31777                               sunscreen spf 50+   \n",
       "29078  29108       29109                   h2o closer personal lubricant   \n",
       "43319  43392       43393                         antibacterial hand soap   \n",
       "39450  39510       39511                       baby diaper rash ointment   \n",
       "34360  34403       34404             facial mask age defying hydro serum   \n",
       "28491  28521       28522                                   coconut flour   \n",
       "39400  39460       39461      coffee mate french vanilla creamer packets   \n",
       "1654    1654        1655  moderate absorbency for women  underwear large   \n",
       "23165  23185       23186       naturals flushable moist wipes tush wipes   \n",
       "1723    1723        1724  coconut lime frozen pop dairy free gluten free   \n",
       "\n",
       "       aisle_id  department_id  \n",
       "31736         6              2  \n",
       "29078         6              2  \n",
       "43319         6              2  \n",
       "39450         6              2  \n",
       "34360         6              2  \n",
       "28491         6              2  \n",
       "39400         6              2  \n",
       "1654          6              2  \n",
       "23165         6              2  \n",
       "1723          6              2  "
      ]
     },
     "execution_count": 22,
     "metadata": {},
     "output_type": "execute_result"
    }
   ],
   "source": [
    "# Are all of the missing product names associated with aisle ID 100?\n",
    "# Are all of the missing product names associated with aisle ID 100?\n",
    "missing_prods = df_products[df_products['product_name'].isna()]\n",
    "print(missing_prods['aisle_id'].value_counts())\n",
    "\n",
    "# We know from info() that there are 1,258 present null values. From our output here, it appears all of them are on ID 100.\n",
    "# Check \"other\" category\n",
    "other_prods = df_products[df_products['aisle_id'] == 6]\n",
    "other_prods.sample(10)\n",
    "#It appears the other category is not related to the nulls."
   ]
  },
  {
   "cell_type": "code",
   "execution_count": 23,
   "id": "8fd0a541",
   "metadata": {},
   "outputs": [
    {
     "name": "stdout",
     "output_type": "stream",
     "text": [
      "Department ID 21 is: \"missing\"\n",
      "\n",
      "21    1258\n",
      "Name: department_id, dtype: int64\n"
     ]
    }
   ],
   "source": [
    "# Are all of the missing product names associated with department ID 21?\n",
    "print(f\"Department ID 21 is: \\\"{df_departments.loc[20, 'department']}\\\"\\n\")\n",
    "print(missing_prods['department_id'].value_counts())\n",
    "\n",
    "# Based on our output each missing product name is associated with department 21 \n"
   ]
  },
  {
   "cell_type": "code",
   "execution_count": 24,
   "id": "325c3464",
   "metadata": {},
   "outputs": [
    {
     "name": "stdout",
     "output_type": "stream",
     "text": [
      "Department ID 21 is: \"missing\"\n",
      "\n",
      "Aisle ID 100 is: \"missing\"\n"
     ]
    }
   ],
   "source": [
    "# What is this ailse and department?\n",
    "print(f\"Department ID 21 is: \\\"{df_departments.loc[20, 'department']}\\\"\\n\")\n",
    "print(f\"Aisle ID 100 is: \\\"{df_aisles.loc[99, 'aisle']}\\\"\")"
   ]
  },
  {
   "cell_type": "code",
   "execution_count": 25,
   "id": "6b295120",
   "metadata": {},
   "outputs": [
    {
     "data": {
      "text/plain": [
       "index            0\n",
       "product_id       0\n",
       "product_name     0\n",
       "aisle_id         0\n",
       "department_id    0\n",
       "dtype: int64"
      ]
     },
     "execution_count": 25,
     "metadata": {},
     "output_type": "execute_result"
    }
   ],
   "source": [
    "# Fill missing product names with 'Unknown'\n",
    "df_products['product_name'] = df_products['product_name'].fillna('Unknown')\n",
    "\n",
    "df_products.isna().sum()"
   ]
  },
  {
   "cell_type": "markdown",
   "id": "fc70e5ad",
   "metadata": {},
   "source": [
    "We checked our work with isna. "
   ]
  },
  {
   "cell_type": "markdown",
   "id": "7eb45c86",
   "metadata": {},
   "source": [
    "### `orders` data frame"
   ]
  },
  {
   "cell_type": "code",
   "execution_count": 26,
   "id": "93e41d96",
   "metadata": {},
   "outputs": [
    {
     "name": "stdout",
     "output_type": "stream",
     "text": [
      "<class 'pandas.core.frame.DataFrame'>\n",
      "RangeIndex: 478952 entries, 0 to 478951\n",
      "Data columns (total 6 columns):\n",
      " #   Column                  Non-Null Count   Dtype  \n",
      "---  ------                  --------------   -----  \n",
      " 0   order_id                478952 non-null  int64  \n",
      " 1   user_id                 478952 non-null  int64  \n",
      " 2   order_number            478952 non-null  int64  \n",
      " 3   order_dow               478952 non-null  int64  \n",
      " 4   order_hour_of_day       478952 non-null  int64  \n",
      " 5   days_since_prior_order  450135 non-null  float64\n",
      "dtypes: float64(1), int64(5)\n",
      "memory usage: 21.9 MB\n"
     ]
    },
    {
     "data": {
      "text/plain": [
       "array([30.,  9.,  2., 10., 17., 15., 22.,  4.,  8.,  3., 12., 11.,  7.,\n",
       "        1.,  5.,  6., 14., nan, 20., 16., 24., 23., 27., 13.,  0., 28.,\n",
       "       21., 25., 19., 18., 29., 26.])"
      ]
     },
     "execution_count": 26,
     "metadata": {},
     "output_type": "execute_result"
    }
   ],
   "source": [
    "df_instacart_orders.info()\n",
    "df_instacart_orders['days_since_prior_order'].unique()"
   ]
  },
  {
   "cell_type": "code",
   "execution_count": 27,
   "id": "166e5a86",
   "metadata": {},
   "outputs": [
    {
     "name": "stdout",
     "output_type": "stream",
     "text": [
      "0\n",
      "\n"
     ]
    },
    {
     "data": {
      "text/html": [
       "<div>\n",
       "<style scoped>\n",
       "    .dataframe tbody tr th:only-of-type {\n",
       "        vertical-align: middle;\n",
       "    }\n",
       "\n",
       "    .dataframe tbody tr th {\n",
       "        vertical-align: top;\n",
       "    }\n",
       "\n",
       "    .dataframe thead th {\n",
       "        text-align: right;\n",
       "    }\n",
       "</style>\n",
       "<table border=\"1\" class=\"dataframe\">\n",
       "  <thead>\n",
       "    <tr style=\"text-align: right;\">\n",
       "      <th></th>\n",
       "      <th>order_id</th>\n",
       "      <th>user_id</th>\n",
       "      <th>order_number</th>\n",
       "      <th>order_dow</th>\n",
       "      <th>order_hour_of_day</th>\n",
       "      <th>days_since_prior_order</th>\n",
       "    </tr>\n",
       "  </thead>\n",
       "  <tbody>\n",
       "    <tr>\n",
       "      <th>50905</th>\n",
       "      <td>720139</td>\n",
       "      <td>84511</td>\n",
       "      <td>1</td>\n",
       "      <td>4</td>\n",
       "      <td>13</td>\n",
       "      <td>NaN</td>\n",
       "    </tr>\n",
       "    <tr>\n",
       "      <th>187097</th>\n",
       "      <td>869668</td>\n",
       "      <td>149541</td>\n",
       "      <td>1</td>\n",
       "      <td>6</td>\n",
       "      <td>16</td>\n",
       "      <td>NaN</td>\n",
       "    </tr>\n",
       "    <tr>\n",
       "      <th>269148</th>\n",
       "      <td>1517359</td>\n",
       "      <td>51762</td>\n",
       "      <td>1</td>\n",
       "      <td>2</td>\n",
       "      <td>18</td>\n",
       "      <td>NaN</td>\n",
       "    </tr>\n",
       "    <tr>\n",
       "      <th>161596</th>\n",
       "      <td>465146</td>\n",
       "      <td>184346</td>\n",
       "      <td>1</td>\n",
       "      <td>6</td>\n",
       "      <td>13</td>\n",
       "      <td>NaN</td>\n",
       "    </tr>\n",
       "    <tr>\n",
       "      <th>175221</th>\n",
       "      <td>1047440</td>\n",
       "      <td>195462</td>\n",
       "      <td>1</td>\n",
       "      <td>0</td>\n",
       "      <td>19</td>\n",
       "      <td>NaN</td>\n",
       "    </tr>\n",
       "    <tr>\n",
       "      <th>29335</th>\n",
       "      <td>99058</td>\n",
       "      <td>41433</td>\n",
       "      <td>1</td>\n",
       "      <td>0</td>\n",
       "      <td>14</td>\n",
       "      <td>NaN</td>\n",
       "    </tr>\n",
       "    <tr>\n",
       "      <th>356339</th>\n",
       "      <td>2560380</td>\n",
       "      <td>154643</td>\n",
       "      <td>1</td>\n",
       "      <td>4</td>\n",
       "      <td>14</td>\n",
       "      <td>NaN</td>\n",
       "    </tr>\n",
       "    <tr>\n",
       "      <th>363422</th>\n",
       "      <td>1913995</td>\n",
       "      <td>171552</td>\n",
       "      <td>1</td>\n",
       "      <td>1</td>\n",
       "      <td>11</td>\n",
       "      <td>NaN</td>\n",
       "    </tr>\n",
       "    <tr>\n",
       "      <th>437378</th>\n",
       "      <td>2490741</td>\n",
       "      <td>30411</td>\n",
       "      <td>1</td>\n",
       "      <td>0</td>\n",
       "      <td>10</td>\n",
       "      <td>NaN</td>\n",
       "    </tr>\n",
       "    <tr>\n",
       "      <th>322894</th>\n",
       "      <td>186310</td>\n",
       "      <td>92968</td>\n",
       "      <td>1</td>\n",
       "      <td>6</td>\n",
       "      <td>1</td>\n",
       "      <td>NaN</td>\n",
       "    </tr>\n",
       "  </tbody>\n",
       "</table>\n",
       "</div>"
      ],
      "text/plain": [
       "        order_id  user_id  order_number  order_dow  order_hour_of_day  \\\n",
       "50905     720139    84511             1          4                 13   \n",
       "187097    869668   149541             1          6                 16   \n",
       "269148   1517359    51762             1          2                 18   \n",
       "161596    465146   184346             1          6                 13   \n",
       "175221   1047440   195462             1          0                 19   \n",
       "29335      99058    41433             1          0                 14   \n",
       "356339   2560380   154643             1          4                 14   \n",
       "363422   1913995   171552             1          1                 11   \n",
       "437378   2490741    30411             1          0                 10   \n",
       "322894    186310    92968             1          6                  1   \n",
       "\n",
       "        days_since_prior_order  \n",
       "50905                      NaN  \n",
       "187097                     NaN  \n",
       "269148                     NaN  \n",
       "161596                     NaN  \n",
       "175221                     NaN  \n",
       "29335                      NaN  \n",
       "356339                     NaN  \n",
       "363422                     NaN  \n",
       "437378                     NaN  \n",
       "322894                     NaN  "
      ]
     },
     "execution_count": 27,
     "metadata": {},
     "output_type": "execute_result"
    }
   ],
   "source": [
    "# Are there any missing values where it's not a customer's first order?\n",
    "not_first_order = df_instacart_orders[df_instacart_orders['order_number'] > 1]\n",
    "\n",
    "missing_not_first_order = not_first_order['days_since_prior_order'].isna().sum()\n",
    "print(missing_not_first_order)\n",
    "print()\n",
    "\n",
    "first_order = df_instacart_orders[df_instacart_orders['order_number'] == 1]\n",
    "first_order.sample(10)"
   ]
  },
  {
   "cell_type": "markdown",
   "id": "4e23d089",
   "metadata": {},
   "source": [
    "THere are no null values when it is not a customers first order. We wont be able to convert to a float, however it is incorrect to remove all first order rows. The correct choice is to leave these nulls. It does not make sense to put another value. \n",
    "\n"
   ]
  },
  {
   "cell_type": "markdown",
   "id": "69dc9ca4",
   "metadata": {},
   "source": [
    "### `order_products` data frame"
   ]
  },
  {
   "cell_type": "code",
   "execution_count": 28,
   "id": "b8240253",
   "metadata": {},
   "outputs": [
    {
     "name": "stdout",
     "output_type": "stream",
     "text": [
      "<class 'pandas.core.frame.DataFrame'>\n",
      "RangeIndex: 4545007 entries, 0 to 4545006\n",
      "Data columns (total 4 columns):\n",
      " #   Column             Non-Null Count    Dtype  \n",
      "---  ------             --------------    -----  \n",
      " 0   order_id           4545007 non-null  int64  \n",
      " 1   product_id         4545007 non-null  int64  \n",
      " 2   add_to_cart_order  4544171 non-null  float64\n",
      " 3   reordered          4545007 non-null  int64  \n",
      "dtypes: float64(1), int64(3)\n",
      "memory usage: 138.7 MB\n"
     ]
    }
   ],
   "source": [
    "df_order_products.info(show_counts=True)"
   ]
  },
  {
   "cell_type": "code",
   "execution_count": 29,
   "id": "9a78e5ee",
   "metadata": {},
   "outputs": [
    {
     "name": "stdout",
     "output_type": "stream",
     "text": [
      "The min of the column is 1.0, and the max of the column is 64.0\n"
     ]
    }
   ],
   "source": [
    "# What are the min and max values in this column?\n",
    "max = df_order_products['add_to_cart_order'].max()\n",
    "min = df_order_products['add_to_cart_order'].min()\n",
    "\n",
    "print(f\"The min of the column is {min}, and the max of the column is {max}\")"
   ]
  },
  {
   "cell_type": "code",
   "execution_count": 30,
   "id": "ab9d0c2b",
   "metadata": {},
   "outputs": [
    {
     "data": {
      "text/plain": [
       "70"
      ]
     },
     "execution_count": 30,
     "metadata": {},
     "output_type": "execute_result"
    }
   ],
   "source": [
    "# Save all order IDs with at least one missing value in 'add_to_cart_order'\n",
    "order_ids_w_miss = df_order_products[df_order_products['add_to_cart_order'].isna()]\n",
    "#print(order_ids_w_miss.head(10))\n",
    "order_ids_w_miss_filt = order_ids_w_miss['order_id'].unique()\n",
    "\n",
    "len(order_ids_w_miss_filt) #70 different order ids w/ null values"
   ]
  },
  {
   "cell_type": "code",
   "execution_count": 31,
   "id": "54c31695",
   "metadata": {
    "scrolled": false
   },
   "outputs": [
    {
     "data": {
      "text/plain": [
       "order_id\n",
       "9310        65\n",
       "747668      65\n",
       "1598369     65\n",
       "1677118     65\n",
       "2170451     65\n",
       "          ... \n",
       "1959075     98\n",
       "171934     104\n",
       "2136777    108\n",
       "3308010    115\n",
       "61355      127\n",
       "Length: 70, dtype: int64"
      ]
     },
     "execution_count": 31,
     "metadata": {},
     "output_type": "execute_result"
    }
   ],
   "source": [
    "# Do all orders with missing values have more than 64 products?\n",
    "df_order_products[df_order_products['order_id'].isin(order_ids_w_miss_filt)].groupby('order_id').size().sort_values()"
   ]
  },
  {
   "cell_type": "markdown",
   "id": "79cee9d4",
   "metadata": {},
   "source": [
    "<div class=\"alert alert-info\">\n",
    "<h4> Comments</h4>\n",
    "<h4>Based off the code ran above we can see that there are multiple missing values with more than 64 products.</h4> \n",
    "</div>"
   ]
  },
  {
   "cell_type": "code",
   "execution_count": 32,
   "id": "7a987d08",
   "metadata": {
    "scrolled": true
   },
   "outputs": [
    {
     "name": "stdout",
     "output_type": "stream",
     "text": [
      "<class 'pandas.core.frame.DataFrame'>\n",
      "RangeIndex: 4545007 entries, 0 to 4545006\n",
      "Data columns (total 4 columns):\n",
      " #   Column             Non-Null Count    Dtype\n",
      "---  ------             --------------    -----\n",
      " 0   order_id           4545007 non-null  int64\n",
      " 1   product_id         4545007 non-null  int64\n",
      " 2   add_to_cart_order  4545007 non-null  int64\n",
      " 3   reordered          4545007 non-null  int64\n",
      "dtypes: int64(4)\n",
      "memory usage: 138.7 MB\n"
     ]
    }
   ],
   "source": [
    "# Replace missing values with 999 and convert column to integer type\n",
    "df_order_products['add_to_cart_order'] = df_order_products['add_to_cart_order'].fillna(999).astype('int')\n",
    "\n",
    "df_order_products.info(show_counts=True)"
   ]
  },
  {
   "cell_type": "markdown",
   "id": "94a0db41",
   "metadata": {},
   "source": [
    "<div class=\"alert alert-info\">\n",
    "<h4> Comments</h4>\n",
    "\n",
    "<h4>During this section, I made the decision to change the data type for the column 'add_to_cart_order' to integers which are better used when processing arithmetic functions. Having null/NA values can disrupt the arthmetic process so, it was advised to replace these values with 999, in which I can easily omit values with this response.</h4> \n",
    "</div>"
   ]
  },
  {
   "cell_type": "markdown",
   "id": "turkish-kidney",
   "metadata": {},
   "source": [
    "# [A] Easy (must complete all to pass)"
   ]
  },
  {
   "cell_type": "markdown",
   "id": "short-capability",
   "metadata": {},
   "source": [
    "### [A1] Verify that the `'order_hour_of_day'` and `'order_dow'` values in the `orders` tables are sensible (i.e. `'order_hour_of_day'` ranges from 0 to 23 and `'order_dow'` ranges from 0 to 6)"
   ]
  },
  {
   "cell_type": "code",
   "execution_count": 33,
   "id": "growing-fruit",
   "metadata": {},
   "outputs": [
    {
     "data": {
      "text/plain": [
       "[0,\n",
       " 1,\n",
       " 2,\n",
       " 3,\n",
       " 4,\n",
       " 5,\n",
       " 6,\n",
       " 7,\n",
       " 8,\n",
       " 9,\n",
       " 10,\n",
       " 11,\n",
       " 12,\n",
       " 13,\n",
       " 14,\n",
       " 15,\n",
       " 16,\n",
       " 17,\n",
       " 18,\n",
       " 19,\n",
       " 20,\n",
       " 21,\n",
       " 22,\n",
       " 23]"
      ]
     },
     "execution_count": 33,
     "metadata": {},
     "output_type": "execute_result"
    }
   ],
   "source": [
    "sorted(df_instacart_orders['order_hour_of_day'].unique())"
   ]
  },
  {
   "cell_type": "code",
   "execution_count": 34,
   "id": "accessory-malaysia",
   "metadata": {},
   "outputs": [
    {
     "data": {
      "text/plain": [
       "[0, 1, 2, 3, 4, 5, 6]"
      ]
     },
     "execution_count": 34,
     "metadata": {},
     "output_type": "execute_result"
    }
   ],
   "source": [
    "sorted(df_instacart_orders['order_dow'].unique())"
   ]
  },
  {
   "cell_type": "markdown",
   "id": "a6743a70",
   "metadata": {},
   "source": [
    "### [A2] What time of day do people shop for groceries?"
   ]
  },
  {
   "cell_type": "code",
   "execution_count": 35,
   "id": "a36cca27",
   "metadata": {},
   "outputs": [
    {
     "data": {
      "text/plain": [
       "order_hour_of_day\n",
       "10    40578\n",
       "11    40032\n",
       "15    39789\n",
       "14    39631\n",
       "13    39007\n",
       "Name: order_id, dtype: int64"
      ]
     },
     "execution_count": 35,
     "metadata": {},
     "output_type": "execute_result"
    }
   ],
   "source": [
    "time_of_day = df_instacart_orders.groupby('order_hour_of_day')['order_id'].size()\n",
    "time_of_day.sort_values(ascending=False).head()"
   ]
  },
  {
   "cell_type": "code",
   "execution_count": 36,
   "id": "1536bea1",
   "metadata": {},
   "outputs": [
    {
     "data": {
      "image/png": "[encoded data removed]",
      "text/plain": [
       "<Figure size 1000x500 with 1 Axes>"
      ]
     },
     "metadata": {},
     "output_type": "display_data"
    }
   ],
   "source": [
    "# Plot histogram of time_of_day Series data; Use Rice's Rule for bins: n=478,952\n",
    "plt.figure(figsize=(10,5))\n",
    "\n",
    "#I want nice labels for each hour - create them using loop\n",
    "xtics = []\n",
    "for i in range(24):\n",
    "    xtics.append(i)\n",
    "    \n",
    "df_instacart_orders['order_hour_of_day'].plot(kind='hist',\n",
    "                                              bins=156,\n",
    "                                              color='skyblue',\n",
    "                                              edgecolor='black',\n",
    "                                              title='Popular Instacart Order Times')\n",
    "\n",
    "plt.xlabel('Time of Day (hrs/military)')\n",
    "plt.ylabel('Amount of Orders')\n",
    "plt.xticks(xtics)\n",
    "plt.show()"
   ]
  },
  {
   "cell_type": "markdown",
   "id": "11270eed",
   "metadata": {},
   "source": [
    "<div class=\"alert alert-info\" style=\"border-radius: 15px; box-shadow: 4px 4px 4px; border: 1px solid \">\n",
    "<h4> Comments</h4>\n",
    "\n",
    "<h4>The most popular times are 10:00 and 3:00pm, however there is a slight dip at noon interestingly. Also worth noting that at the extreme times in the day (ie: early morning and late at night), is preferred over early in the morning.</h4> \n",
    "</div>\n"
   ]
  },
  {
   "cell_type": "markdown",
   "id": "documented-command",
   "metadata": {},
   "source": [
    "### [A3] What day of the week do people shop for groceries?"
   ]
  },
  {
   "cell_type": "code",
   "execution_count": 37,
   "id": "chief-digit",
   "metadata": {},
   "outputs": [
    {
     "data": {
      "text/plain": [
       "order_dow\n",
       "0    84090\n",
       "1    82185\n",
       "2    65833\n",
       "5    63488\n",
       "6    62649\n",
       "Name: order_id, dtype: int64"
      ]
     },
     "execution_count": 37,
     "metadata": {},
     "output_type": "execute_result"
    }
   ],
   "source": [
    "orders_by_day = df_instacart_orders.groupby('order_dow')['order_id'].size()\n",
    "orders_by_day.sort_values(ascending=False).head()"
   ]
  },
  {
   "cell_type": "code",
   "execution_count": 38,
   "id": "0658b989",
   "metadata": {
    "scrolled": false
   },
   "outputs": [
    {
     "data": {
      "image/png": "[encoded data removed]",
      "text/plain": [
       "<Figure size 1000x500 with 1 Axes>"
      ]
     },
     "metadata": {},
     "output_type": "display_data"
    }
   ],
   "source": [
    "# Plot histogram of orders_by_day Series data; Use Rice's Rule for bins: n=478,952 - scaled back a bit for wider bars\n",
    "plt.figure(figsize=(10,5))\n",
    "\n",
    "#I want nice labels for each day - create them using loop\n",
    "xtics = []\n",
    "for i in range(7):\n",
    "    xtics.append(i)\n",
    "    \n",
    "df_instacart_orders['order_dow'].plot(kind='hist',\n",
    "                                      bins=50,\n",
    "                                      color='orange',\n",
    "                                      edgecolor='black',\n",
    "                                      title='Order Counts per Day of Week')\n",
    "\n",
    "plt.xlabel('Day of Week (0 = Sunday)')\n",
    "plt.ylabel('Amount of Orders')\n",
    "plt.xticks(xtics)\n",
    "plt.show()"
   ]
  },
  {
   "cell_type": "markdown",
   "id": "05f1f2ac",
   "metadata": {},
   "source": [
    "<div class=\"alert alert-info\" style=\"border-radius: 15px; box-shadow: 4px 4px 4px; border: 1px solid \">\n",
    "<h4> Comments</h4>\n",
    "\n",
    "<h4>Previvouly we made the assumption that Wednesday is day 3, then 0 and 1 correspond to Sunday and Monday, respectively. So it seems that customers are buying groceries at the end of the weekend/start of the week to have food for the rest of the week.</h4> \n",
    "</div>"
   ]
  },
  {
   "cell_type": "markdown",
   "id": "cutting-concert",
   "metadata": {},
   "source": [
    "### [A4] How long do people wait until placing another order?"
   ]
  },
  {
   "cell_type": "code",
   "execution_count": 39,
   "id": "c231f523",
   "metadata": {},
   "outputs": [
    {
     "data": {
      "image/png": "[encoded data removed]",
      "text/plain": [
       "<Figure size 1000x500 with 1 Axes>"
      ]
     },
     "metadata": {},
     "output_type": "display_data"
    }
   ],
   "source": [
    "# Plot histogram of days_since_prior_order column; Use Rice's Rule for bins: n=478,952\n",
    "plt.figure(figsize=(10,5))\n",
    "    \n",
    "df_instacart_orders['days_since_prior_order'].plot(kind='hist',\n",
    "                                      bins=156,\n",
    "                                      color='purple',\n",
    "                                      edgecolor='black',\n",
    "                                      title='Number of Days Since Last Order')\n",
    "\n",
    "plt.xlabel('Number of Days')\n",
    "plt.ylabel('Amount of Orders')\n",
    "plt.show()"
   ]
  },
  {
   "cell_type": "markdown",
   "id": "8d926614",
   "metadata": {},
   "source": [
    "<div class=\"alert alert-info\" style=\"border-radius: 15px; box-shadow: 4px 4px 4px; border: 1px solid \">\n",
    "<h4> Comments</h4>\n",
    "\n",
    "<h4>People tend to wait 8.67 days before opening the Instacart app and placing another order.\n",
    "\n",
    "Analysis: On average people wait 8-9 days before placing another order. Thats a little over a week. This could help us futher understand our customer shoping behavior as well as their overall happiness with our company. IMO we'd like to shorten that window or pursue more cilents to fill in that void.</h4> \n",
    "</div>"
   ]
  },
  {
   "cell_type": "markdown",
   "id": "tight-staff",
   "metadata": {},
   "source": [
    "# [B] Medium (must complete all to pass)"
   ]
  },
  {
   "cell_type": "markdown",
   "id": "packed-classic",
   "metadata": {},
   "source": [
    "### [B1] Is there a difference in `'order_hour_of_day'` distributions on Wednesdays and Saturdays? Plot the histograms for both days and describe the differences that you see."
   ]
  },
  {
   "cell_type": "code",
   "execution_count": 40,
   "id": "d89b8403",
   "metadata": {},
   "outputs": [
    {
     "data": {
      "text/plain": [
       "60897"
      ]
     },
     "execution_count": 40,
     "metadata": {},
     "output_type": "execute_result"
    }
   ],
   "source": [
    "# First I will define Wednesday and Saturday dfs\n",
    "df_wed = df_instacart_orders.query(\"order_dow == 3\")\n",
    "df_sat = df_instacart_orders.query(\"order_dow == 6\")\n",
    "\n",
    "len(df_wed['order_hour_of_day'])"
   ]
  },
  {
   "cell_type": "code",
   "execution_count": 41,
   "id": "94e54e8a",
   "metadata": {},
   "outputs": [
    {
     "data": {
      "image/png": "[encoded data removed]",
      "text/plain": [
       "<Figure size 1000x500 with 1 Axes>"
      ]
     },
     "metadata": {},
     "output_type": "display_data"
    }
   ],
   "source": [
    "# Plot both on the same graph; using Rice's Rule for bin count; First set the size\n",
    "plt.figure(figsize=(10,5))\n",
    "\n",
    "df_wed['order_hour_of_day'].plot(kind='hist', bins=82, color='orange')\n",
    "df_sat['order_hour_of_day'].plot(kind='hist', bins=82, alpha=0.5, color='blue')\n",
    "\n",
    "#additional parameters\n",
    "plt.legend(['Wednesaday', 'Saturday'])\n",
    "plt.title('Time of Day Per Order')\n",
    "plt.xlabel('Time of Day (hours)')\n",
    "plt.ylabel('Amount of Orders')\n",
    "plt.show()\n"
   ]
  },
  {
   "cell_type": "markdown",
   "id": "charitable-congo",
   "metadata": {},
   "source": [
    "<div class=\"alert alert-info\" style=\"border-radius: 15px; box-shadow: 4px 4px 4px; border: 1px solid \">\n",
    "<h4> Comments</h4>\n",
    "\n",
    "<h4>Based on our graph both days are pretty busy, however there are some subtle differences. Saturday is more active on the extremes of the graph: the early hours of the day (late nighters from Friday) and on the other end, late into the night on Saturday as well. Also, Saturday tends to hold steadier business throughout the morning into the afternoon, whereas Wednesday business dips at noon; which creates a nice peak, versus Wednesday's dip. One other takeaway here is that Saturday is a busier day for instacart employees, and a day of higher sales consequently, than Wednesday.</h4> \n",
    "</div>"
   ]
  },
  {
   "cell_type": "markdown",
   "id": "e3891143",
   "metadata": {},
   "source": [
    "### [B2] What's the distribution for the number of orders per customer?"
   ]
  },
  {
   "cell_type": "code",
   "execution_count": 42,
   "id": "d8c26c23",
   "metadata": {},
   "outputs": [],
   "source": [
    "# Group the orders by user and count the number of orders for each user\n",
    "df_order_grp = df_instacart_orders.groupby('user_id')['order_id'].count().sort_values()\n",
    "\n",
    "#157,437 users and 27 unique values of amount of orders"
   ]
  },
  {
   "cell_type": "code",
   "execution_count": 43,
   "id": "cf945bd9",
   "metadata": {},
   "outputs": [
    {
     "data": {
      "text/plain": [
       "user_id\n",
       "152331     1\n",
       "139876     1\n",
       "60408      1\n",
       "139873     1\n",
       "139871     1\n",
       "          ..\n",
       "66664     24\n",
       "148162    24\n",
       "78375     25\n",
       "193164    26\n",
       "149605    28\n",
       "Name: order_id, Length: 157437, dtype: int64"
      ]
     },
     "execution_count": 43,
     "metadata": {},
     "output_type": "execute_result"
    }
   ],
   "source": [
    "df_order_grp"
   ]
  },
  {
   "cell_type": "code",
   "execution_count": 44,
   "id": "00e69a66",
   "metadata": {},
   "outputs": [
    {
     "data": {
      "image/png": "[encoded data removed]",
      "text/plain": [
       "<Figure size 1000x500 with 1 Axes>"
      ]
     },
     "metadata": {},
     "output_type": "display_data"
    }
   ],
   "source": [
    "# Plot the histogram\n",
    "plt.figure(figsize=(10,5))\n",
    "df_order_grp.plot(kind='hist', \n",
    "                  bins=108, \n",
    "                  color='orange', \n",
    "                  #xlabel='Number of Orders',\n",
    "                  xlim=(0,20),\n",
    "                  title='Distribution of Number of Orders per Customer',\n",
    "                  edgecolor='black')\n",
    "\n",
    "plt.xlabel('Orders per Customer')\n",
    "plt.ylabel('Number of Orders')\n",
    "plt.show()"
   ]
  },
  {
   "cell_type": "markdown",
   "id": "039c3dc6",
   "metadata": {},
   "source": [
    "<div class=\"alert alert-info\" style=\"border-radius: 15px; box-shadow: 4px 4px 4px; border: 1px solid \">\n",
    "<h4>Comments</h4>\n",
    "<h4>\n",
    "Based on the above analysis, we can conclude the majority the customers in this dataset have 1 order. In addition, we can conclude a descending amount of customers have orders in access of 3 orders.\n",
    "</h4> \n",
    "</div>"
   ]
  },
  {
   "cell_type": "markdown",
   "id": "54a0319c",
   "metadata": {},
   "source": [
    "### [B3] What are the top 20 popular products (display their id and name)?"
   ]
  },
  {
   "cell_type": "code",
   "execution_count": 45,
   "id": "exterior-arizona",
   "metadata": {
    "scrolled": true
   },
   "outputs": [],
   "source": [
    "# Will need to merge order_products and products: inner join on product_id\n",
    "merged_prods = pd.merge(df_order_products, df_products, on='product_id', how='inner')"
   ]
  },
  {
   "cell_type": "code",
   "execution_count": 46,
   "id": "universal-facial",
   "metadata": {
    "scrolled": true
   },
   "outputs": [
    {
     "name": "stdout",
     "output_type": "stream",
     "text": [
      "(4533739, 8)\n"
     ]
    }
   ],
   "source": [
    "print(merged_prods.shape) #looks correct"
   ]
  },
  {
   "cell_type": "code",
   "execution_count": 47,
   "id": "abffb3d2",
   "metadata": {},
   "outputs": [
    {
     "data": {
      "text/html": [
       "<div>\n",
       "<style scoped>\n",
       "    .dataframe tbody tr th:only-of-type {\n",
       "        vertical-align: middle;\n",
       "    }\n",
       "\n",
       "    .dataframe tbody tr th {\n",
       "        vertical-align: top;\n",
       "    }\n",
       "\n",
       "    .dataframe thead th {\n",
       "        text-align: right;\n",
       "    }\n",
       "</style>\n",
       "<table border=\"1\" class=\"dataframe\">\n",
       "  <thead>\n",
       "    <tr style=\"text-align: right;\">\n",
       "      <th></th>\n",
       "      <th>product_id</th>\n",
       "      <th>product_name</th>\n",
       "      <th>count</th>\n",
       "    </tr>\n",
       "  </thead>\n",
       "  <tbody>\n",
       "    <tr>\n",
       "      <th>0</th>\n",
       "      <td>1</td>\n",
       "      <td>chocolate sandwich cookies</td>\n",
       "      <td>280</td>\n",
       "    </tr>\n",
       "    <tr>\n",
       "      <th>1</th>\n",
       "      <td>2</td>\n",
       "      <td>all-seasons salt</td>\n",
       "      <td>11</td>\n",
       "    </tr>\n",
       "    <tr>\n",
       "      <th>2</th>\n",
       "      <td>3</td>\n",
       "      <td>robust golden unsweetened oolong tea</td>\n",
       "      <td>42</td>\n",
       "    </tr>\n",
       "    <tr>\n",
       "      <th>3</th>\n",
       "      <td>4</td>\n",
       "      <td>smart ones classic favorites mini rigatoni wit...</td>\n",
       "      <td>49</td>\n",
       "    </tr>\n",
       "    <tr>\n",
       "      <th>4</th>\n",
       "      <td>7</td>\n",
       "      <td>pure coconut water with orange</td>\n",
       "      <td>2</td>\n",
       "    </tr>\n",
       "    <tr>\n",
       "      <th>...</th>\n",
       "      <td>...</td>\n",
       "      <td>...</td>\n",
       "      <td>...</td>\n",
       "    </tr>\n",
       "    <tr>\n",
       "      <th>45470</th>\n",
       "      <td>49684</td>\n",
       "      <td>vodka- triple distilled- twist of vanilla</td>\n",
       "      <td>1</td>\n",
       "    </tr>\n",
       "    <tr>\n",
       "      <th>45471</th>\n",
       "      <td>49685</td>\n",
       "      <td>en croute roast hazelnut cranberry</td>\n",
       "      <td>2</td>\n",
       "    </tr>\n",
       "    <tr>\n",
       "      <th>45472</th>\n",
       "      <td>49686</td>\n",
       "      <td>artisan baguette</td>\n",
       "      <td>24</td>\n",
       "    </tr>\n",
       "    <tr>\n",
       "      <th>45473</th>\n",
       "      <td>49687</td>\n",
       "      <td>smartblend healthy metabolism dry cat food</td>\n",
       "      <td>1</td>\n",
       "    </tr>\n",
       "    <tr>\n",
       "      <th>45474</th>\n",
       "      <td>49688</td>\n",
       "      <td>fresh foaming cleanser</td>\n",
       "      <td>9</td>\n",
       "    </tr>\n",
       "  </tbody>\n",
       "</table>\n",
       "<p>45475 rows × 3 columns</p>\n",
       "</div>"
      ],
      "text/plain": [
       "       product_id                                       product_name  count\n",
       "0               1                         chocolate sandwich cookies    280\n",
       "1               2                                   all-seasons salt     11\n",
       "2               3               robust golden unsweetened oolong tea     42\n",
       "3               4  smart ones classic favorites mini rigatoni wit...     49\n",
       "4               7                     pure coconut water with orange      2\n",
       "...           ...                                                ...    ...\n",
       "45470       49684          vodka- triple distilled- twist of vanilla      1\n",
       "45471       49685                 en croute roast hazelnut cranberry      2\n",
       "45472       49686                                   artisan baguette     24\n",
       "45473       49687         smartblend healthy metabolism dry cat food      1\n",
       "45474       49688                             fresh foaming cleanser      9\n",
       "\n",
       "[45475 rows x 3 columns]"
      ]
     },
     "execution_count": 47,
     "metadata": {},
     "output_type": "execute_result"
    }
   ],
   "source": [
    "grouped_prods = merged_prods.groupby(['product_id', 'product_name']).size().reset_index(name='count')\n",
    "grouped_prods"
   ]
  },
  {
   "cell_type": "code",
   "execution_count": 48,
   "id": "e3f79913",
   "metadata": {
    "scrolled": true
   },
   "outputs": [
    {
     "name": "stdout",
     "output_type": "stream",
     "text": [
      "(45475, 3)\n"
     ]
    }
   ],
   "source": [
    "print(grouped_prods.shape)"
   ]
  },
  {
   "cell_type": "code",
   "execution_count": null,
   "id": "bbcdd20b",
   "metadata": {},
   "outputs": [],
   "source": [
    "print()\n",
    "merged_prods.sample(20) #join looks good"
   ]
  },
  {
   "cell_type": "code",
   "execution_count": 55,
   "id": "3a60943d",
   "metadata": {
    "scrolled": true
   },
   "outputs": [
    {
     "data": {
      "text/html": [
       "<div>\n",
       "<style scoped>\n",
       "    .dataframe tbody tr th:only-of-type {\n",
       "        vertical-align: middle;\n",
       "    }\n",
       "\n",
       "    .dataframe tbody tr th {\n",
       "        vertical-align: top;\n",
       "    }\n",
       "\n",
       "    .dataframe thead th {\n",
       "        text-align: right;\n",
       "    }\n",
       "</style>\n",
       "<table border=\"1\" class=\"dataframe\">\n",
       "  <thead>\n",
       "    <tr style=\"text-align: right;\">\n",
       "      <th></th>\n",
       "      <th>Product ID</th>\n",
       "      <th>Product Name</th>\n",
       "      <th>Order Count</th>\n",
       "    </tr>\n",
       "  </thead>\n",
       "  <tbody>\n",
       "    <tr>\n",
       "      <th>0</th>\n",
       "      <td>24852</td>\n",
       "      <td>banana</td>\n",
       "      <td>66050</td>\n",
       "    </tr>\n",
       "    <tr>\n",
       "      <th>1</th>\n",
       "      <td>13176</td>\n",
       "      <td>bag of organic bananas</td>\n",
       "      <td>53297</td>\n",
       "    </tr>\n",
       "    <tr>\n",
       "      <th>2</th>\n",
       "      <td>21137</td>\n",
       "      <td>organic strawberries</td>\n",
       "      <td>37039</td>\n",
       "    </tr>\n",
       "    <tr>\n",
       "      <th>3</th>\n",
       "      <td>21903</td>\n",
       "      <td>organic baby spinach</td>\n",
       "      <td>33971</td>\n",
       "    </tr>\n",
       "    <tr>\n",
       "      <th>4</th>\n",
       "      <td>47209</td>\n",
       "      <td>organic hass avocado</td>\n",
       "      <td>29773</td>\n",
       "    </tr>\n",
       "    <tr>\n",
       "      <th>5</th>\n",
       "      <td>47766</td>\n",
       "      <td>organic avocado</td>\n",
       "      <td>24689</td>\n",
       "    </tr>\n",
       "    <tr>\n",
       "      <th>6</th>\n",
       "      <td>47626</td>\n",
       "      <td>large lemon</td>\n",
       "      <td>21495</td>\n",
       "    </tr>\n",
       "    <tr>\n",
       "      <th>7</th>\n",
       "      <td>16797</td>\n",
       "      <td>strawberries</td>\n",
       "      <td>20018</td>\n",
       "    </tr>\n",
       "    <tr>\n",
       "      <th>8</th>\n",
       "      <td>26209</td>\n",
       "      <td>limes</td>\n",
       "      <td>19690</td>\n",
       "    </tr>\n",
       "    <tr>\n",
       "      <th>9</th>\n",
       "      <td>27845</td>\n",
       "      <td>organic whole milk</td>\n",
       "      <td>19600</td>\n",
       "    </tr>\n",
       "    <tr>\n",
       "      <th>10</th>\n",
       "      <td>27966</td>\n",
       "      <td>organic raspberries</td>\n",
       "      <td>19197</td>\n",
       "    </tr>\n",
       "    <tr>\n",
       "      <th>11</th>\n",
       "      <td>22935</td>\n",
       "      <td>organic yellow onion</td>\n",
       "      <td>15898</td>\n",
       "    </tr>\n",
       "    <tr>\n",
       "      <th>12</th>\n",
       "      <td>24964</td>\n",
       "      <td>organic garlic</td>\n",
       "      <td>15292</td>\n",
       "    </tr>\n",
       "    <tr>\n",
       "      <th>13</th>\n",
       "      <td>45007</td>\n",
       "      <td>organic zucchini</td>\n",
       "      <td>14584</td>\n",
       "    </tr>\n",
       "    <tr>\n",
       "      <th>14</th>\n",
       "      <td>39275</td>\n",
       "      <td>organic blueberries</td>\n",
       "      <td>13879</td>\n",
       "    </tr>\n",
       "    <tr>\n",
       "      <th>15</th>\n",
       "      <td>49683</td>\n",
       "      <td>cucumber kirby</td>\n",
       "      <td>13675</td>\n",
       "    </tr>\n",
       "    <tr>\n",
       "      <th>16</th>\n",
       "      <td>28204</td>\n",
       "      <td>organic fuji apple</td>\n",
       "      <td>12544</td>\n",
       "    </tr>\n",
       "    <tr>\n",
       "      <th>17</th>\n",
       "      <td>5876</td>\n",
       "      <td>organic lemon</td>\n",
       "      <td>12232</td>\n",
       "    </tr>\n",
       "    <tr>\n",
       "      <th>18</th>\n",
       "      <td>8277</td>\n",
       "      <td>apple honeycrisp organic</td>\n",
       "      <td>11993</td>\n",
       "    </tr>\n",
       "    <tr>\n",
       "      <th>19</th>\n",
       "      <td>40706</td>\n",
       "      <td>organic grape tomatoes</td>\n",
       "      <td>11781</td>\n",
       "    </tr>\n",
       "  </tbody>\n",
       "</table>\n",
       "</div>"
      ],
      "text/plain": [
       "    Product ID              Product Name  Order Count\n",
       "0        24852                    banana        66050\n",
       "1        13176    bag of organic bananas        53297\n",
       "2        21137      organic strawberries        37039\n",
       "3        21903      organic baby spinach        33971\n",
       "4        47209      organic hass avocado        29773\n",
       "5        47766           organic avocado        24689\n",
       "6        47626               large lemon        21495\n",
       "7        16797              strawberries        20018\n",
       "8        26209                     limes        19690\n",
       "9        27845        organic whole milk        19600\n",
       "10       27966       organic raspberries        19197\n",
       "11       22935      organic yellow onion        15898\n",
       "12       24964            organic garlic        15292\n",
       "13       45007          organic zucchini        14584\n",
       "14       39275       organic blueberries        13879\n",
       "15       49683            cucumber kirby        13675\n",
       "16       28204        organic fuji apple        12544\n",
       "17        5876             organic lemon        12232\n",
       "18        8277  apple honeycrisp organic        11993\n",
       "19       40706    organic grape tomatoes        11781"
      ]
     },
     "execution_count": 55,
     "metadata": {},
     "output_type": "execute_result"
    }
   ],
   "source": [
    "merged_prods_grp = merged_prods.groupby(['product_id', 'product_name'])['order_id'].count() #groupby the product, and count the orders\n",
    "merged_prods_top_20 = merged_prods_grp.sort_values(ascending=False).reset_index().head(20)\n",
    "merged_prods_top_20 = merged_prods_top_20.rename(columns={'product_id': 'Product ID', 'product_name': 'Product Name', 'order_id':'Order Count'})\n",
    "merged_prods_top_20"
   ]
  },
  {
   "cell_type": "markdown",
   "id": "gross-theme",
   "metadata": {},
   "source": [
    "# [C] Hard (must complete at least two to pass)"
   ]
  },
  {
   "cell_type": "markdown",
   "id": "romantic-deposit",
   "metadata": {},
   "source": [
    "### [C1] How many items do people typically buy in one order? What does the distribution look like?"
   ]
  },
  {
   "cell_type": "code",
   "execution_count": null,
   "id": "virtual-punch",
   "metadata": {},
   "outputs": [],
   "source": [
    "# Use the order_products data; group by order_id and count the number of products - then pull an average\n",
    "prods_per_order = df_order_products.groupby('order_id')['product_id'].count()\n",
    "#print(prods_per_order)\n",
    "\n",
    "prods_per_order_avg = prods_per_order.sum() / len(prods_per_order)\n",
    "\n",
    "#print(prods_per_order.describe())\n",
    "print(f\"There are typically {int(prods_per_order_avg)} products in anyone's Insta-cart!\") \n",
    "#value was 10.09, using int here will round the value and not have a float in the output"
   ]
  },
  {
   "cell_type": "code",
   "execution_count": null,
   "id": "sensitive-breathing",
   "metadata": {},
   "outputs": [],
   "source": [
    "# Now create the distribution; data is already filtered so I will use that; Rice's Rule produced empty bins, adjusted on my own \n",
    "plt.figure(figsize=(10,5))\n",
    "prods_per_order.plot(kind='hist',\n",
    "                     bins=129,\n",
    "                     color='blue',\n",
    "                     edgecolor='black',\n",
    "                     title='Number of Items per Order',\n",
    "                     xlim=(0,55))\n",
    "\n",
    "plt.xticks([2,4,6,8,10,12,14,16,18,20,25,30,35,40,45,50])\n",
    "plt.xlabel('Number of Items')\n",
    "plt.show()"
   ]
  },
  {
   "cell_type": "markdown",
   "id": "designed-mortality",
   "metadata": {},
   "source": [
    "<div class=\"alert alert-info\" style=\"border-radius: 15px; box-shadow: 4px 4px 4px; border: 1px solid \">\n",
    "<h4>Comments</h4>\n",
    "<h4>\n",
    "Based on our histogram for the number of items per order, we can see that the peak of this graph falls in the range from 4 to 12; which actually tells us something really interesting about user behavior. We can see that most people using instacart have smaller orders. A large percent of the orders have less than 20 items in it, and the average is only 10! That's usually the max amount allowed at a speed checkout, interesting.\n",
    "</h4> \n",
    "</div>"
   ]
  },
  {
   "cell_type": "markdown",
   "id": "5e6b5537",
   "metadata": {},
   "source": [
    "### [C2] What are the top 20 items that are reordered most frequently (display their names and product IDs)?"
   ]
  },
  {
   "cell_type": "code",
   "execution_count": null,
   "id": "9374e55a",
   "metadata": {},
   "outputs": [],
   "source": [
    "#filter order_products data down to just reorders\n",
    "df_reorders_2 = df_order_products.query(\"reordered == 1\")\n",
    "\n",
    "#Now inner join the products table to get the names\n",
    "product_merge_r = pd.merge(df_reorders_2, df_products, how='inner', on='product_id')\n",
    "\n",
    "#Now obtain a count of the number of 1s per product\n",
    "reorder_count = product_merge_r.groupby(['product_id', 'product_name'])['reordered'].count()\n",
    "\n",
    "#print top 20 reorders\n",
    "top_20_reorders = reorder_count.sort_values(ascending=False).head(20)\n",
    "top_20_reorders\n",
    "\n",
    "#now use reset_index to create a new column, rename columns, and clean up\n",
    "top_20_reorders = top_20_reorders.reset_index()\n",
    "top_20_reorders[['product_id', 'product_name']]\n",
    "#top_20_reorders = top_20_reorders.rename(columns={'product_id': 'product_id', 'reordered': 'num_times_reordered'})"
   ]
  },
  {
   "cell_type": "markdown",
   "id": "0e171ea2",
   "metadata": {},
   "source": [
    "<div class=\"alert alert-info\" style=\"border-radius: 15px; box-shadow: 4px 4px 4px; border: 1px solid \">\n",
    "<h4>Comments</h4>\n",
    "<h4>\n",
    "Above I have populated the Top 20 products which are reordered most frequently. Based on this list, we can better market these products to our customers and/or managing future pricing based on the historical demand. Within the top 20 , we can conclude the majority of high reorders (90%) are for Fruits and Vegetables.\n",
    "</h4> \n",
    "</div>"
   ]
  },
  {
   "cell_type": "markdown",
   "id": "9d312b14",
   "metadata": {},
   "source": [
    "### [C3] For each product, what proportion of its orders are reorders?"
   ]
  },
  {
   "cell_type": "code",
   "execution_count": null,
   "id": "8ae9f4b1",
   "metadata": {},
   "outputs": [],
   "source": [
    "#filter the order_products data down to just reorders\n",
    "df_reorders = df_order_products.query(\"reordered == 1\")\n",
    "#print(df_reorders)\n",
    "\n",
    "#determine the number of reorders for each product\n",
    "num_reorders = df_reorders.groupby('product_id')['order_id'].count()\n",
    "#print(num_reorders)\n",
    "\n",
    "#Now obtain the number of orders per product_id\n",
    "df_order_prod_total = df_order_products.groupby('product_id')['order_id'].count()\n",
    "\n",
    "#calculate proportion\n",
    "proport_reords = (num_reorders / df_order_prod_total)\n",
    "\n",
    "#filter to match product ids in df_reorders\n",
    "proport_reords = proport_reords[proport_reords.index.isin(df_reorders['product_id'])]\n",
    "\n",
    "#reset the index to create a new df and rename columns then clean up\n",
    "proport_reords = proport_reords.reset_index()\n",
    "proport_reords = proport_reords.rename(columns={\"product_id\": \"product_id\", \"order_id\": \"proportion_(%)\"})\n",
    "proport_reords['proportion_(%)'] = (proport_reords['proportion_(%)'] * 100).round(2).astype(str) + '%'\n",
    "\n",
    "proport_reords"
   ]
  },
  {
   "cell_type": "markdown",
   "id": "subject-boxing",
   "metadata": {},
   "source": [
    "### [C4] For each customer, what proportion of their products ordered are reorders?"
   ]
  },
  {
   "cell_type": "code",
   "execution_count": null,
   "id": "medical-couple",
   "metadata": {
    "scrolled": true
   },
   "outputs": [],
   "source": [
    "# Use code from C3 as an outline; Need to start by merging instacart_orders with order_product\n",
    "order_prods_merg = pd.merge(df_order_products, df_instacart_orders, on='order_id', how='left')\n",
    "\n",
    "#filter this data down if necessary\n",
    "order_prods_merg.info(show_counts=True) #It appears that all user_ids loaded in, yay!"
   ]
  },
  {
   "cell_type": "code",
   "execution_count": null,
   "id": "8892e4b4",
   "metadata": {},
   "outputs": [],
   "source": [
    "total_prods_per_user = order_prods_merg.groupby('user_id')['product_id'].count()\n",
    "print(f\"There are {len(total_prods_per_user.unique())} unique values in Total Products per User.\")\n",
    "\n",
    "num_reord_user = order_prods_merg.query(\"reordered == 1\").groupby('user_id')['product_id'].count()\n",
    "print(f\"There are {len(num_reord_user.unique())} unique values in Total Products Reordered per User.\\n\")\n",
    "\n",
    "proport_reord_user = num_reord_user / total_prods_per_user #not every user reorderd, in this case fill with 0\n",
    "proport_reord_user = proport_reord_user.fillna(0)\n",
    "#print(proport_reord_user.head())\n",
    "\n",
    "#follow outline in C3\n",
    "proport_reord_user = proport_reord_user.reset_index()\n",
    "print(proport_reord_user.head())\n",
    "proport_reord_user = proport_reord_user.rename(columns={\"user_id\": \"user_id\", \"product_id\": \"proportion_(%)\"})\n",
    "proport_reord_user['proportion_(%)'] = (proport_reord_user['proportion_(%)']*100).round(2).astype(str) + '%'\n",
    "\n",
    "proport_reord_user #would be interesting to plot this data"
   ]
  },
  {
   "cell_type": "markdown",
   "id": "92d35137",
   "metadata": {},
   "source": [
    "### [C5] What are the top 20 items that people put in their carts first? "
   ]
  },
  {
   "cell_type": "code",
   "execution_count": null,
   "id": "0ae57274",
   "metadata": {
    "scrolled": true
   },
   "outputs": [],
   "source": [
    "# First grab all items put in carts first. I confirmed there is no item 0 with the code below\n",
    "first_items = df_order_products.query(\"add_to_cart_order == 1\")\n",
    "\n",
    "# Now merge products to get product name\n",
    "order_prods_merge = pd.merge(first_items, df_products, on='product_id', how='inner')\n",
    "order_prods_merge\n",
    "\n",
    "# Now we need to get the counts of the product_ids\n",
    "product_counts_order = order_prods_merge.groupby(['product_id', 'product_name'])['add_to_cart_order'].count()\n",
    "product_counts_order = product_counts_order.sort_values(ascending=False)\n",
    "product_counts_order\n",
    "\n",
    "#reset index and organize\n",
    "product_counts_order = product_counts_order.reset_index()\n",
    "product_counts_order[['product_id', 'product_name']].head(21)"
   ]
  },
  {
   "cell_type": "markdown",
   "id": "91825647",
   "metadata": {
    "scrolled": true
   },
   "source": [
    "<div class=\"alert alert-info\" style=\"border-radius: 15px; box-shadow: 4px 4px 4px; border: 1px solid \">\n",
    "<h4>Comments</h4>\n",
    "<h4>\n",
    "Based on the data above, we can determine that a high number of customers go for healthier products first. Synonymous to the Top 20 reordered items, we can conculde most shoppers are reaching for Fruits and Vegetables during their visit.\n",
    "</h4> \n",
    "</div>"
   ]
  },
  {
   "cell_type": "markdown",
   "id": "1bc4536b",
   "metadata": {},
   "source": [
    "<div class=\"alert alert-info\" style=\"border-radius: 15px; box-shadow: 4px 4px 4px; border: 1px solid \">\n",
    "<h4>Comments</h4>\n",
    "<h4>\n",
    "Throughout this process, the analysis shows us the Top products that our consumers purchase and view. These products primarily consist of fruits and vegetables. We can use this information to better understand how to market these products to not only increase sales for them but draw our consumers into other possible purchases. When our consumers are using our services, they typically do so with orders that average about 10 items although there are the occasional people that use Instacart for larger orders. Looking at that analysis you can see that most of our consumers use Instacart in the same manner of someone who would be stopping in the store to grab a couple of items and utilizing the express checkout lane. Our customers use our services throughout the week, but you can see that later in the day on the weekends there are spikes. With fruits and vegetables being our most purchased products one could argue that our services are used to either stock up for late dinners or to restock for breakfast the next morning. This analysis gives our company lots of information which can be used in various departments to drive better business decisions. In some instances, we can use these results to push curtailed marketing to specific customer groups. Since we are able to see a high order of healthier options, we can create revenue opportunities and major impacts that require minimal price and volume changes YoY.\n",
    "</h4> \n",
    "</div>"
   ]
  },
  {
   "cell_type": "code",
   "execution_count": null,
   "id": "4072f331",
   "metadata": {},
   "outputs": [],
   "source": []
  }
 ],
 "metadata": {
  "ExecuteTimeLog": [
   {
    "duration": 2127,
    "start_time": "2025-01-25T19:49:23.512Z"
   },
   {
    "duration": 166,
    "start_time": "2025-01-25T22:40:03.715Z"
   },
   {
    "duration": 26,
    "start_time": "2025-01-25T22:45:19.120Z"
   },
   {
    "duration": 20,
    "start_time": "2025-01-25T22:45:55.037Z"
   },
   {
    "duration": 176,
    "start_time": "2025-01-25T22:46:48.477Z"
   },
   {
    "duration": 21,
    "start_time": "2025-01-25T22:53:22.666Z"
   },
   {
    "duration": 20,
    "start_time": "2025-01-25T22:53:30.967Z"
   },
   {
    "duration": 2186,
    "start_time": "2025-01-25T22:53:40.184Z"
   },
   {
    "duration": 174,
    "start_time": "2025-01-25T22:53:42.372Z"
   },
   {
    "duration": 2,
    "start_time": "2025-01-25T22:53:42.549Z"
   },
   {
    "duration": 2,
    "start_time": "2025-01-25T22:53:42.553Z"
   },
   {
    "duration": 2,
    "start_time": "2025-01-25T22:53:42.557Z"
   },
   {
    "duration": 2,
    "start_time": "2025-01-25T22:53:42.561Z"
   },
   {
    "duration": 2,
    "start_time": "2025-01-25T22:53:42.565Z"
   },
   {
    "duration": 3,
    "start_time": "2025-01-25T22:53:42.568Z"
   },
   {
    "duration": 3,
    "start_time": "2025-01-25T22:53:42.572Z"
   },
   {
    "duration": 2,
    "start_time": "2025-01-25T22:53:42.606Z"
   },
   {
    "duration": 3,
    "start_time": "2025-01-25T22:53:42.613Z"
   },
   {
    "duration": 4,
    "start_time": "2025-01-25T22:53:42.617Z"
   },
   {
    "duration": 2,
    "start_time": "2025-01-25T22:53:42.623Z"
   },
   {
    "duration": 2,
    "start_time": "2025-01-25T22:53:42.626Z"
   },
   {
    "duration": 2,
    "start_time": "2025-01-25T22:53:42.630Z"
   },
   {
    "duration": 2,
    "start_time": "2025-01-25T22:53:42.635Z"
   },
   {
    "duration": 3,
    "start_time": "2025-01-25T22:53:42.640Z"
   },
   {
    "duration": 2,
    "start_time": "2025-01-25T22:53:42.645Z"
   },
   {
    "duration": 2,
    "start_time": "2025-01-25T22:53:42.649Z"
   },
   {
    "duration": 2,
    "start_time": "2025-01-25T22:53:42.653Z"
   },
   {
    "duration": 2,
    "start_time": "2025-01-25T22:53:42.657Z"
   },
   {
    "duration": 2,
    "start_time": "2025-01-25T22:53:42.661Z"
   },
   {
    "duration": 66,
    "start_time": "2025-01-25T22:54:02.139Z"
   },
   {
    "duration": 16,
    "start_time": "2025-01-25T22:54:23.782Z"
   },
   {
    "duration": 15,
    "start_time": "2025-01-25T22:54:35.785Z"
   },
   {
    "duration": 843,
    "start_time": "2025-01-25T22:54:48.494Z"
   },
   {
    "duration": 86,
    "start_time": "2025-01-25T22:55:26.252Z"
   },
   {
    "duration": 19,
    "start_time": "2025-01-25T23:18:06.893Z"
   },
   {
    "duration": 179,
    "start_time": "2025-01-25T23:20:14.482Z"
   },
   {
    "duration": 12,
    "start_time": "2025-01-25T23:20:56.654Z"
   },
   {
    "duration": 400,
    "start_time": "2025-01-25T23:21:04.073Z"
   },
   {
    "duration": 163,
    "start_time": "2025-01-25T23:21:04.476Z"
   },
   {
    "duration": 42,
    "start_time": "2025-01-25T23:21:04.641Z"
   },
   {
    "duration": 22,
    "start_time": "2025-01-25T23:21:04.684Z"
   },
   {
    "duration": 12,
    "start_time": "2025-01-25T23:21:04.708Z"
   },
   {
    "duration": 752,
    "start_time": "2025-01-25T23:21:04.721Z"
   },
   {
    "duration": 93,
    "start_time": "2025-01-25T23:21:05.475Z"
   },
   {
    "duration": 14,
    "start_time": "2025-01-25T23:21:05.570Z"
   },
   {
    "duration": 197,
    "start_time": "2025-01-25T23:21:05.586Z"
   },
   {
    "duration": 0,
    "start_time": "2025-01-25T23:21:05.785Z"
   },
   {
    "duration": 0,
    "start_time": "2025-01-25T23:21:05.787Z"
   },
   {
    "duration": 0,
    "start_time": "2025-01-25T23:21:05.788Z"
   },
   {
    "duration": 0,
    "start_time": "2025-01-25T23:21:05.789Z"
   },
   {
    "duration": 0,
    "start_time": "2025-01-25T23:21:05.790Z"
   },
   {
    "duration": 0,
    "start_time": "2025-01-25T23:21:05.791Z"
   },
   {
    "duration": 0,
    "start_time": "2025-01-25T23:21:05.792Z"
   },
   {
    "duration": 0,
    "start_time": "2025-01-25T23:21:05.805Z"
   },
   {
    "duration": 0,
    "start_time": "2025-01-25T23:21:05.806Z"
   },
   {
    "duration": 0,
    "start_time": "2025-01-25T23:21:05.807Z"
   },
   {
    "duration": 0,
    "start_time": "2025-01-25T23:21:05.808Z"
   },
   {
    "duration": 0,
    "start_time": "2025-01-25T23:21:05.809Z"
   },
   {
    "duration": 0,
    "start_time": "2025-01-25T23:21:05.810Z"
   },
   {
    "duration": 0,
    "start_time": "2025-01-25T23:21:05.811Z"
   },
   {
    "duration": 0,
    "start_time": "2025-01-25T23:21:05.812Z"
   },
   {
    "duration": 0,
    "start_time": "2025-01-25T23:21:05.813Z"
   },
   {
    "duration": 0,
    "start_time": "2025-01-25T23:21:05.814Z"
   },
   {
    "duration": 12,
    "start_time": "2025-01-25T23:30:32.170Z"
   },
   {
    "duration": 2,
    "start_time": "2025-01-25T23:37:03.707Z"
   },
   {
    "duration": 13,
    "start_time": "2025-01-25T23:40:48.092Z"
   },
   {
    "duration": 13,
    "start_time": "2025-01-25T23:42:11.790Z"
   },
   {
    "duration": 13,
    "start_time": "2025-01-25T23:43:36.266Z"
   },
   {
    "duration": 13,
    "start_time": "2025-01-25T23:59:04.088Z"
   },
   {
    "duration": 2,
    "start_time": "2025-01-25T23:59:19.958Z"
   },
   {
    "duration": 2,
    "start_time": "2025-01-25T23:59:21.611Z"
   },
   {
    "duration": 14,
    "start_time": "2025-01-26T00:00:23.014Z"
   },
   {
    "duration": 12,
    "start_time": "2025-01-26T00:01:29.579Z"
   },
   {
    "duration": 13,
    "start_time": "2025-01-26T00:05:54.894Z"
   },
   {
    "duration": 3,
    "start_time": "2025-01-26T00:06:15.143Z"
   },
   {
    "duration": 12,
    "start_time": "2025-01-26T00:06:45.586Z"
   },
   {
    "duration": 12,
    "start_time": "2025-01-26T00:07:26.418Z"
   },
   {
    "duration": 2,
    "start_time": "2025-01-26T00:11:16.410Z"
   },
   {
    "duration": 441,
    "start_time": "2025-01-26T00:11:48.137Z"
   },
   {
    "duration": 180,
    "start_time": "2025-01-26T00:11:48.581Z"
   },
   {
    "duration": 55,
    "start_time": "2025-01-26T00:11:48.763Z"
   },
   {
    "duration": 13,
    "start_time": "2025-01-26T00:11:48.820Z"
   },
   {
    "duration": 11,
    "start_time": "2025-01-26T00:11:48.837Z"
   },
   {
    "duration": 761,
    "start_time": "2025-01-26T00:11:48.850Z"
   },
   {
    "duration": 109,
    "start_time": "2025-01-26T00:11:49.613Z"
   },
   {
    "duration": 15,
    "start_time": "2025-01-26T00:11:49.724Z"
   },
   {
    "duration": 112,
    "start_time": "2025-01-26T00:11:49.741Z"
   },
   {
    "duration": 2,
    "start_time": "2025-01-26T00:11:49.855Z"
   },
   {
    "duration": 2,
    "start_time": "2025-01-26T00:11:49.859Z"
   },
   {
    "duration": 2,
    "start_time": "2025-01-26T00:11:49.863Z"
   },
   {
    "duration": 3,
    "start_time": "2025-01-26T00:11:49.866Z"
   },
   {
    "duration": 2,
    "start_time": "2025-01-26T00:11:49.873Z"
   },
   {
    "duration": 29,
    "start_time": "2025-01-26T00:11:49.877Z"
   },
   {
    "duration": 3,
    "start_time": "2025-01-26T00:11:49.908Z"
   },
   {
    "duration": 5,
    "start_time": "2025-01-26T00:11:49.913Z"
   },
   {
    "duration": 3,
    "start_time": "2025-01-26T00:11:49.919Z"
   },
   {
    "duration": 3,
    "start_time": "2025-01-26T00:11:49.923Z"
   },
   {
    "duration": 3,
    "start_time": "2025-01-26T00:11:49.928Z"
   },
   {
    "duration": 2,
    "start_time": "2025-01-26T00:11:49.933Z"
   },
   {
    "duration": 2,
    "start_time": "2025-01-26T00:11:49.937Z"
   },
   {
    "duration": 3,
    "start_time": "2025-01-26T00:11:49.941Z"
   },
   {
    "duration": 2,
    "start_time": "2025-01-26T00:11:49.945Z"
   },
   {
    "duration": 3,
    "start_time": "2025-01-26T00:11:49.949Z"
   },
   {
    "duration": 2,
    "start_time": "2025-01-26T00:11:49.953Z"
   },
   {
    "duration": 99,
    "start_time": "2025-01-26T00:12:01.363Z"
   },
   {
    "duration": 81,
    "start_time": "2025-01-26T00:14:32.822Z"
   },
   {
    "duration": 42,
    "start_time": "2025-01-26T00:16:19.314Z"
   },
   {
    "duration": 11,
    "start_time": "2025-01-26T00:16:32.954Z"
   },
   {
    "duration": 11,
    "start_time": "2025-01-26T00:16:49.675Z"
   },
   {
    "duration": 753,
    "start_time": "2025-01-26T00:17:12.426Z"
   },
   {
    "duration": 5,
    "start_time": "2025-01-26T00:17:33.593Z"
   },
   {
    "duration": 79,
    "start_time": "2025-01-26T00:18:00.974Z"
   },
   {
    "duration": 2,
    "start_time": "2025-01-26T00:18:31.634Z"
   },
   {
    "duration": 91,
    "start_time": "2025-01-26T00:18:38.451Z"
   },
   {
    "duration": 182,
    "start_time": "2025-01-26T00:28:06.547Z"
   },
   {
    "duration": 729,
    "start_time": "2025-01-26T00:28:22.453Z"
   },
   {
    "duration": 11,
    "start_time": "2025-01-26T00:28:33.579Z"
   },
   {
    "duration": 161,
    "start_time": "2025-01-26T00:29:12.139Z"
   },
   {
    "duration": 435,
    "start_time": "2025-01-26T00:29:16.062Z"
   },
   {
    "duration": 135,
    "start_time": "2025-01-26T00:29:16.629Z"
   },
   {
    "duration": 44,
    "start_time": "2025-01-26T00:29:17.472Z"
   },
   {
    "duration": 11,
    "start_time": "2025-01-26T00:29:18.231Z"
   },
   {
    "duration": 12,
    "start_time": "2025-01-26T00:29:18.907Z"
   },
   {
    "duration": 719,
    "start_time": "2025-01-26T00:29:19.669Z"
   },
   {
    "duration": 732,
    "start_time": "2025-01-26T00:29:26.253Z"
   },
   {
    "duration": 86,
    "start_time": "2025-01-26T00:29:46.641Z"
   },
   {
    "duration": 118,
    "start_time": "2025-01-26T00:29:56.405Z"
   },
   {
    "duration": 15,
    "start_time": "2025-01-26T00:30:30.772Z"
   },
   {
    "duration": 42,
    "start_time": "2025-01-26T00:30:51.274Z"
   },
   {
    "duration": 95,
    "start_time": "2025-01-26T00:49:51.012Z"
   },
   {
    "duration": 53,
    "start_time": "2025-01-26T00:56:00.702Z"
   },
   {
    "duration": 650,
    "start_time": "2025-01-26T00:56:30.989Z"
   },
   {
    "duration": 7,
    "start_time": "2025-01-26T00:56:55.497Z"
   },
   {
    "duration": 3,
    "start_time": "2025-01-26T00:57:34.701Z"
   },
   {
    "duration": 6,
    "start_time": "2025-01-26T00:57:42.587Z"
   },
   {
    "duration": 445,
    "start_time": "2025-01-26T00:58:25.649Z"
   },
   {
    "duration": 7,
    "start_time": "2025-01-26T00:58:41.933Z"
   },
   {
    "duration": 8,
    "start_time": "2025-01-26T01:20:33.810Z"
   },
   {
    "duration": 7,
    "start_time": "2025-01-26T01:20:46.503Z"
   },
   {
    "duration": 3,
    "start_time": "2025-01-26T01:20:53.526Z"
   },
   {
    "duration": 3,
    "start_time": "2025-01-26T01:21:39.958Z"
   },
   {
    "duration": 3,
    "start_time": "2025-01-26T01:21:45.157Z"
   },
   {
    "duration": 93,
    "start_time": "2025-01-26T01:22:03.290Z"
   },
   {
    "duration": 13,
    "start_time": "2025-01-26T01:22:20.133Z"
   },
   {
    "duration": 4,
    "start_time": "2025-01-26T01:22:39.693Z"
   },
   {
    "duration": 4,
    "start_time": "2025-01-26T01:22:58.025Z"
   },
   {
    "duration": 3,
    "start_time": "2025-01-26T01:25:04.625Z"
   },
   {
    "duration": 156,
    "start_time": "2025-01-26T02:38:56.963Z"
   },
   {
    "duration": 2,
    "start_time": "2025-01-26T02:39:48.313Z"
   },
   {
    "duration": 11,
    "start_time": "2025-01-26T02:40:20.128Z"
   },
   {
    "duration": 2133,
    "start_time": "2025-01-26T02:42:31.185Z"
   },
   {
    "duration": 159,
    "start_time": "2025-01-26T02:42:33.320Z"
   },
   {
    "duration": 63,
    "start_time": "2025-01-26T02:42:33.481Z"
   },
   {
    "duration": 14,
    "start_time": "2025-01-26T02:42:33.546Z"
   },
   {
    "duration": 15,
    "start_time": "2025-01-26T02:42:33.563Z"
   },
   {
    "duration": 840,
    "start_time": "2025-01-26T02:42:33.579Z"
   },
   {
    "duration": 86,
    "start_time": "2025-01-26T02:42:34.420Z"
   },
   {
    "duration": 14,
    "start_time": "2025-01-26T02:42:34.507Z"
   },
   {
    "duration": 973,
    "start_time": "2025-01-26T02:42:34.524Z"
   },
   {
    "duration": 0,
    "start_time": "2025-01-26T02:42:35.499Z"
   },
   {
    "duration": 0,
    "start_time": "2025-01-26T02:42:35.505Z"
   },
   {
    "duration": 0,
    "start_time": "2025-01-26T02:42:35.506Z"
   },
   {
    "duration": 0,
    "start_time": "2025-01-26T02:42:35.507Z"
   },
   {
    "duration": 0,
    "start_time": "2025-01-26T02:42:35.508Z"
   },
   {
    "duration": 0,
    "start_time": "2025-01-26T02:42:35.509Z"
   },
   {
    "duration": 0,
    "start_time": "2025-01-26T02:42:35.510Z"
   },
   {
    "duration": 0,
    "start_time": "2025-01-26T02:42:35.511Z"
   },
   {
    "duration": 0,
    "start_time": "2025-01-26T02:42:35.511Z"
   },
   {
    "duration": 0,
    "start_time": "2025-01-26T02:42:35.512Z"
   },
   {
    "duration": 0,
    "start_time": "2025-01-26T02:42:35.514Z"
   },
   {
    "duration": 0,
    "start_time": "2025-01-26T02:42:35.516Z"
   },
   {
    "duration": 0,
    "start_time": "2025-01-26T02:42:35.517Z"
   },
   {
    "duration": 0,
    "start_time": "2025-01-26T02:42:35.518Z"
   },
   {
    "duration": 0,
    "start_time": "2025-01-26T02:42:35.520Z"
   },
   {
    "duration": 0,
    "start_time": "2025-01-26T02:42:35.521Z"
   },
   {
    "duration": 0,
    "start_time": "2025-01-26T02:42:35.522Z"
   },
   {
    "duration": 13,
    "start_time": "2025-01-26T02:43:24.069Z"
   },
   {
    "duration": 5,
    "start_time": "2025-01-26T02:43:36.820Z"
   },
   {
    "duration": 29,
    "start_time": "2025-01-26T02:44:04.941Z"
   },
   {
    "duration": 4,
    "start_time": "2025-01-26T02:50:23.970Z"
   },
   {
    "duration": 4,
    "start_time": "2025-01-26T02:51:57.233Z"
   },
   {
    "duration": 762,
    "start_time": "2025-01-26T02:55:12.705Z"
   },
   {
    "duration": 115,
    "start_time": "2025-01-26T02:55:32.557Z"
   },
   {
    "duration": 4,
    "start_time": "2025-01-26T02:58:04.043Z"
   },
   {
    "duration": 11,
    "start_time": "2025-01-26T02:58:45.722Z"
   },
   {
    "duration": 4,
    "start_time": "2025-01-26T03:00:33.965Z"
   },
   {
    "duration": 3,
    "start_time": "2025-01-26T03:00:50.712Z"
   },
   {
    "duration": 6,
    "start_time": "2025-01-26T03:01:08.459Z"
   },
   {
    "duration": 10,
    "start_time": "2025-01-26T03:01:22.852Z"
   },
   {
    "duration": 16,
    "start_time": "2025-01-26T03:02:13.011Z"
   },
   {
    "duration": 22,
    "start_time": "2025-01-26T03:02:43.304Z"
   },
   {
    "duration": 24,
    "start_time": "2025-01-26T03:09:55.037Z"
   },
   {
    "duration": 30,
    "start_time": "2025-01-26T03:10:14.522Z"
   },
   {
    "duration": 13,
    "start_time": "2025-01-26T03:10:47.025Z"
   },
   {
    "duration": 62,
    "start_time": "2025-01-26T03:11:10.313Z"
   },
   {
    "duration": 46,
    "start_time": "2025-01-26T03:11:32.196Z"
   },
   {
    "duration": 8,
    "start_time": "2025-01-26T03:12:12.706Z"
   },
   {
    "duration": 5,
    "start_time": "2025-01-26T03:12:28.110Z"
   },
   {
    "duration": 8,
    "start_time": "2025-01-26T03:12:39.297Z"
   },
   {
    "duration": 327,
    "start_time": "2025-01-26T03:14:58.025Z"
   },
   {
    "duration": 380,
    "start_time": "2025-01-26T03:18:26.301Z"
   },
   {
    "duration": 9,
    "start_time": "2025-01-26T03:18:47.582Z"
   },
   {
    "duration": 179,
    "start_time": "2025-01-26T03:19:38.294Z"
   },
   {
    "duration": 268,
    "start_time": "2025-01-26T03:22:15.084Z"
   },
   {
    "duration": 13,
    "start_time": "2025-01-26T03:27:23.208Z"
   },
   {
    "duration": 293,
    "start_time": "2025-01-26T03:27:34.479Z"
   },
   {
    "duration": 40,
    "start_time": "2025-01-26T03:30:15.648Z"
   },
   {
    "duration": 297,
    "start_time": "2025-01-26T03:30:35.513Z"
   },
   {
    "duration": 834,
    "start_time": "2025-01-26T03:31:00.607Z"
   },
   {
    "duration": 127,
    "start_time": "2025-01-26T03:31:32.305Z"
   },
   {
    "duration": 256,
    "start_time": "2025-01-26T03:32:13.336Z"
   },
   {
    "duration": 258,
    "start_time": "2025-01-26T03:32:23.709Z"
   },
   {
    "duration": 634,
    "start_time": "2025-01-26T03:33:02.967Z"
   },
   {
    "duration": 204,
    "start_time": "2025-01-26T03:33:28.254Z"
   },
   {
    "duration": 613,
    "start_time": "2025-01-26T03:33:55.626Z"
   },
   {
    "duration": 381,
    "start_time": "2025-01-26T03:34:08.616Z"
   },
   {
    "duration": 149,
    "start_time": "2025-01-26T03:34:36.688Z"
   },
   {
    "duration": 139,
    "start_time": "2025-01-26T03:35:25.197Z"
   },
   {
    "duration": 410,
    "start_time": "2025-01-26T04:28:32.924Z"
   },
   {
    "duration": 172,
    "start_time": "2025-01-26T04:28:33.337Z"
   },
   {
    "duration": 46,
    "start_time": "2025-01-26T04:28:33.511Z"
   },
   {
    "duration": 12,
    "start_time": "2025-01-26T04:28:33.559Z"
   },
   {
    "duration": 12,
    "start_time": "2025-01-26T04:28:33.573Z"
   },
   {
    "duration": 747,
    "start_time": "2025-01-26T04:28:33.587Z"
   },
   {
    "duration": 84,
    "start_time": "2025-01-26T04:28:34.336Z"
   },
   {
    "duration": 19,
    "start_time": "2025-01-26T04:28:34.422Z"
   },
   {
    "duration": 948,
    "start_time": "2025-01-26T04:28:34.443Z"
   },
   {
    "duration": 0,
    "start_time": "2025-01-26T04:28:35.395Z"
   },
   {
    "duration": 0,
    "start_time": "2025-01-26T04:28:35.396Z"
   },
   {
    "duration": 0,
    "start_time": "2025-01-26T04:28:35.398Z"
   },
   {
    "duration": 0,
    "start_time": "2025-01-26T04:28:35.399Z"
   },
   {
    "duration": 0,
    "start_time": "2025-01-26T04:28:35.400Z"
   },
   {
    "duration": 0,
    "start_time": "2025-01-26T04:28:35.401Z"
   },
   {
    "duration": 0,
    "start_time": "2025-01-26T04:28:35.402Z"
   },
   {
    "duration": 0,
    "start_time": "2025-01-26T04:28:35.404Z"
   },
   {
    "duration": 0,
    "start_time": "2025-01-26T04:28:35.405Z"
   },
   {
    "duration": 0,
    "start_time": "2025-01-26T04:28:35.406Z"
   },
   {
    "duration": 0,
    "start_time": "2025-01-26T04:28:35.432Z"
   },
   {
    "duration": 0,
    "start_time": "2025-01-26T04:28:35.433Z"
   },
   {
    "duration": 0,
    "start_time": "2025-01-26T04:28:35.434Z"
   },
   {
    "duration": 0,
    "start_time": "2025-01-26T04:28:35.435Z"
   },
   {
    "duration": 0,
    "start_time": "2025-01-26T04:28:35.436Z"
   },
   {
    "duration": 0,
    "start_time": "2025-01-26T04:28:35.437Z"
   },
   {
    "duration": 0,
    "start_time": "2025-01-26T04:28:35.438Z"
   },
   {
    "duration": 0,
    "start_time": "2025-01-26T04:28:35.439Z"
   },
   {
    "duration": 0,
    "start_time": "2025-01-26T04:28:35.440Z"
   },
   {
    "duration": 0,
    "start_time": "2025-01-26T04:28:35.441Z"
   },
   {
    "duration": 0,
    "start_time": "2025-01-26T04:28:35.442Z"
   },
   {
    "duration": 0,
    "start_time": "2025-01-26T04:28:35.443Z"
   },
   {
    "duration": 0,
    "start_time": "2025-01-26T04:28:35.445Z"
   },
   {
    "duration": 0,
    "start_time": "2025-01-26T04:28:35.446Z"
   },
   {
    "duration": 0,
    "start_time": "2025-01-26T04:28:35.446Z"
   },
   {
    "duration": 0,
    "start_time": "2025-01-26T04:28:35.448Z"
   },
   {
    "duration": 0,
    "start_time": "2025-01-26T04:28:35.449Z"
   },
   {
    "duration": 0,
    "start_time": "2025-01-26T04:28:35.455Z"
   },
   {
    "duration": 0,
    "start_time": "2025-01-26T04:28:35.456Z"
   },
   {
    "duration": 0,
    "start_time": "2025-01-26T04:28:35.457Z"
   },
   {
    "duration": 0,
    "start_time": "2025-01-26T04:28:35.458Z"
   },
   {
    "duration": 0,
    "start_time": "2025-01-26T04:28:35.459Z"
   },
   {
    "duration": 0,
    "start_time": "2025-01-26T04:28:35.460Z"
   },
   {
    "duration": 0,
    "start_time": "2025-01-26T04:28:35.461Z"
   },
   {
    "duration": 0,
    "start_time": "2025-01-26T04:28:35.462Z"
   },
   {
    "duration": 0,
    "start_time": "2025-01-26T04:28:35.463Z"
   },
   {
    "duration": 0,
    "start_time": "2025-01-26T04:28:35.464Z"
   },
   {
    "duration": 0,
    "start_time": "2025-01-26T04:28:35.465Z"
   },
   {
    "duration": 0,
    "start_time": "2025-01-26T04:28:35.467Z"
   },
   {
    "duration": 0,
    "start_time": "2025-01-26T04:28:35.468Z"
   },
   {
    "duration": 0,
    "start_time": "2025-01-26T04:28:35.469Z"
   },
   {
    "duration": 0,
    "start_time": "2025-01-26T04:28:35.471Z"
   },
   {
    "duration": 0,
    "start_time": "2025-01-26T04:28:35.532Z"
   },
   {
    "duration": 3,
    "start_time": "2025-01-26T04:29:40.673Z"
   },
   {
    "duration": 87,
    "start_time": "2025-01-26T04:29:41.382Z"
   },
   {
    "duration": 15,
    "start_time": "2025-01-26T04:30:58.668Z"
   },
   {
    "duration": 6,
    "start_time": "2025-01-26T04:30:58.685Z"
   },
   {
    "duration": 35,
    "start_time": "2025-01-26T04:30:58.692Z"
   },
   {
    "duration": 2,
    "start_time": "2025-01-26T04:30:58.730Z"
   },
   {
    "duration": 5,
    "start_time": "2025-01-26T04:30:58.735Z"
   },
   {
    "duration": 4,
    "start_time": "2025-01-26T04:30:58.742Z"
   },
   {
    "duration": 798,
    "start_time": "2025-01-26T04:30:58.747Z"
   },
   {
    "duration": 128,
    "start_time": "2025-01-26T04:30:59.547Z"
   },
   {
    "duration": 4,
    "start_time": "2025-01-26T04:30:59.676Z"
   },
   {
    "duration": 11,
    "start_time": "2025-01-26T04:30:59.683Z"
   },
   {
    "duration": 3,
    "start_time": "2025-01-26T04:30:59.696Z"
   },
   {
    "duration": 3,
    "start_time": "2025-01-26T04:30:59.701Z"
   },
   {
    "duration": 14,
    "start_time": "2025-01-26T04:30:59.730Z"
   },
   {
    "duration": 17,
    "start_time": "2025-01-26T04:30:59.746Z"
   },
   {
    "duration": 26,
    "start_time": "2025-01-26T04:30:59.764Z"
   },
   {
    "duration": 54,
    "start_time": "2025-01-26T04:30:59.794Z"
   },
   {
    "duration": 31,
    "start_time": "2025-01-26T04:30:59.849Z"
   },
   {
    "duration": 14,
    "start_time": "2025-01-26T04:30:59.881Z"
   },
   {
    "duration": 84,
    "start_time": "2025-01-26T04:30:59.897Z"
   },
   {
    "duration": 57,
    "start_time": "2025-01-26T04:30:59.982Z"
   },
   {
    "duration": 6,
    "start_time": "2025-01-26T04:31:00.041Z"
   },
   {
    "duration": 6,
    "start_time": "2025-01-26T04:31:00.048Z"
   },
   {
    "duration": 9,
    "start_time": "2025-01-26T04:31:00.055Z"
   },
   {
    "duration": 473,
    "start_time": "2025-01-26T04:31:00.065Z"
   },
   {
    "duration": 9,
    "start_time": "2025-01-26T04:31:00.539Z"
   },
   {
    "duration": 283,
    "start_time": "2025-01-26T04:31:00.550Z"
   },
   {
    "duration": 535,
    "start_time": "2025-01-26T04:31:00.836Z"
   },
   {
    "duration": 13,
    "start_time": "2025-01-26T04:31:01.376Z"
   },
   {
    "duration": 344,
    "start_time": "2025-01-26T04:31:01.391Z"
   },
   {
    "duration": 41,
    "start_time": "2025-01-26T04:31:01.737Z"
   },
   {
    "duration": 341,
    "start_time": "2025-01-26T04:31:01.780Z"
   },
   {
    "duration": 662,
    "start_time": "2025-01-26T04:31:02.123Z"
   },
   {
    "duration": 3,
    "start_time": "2025-01-26T04:31:02.787Z"
   },
   {
    "duration": 169,
    "start_time": "2025-01-26T04:31:02.792Z"
   },
   {
    "duration": 275,
    "start_time": "2025-01-26T04:31:02.963Z"
   },
   {
    "duration": 271,
    "start_time": "2025-01-26T04:31:03.240Z"
   },
   {
    "duration": 668,
    "start_time": "2025-01-26T04:31:03.513Z"
   },
   {
    "duration": 211,
    "start_time": "2025-01-26T04:31:04.183Z"
   },
   {
    "duration": 659,
    "start_time": "2025-01-26T04:31:04.395Z"
   },
   {
    "duration": 387,
    "start_time": "2025-01-26T04:31:05.056Z"
   },
   {
    "duration": 155,
    "start_time": "2025-01-26T04:31:05.444Z"
   },
   {
    "duration": 160,
    "start_time": "2025-01-26T05:03:37.075Z"
   },
   {
    "duration": 158,
    "start_time": "2025-01-27T18:16:46.889Z"
   },
   {
    "duration": 13,
    "start_time": "2025-01-27T18:18:28.187Z"
   },
   {
    "duration": 12,
    "start_time": "2025-01-27T18:18:39.098Z"
   },
   {
    "duration": 14,
    "start_time": "2025-01-27T18:19:31.365Z"
   },
   {
    "duration": 12,
    "start_time": "2025-01-27T18:20:56.560Z"
   },
   {
    "duration": 12,
    "start_time": "2025-01-27T18:24:47.132Z"
   },
   {
    "duration": 2157,
    "start_time": "2025-01-27T18:24:55.723Z"
   },
   {
    "duration": 162,
    "start_time": "2025-01-27T18:24:57.882Z"
   },
   {
    "duration": 64,
    "start_time": "2025-01-27T18:24:58.046Z"
   },
   {
    "duration": 13,
    "start_time": "2025-01-27T18:24:58.112Z"
   },
   {
    "duration": 17,
    "start_time": "2025-01-27T18:24:58.128Z"
   },
   {
    "duration": 819,
    "start_time": "2025-01-27T18:24:58.146Z"
   },
   {
    "duration": 84,
    "start_time": "2025-01-27T18:24:58.967Z"
   },
   {
    "duration": 15,
    "start_time": "2025-01-27T18:24:59.053Z"
   },
   {
    "duration": 106,
    "start_time": "2025-01-27T18:24:59.070Z"
   },
   {
    "duration": 3,
    "start_time": "2025-01-27T18:24:59.178Z"
   },
   {
    "duration": 94,
    "start_time": "2025-01-27T18:24:59.183Z"
   },
   {
    "duration": 12,
    "start_time": "2025-01-27T18:24:59.280Z"
   },
   {
    "duration": 4,
    "start_time": "2025-01-27T18:24:59.293Z"
   },
   {
    "duration": 43,
    "start_time": "2025-01-27T18:24:59.301Z"
   },
   {
    "duration": 5,
    "start_time": "2025-01-27T18:24:59.345Z"
   },
   {
    "duration": 4,
    "start_time": "2025-01-27T18:24:59.352Z"
   },
   {
    "duration": 5,
    "start_time": "2025-01-27T18:24:59.358Z"
   },
   {
    "duration": 776,
    "start_time": "2025-01-27T18:24:59.365Z"
   },
   {
    "duration": 129,
    "start_time": "2025-01-27T18:25:00.143Z"
   },
   {
    "duration": 3,
    "start_time": "2025-01-27T18:25:00.274Z"
   },
   {
    "duration": 11,
    "start_time": "2025-01-27T18:25:00.279Z"
   },
   {
    "duration": 3,
    "start_time": "2025-01-27T18:25:00.293Z"
   },
   {
    "duration": 3,
    "start_time": "2025-01-27T18:25:00.298Z"
   },
   {
    "duration": 35,
    "start_time": "2025-01-27T18:25:00.302Z"
   },
   {
    "duration": 15,
    "start_time": "2025-01-27T18:25:00.339Z"
   },
   {
    "duration": 19,
    "start_time": "2025-01-27T18:25:00.356Z"
   },
   {
    "duration": 24,
    "start_time": "2025-01-27T18:25:00.377Z"
   },
   {
    "duration": 32,
    "start_time": "2025-01-27T18:25:00.432Z"
   },
   {
    "duration": 14,
    "start_time": "2025-01-27T18:25:00.466Z"
   },
   {
    "duration": 79,
    "start_time": "2025-01-27T18:25:00.483Z"
   },
   {
    "duration": 55,
    "start_time": "2025-01-27T18:25:00.564Z"
   },
   {
    "duration": 6,
    "start_time": "2025-01-27T18:25:00.630Z"
   },
   {
    "duration": 7,
    "start_time": "2025-01-27T18:25:00.637Z"
   },
   {
    "duration": 9,
    "start_time": "2025-01-27T18:25:00.645Z"
   },
   {
    "duration": 390,
    "start_time": "2025-01-27T18:25:00.655Z"
   },
   {
    "duration": 9,
    "start_time": "2025-01-27T18:25:01.047Z"
   },
   {
    "duration": 200,
    "start_time": "2025-01-27T18:25:01.058Z"
   },
   {
    "duration": 286,
    "start_time": "2025-01-27T18:25:01.260Z"
   },
   {
    "duration": 13,
    "start_time": "2025-01-27T18:25:01.548Z"
   },
   {
    "duration": 325,
    "start_time": "2025-01-27T18:25:01.563Z"
   },
   {
    "duration": 49,
    "start_time": "2025-01-27T18:25:01.893Z"
   },
   {
    "duration": 289,
    "start_time": "2025-01-27T18:25:01.944Z"
   },
   {
    "duration": 667,
    "start_time": "2025-01-27T18:25:02.235Z"
   },
   {
    "duration": 3,
    "start_time": "2025-01-27T18:25:02.904Z"
   },
   {
    "duration": 167,
    "start_time": "2025-01-27T18:25:02.909Z"
   },
   {
    "duration": 255,
    "start_time": "2025-01-27T18:25:03.078Z"
   },
   {
    "duration": 273,
    "start_time": "2025-01-27T18:25:03.334Z"
   },
   {
    "duration": 643,
    "start_time": "2025-01-27T18:25:03.609Z"
   },
   {
    "duration": 204,
    "start_time": "2025-01-27T18:25:04.254Z"
   },
   {
    "duration": 654,
    "start_time": "2025-01-27T18:25:04.460Z"
   },
   {
    "duration": 375,
    "start_time": "2025-01-27T18:25:05.116Z"
   },
   {
    "duration": 149,
    "start_time": "2025-01-27T18:25:05.493Z"
   },
   {
    "duration": 83,
    "start_time": "2025-01-27T18:25:16.625Z"
   },
   {
    "duration": 281,
    "start_time": "2025-01-27T18:26:27.310Z"
   },
   {
    "duration": 94,
    "start_time": "2025-01-27T18:26:41.788Z"
   },
   {
    "duration": 79,
    "start_time": "2025-01-27T18:51:18.988Z"
   },
   {
    "duration": 13,
    "start_time": "2025-01-27T18:52:36.452Z"
   },
   {
    "duration": 4,
    "start_time": "2025-01-27T18:53:15.363Z"
   },
   {
    "duration": 74,
    "start_time": "2025-01-27T18:54:04.580Z"
   },
   {
    "duration": 26,
    "start_time": "2025-01-27T18:54:22.390Z"
   },
   {
    "duration": 17,
    "start_time": "2025-01-27T18:56:16.921Z"
   },
   {
    "duration": 82,
    "start_time": "2025-01-27T19:02:55.141Z"
   },
   {
    "duration": 77,
    "start_time": "2025-01-27T19:05:52.820Z"
   },
   {
    "duration": 89,
    "start_time": "2025-01-27T19:06:03.305Z"
   },
   {
    "duration": 457,
    "start_time": "2025-01-27T19:06:38.564Z"
   },
   {
    "duration": 167,
    "start_time": "2025-01-27T19:06:39.023Z"
   },
   {
    "duration": 42,
    "start_time": "2025-01-27T19:06:39.192Z"
   },
   {
    "duration": 10,
    "start_time": "2025-01-27T19:06:39.237Z"
   },
   {
    "duration": 10,
    "start_time": "2025-01-27T19:06:39.249Z"
   },
   {
    "duration": 757,
    "start_time": "2025-01-27T19:06:39.261Z"
   },
   {
    "duration": 96,
    "start_time": "2025-01-27T19:06:40.019Z"
   },
   {
    "duration": 23,
    "start_time": "2025-01-27T19:06:40.117Z"
   },
   {
    "duration": 96,
    "start_time": "2025-01-27T19:06:40.142Z"
   },
   {
    "duration": 92,
    "start_time": "2025-01-27T19:06:40.241Z"
   },
   {
    "duration": 30,
    "start_time": "2025-01-27T19:06:40.334Z"
   },
   {
    "duration": 13,
    "start_time": "2025-01-27T19:06:40.366Z"
   },
   {
    "duration": 5,
    "start_time": "2025-01-27T19:06:40.381Z"
   },
   {
    "duration": 54,
    "start_time": "2025-01-27T19:06:40.388Z"
   },
   {
    "duration": 15,
    "start_time": "2025-01-27T19:06:40.444Z"
   },
   {
    "duration": 4,
    "start_time": "2025-01-27T19:06:40.461Z"
   },
   {
    "duration": 4,
    "start_time": "2025-01-27T19:06:40.467Z"
   },
   {
    "duration": 809,
    "start_time": "2025-01-27T19:06:40.473Z"
   },
   {
    "duration": 122,
    "start_time": "2025-01-27T19:06:41.284Z"
   },
   {
    "duration": 4,
    "start_time": "2025-01-27T19:06:41.408Z"
   },
   {
    "duration": 20,
    "start_time": "2025-01-27T19:06:41.414Z"
   },
   {
    "duration": 4,
    "start_time": "2025-01-27T19:06:41.436Z"
   },
   {
    "duration": 4,
    "start_time": "2025-01-27T19:06:41.441Z"
   },
   {
    "duration": 9,
    "start_time": "2025-01-27T19:06:41.446Z"
   },
   {
    "duration": 15,
    "start_time": "2025-01-27T19:06:41.457Z"
   },
   {
    "duration": 60,
    "start_time": "2025-01-27T19:06:41.473Z"
   },
   {
    "duration": 27,
    "start_time": "2025-01-27T19:06:41.535Z"
   },
   {
    "duration": 30,
    "start_time": "2025-01-27T19:06:41.567Z"
   },
   {
    "duration": 34,
    "start_time": "2025-01-27T19:06:41.598Z"
   },
   {
    "duration": 64,
    "start_time": "2025-01-27T19:06:41.634Z"
   },
   {
    "duration": 56,
    "start_time": "2025-01-27T19:06:41.700Z"
   },
   {
    "duration": 6,
    "start_time": "2025-01-27T19:06:41.758Z"
   },
   {
    "duration": 5,
    "start_time": "2025-01-27T19:06:41.766Z"
   },
   {
    "duration": 10,
    "start_time": "2025-01-27T19:06:41.772Z"
   },
   {
    "duration": 371,
    "start_time": "2025-01-27T19:06:41.783Z"
   },
   {
    "duration": 8,
    "start_time": "2025-01-27T19:06:42.156Z"
   },
   {
    "duration": 206,
    "start_time": "2025-01-27T19:06:42.166Z"
   },
   {
    "duration": 281,
    "start_time": "2025-01-27T19:06:42.374Z"
   },
   {
    "duration": 12,
    "start_time": "2025-01-27T19:06:42.657Z"
   },
   {
    "duration": 374,
    "start_time": "2025-01-27T19:06:42.672Z"
   },
   {
    "duration": 39,
    "start_time": "2025-01-27T19:06:43.048Z"
   },
   {
    "duration": 263,
    "start_time": "2025-01-27T19:06:43.088Z"
   },
   {
    "duration": 711,
    "start_time": "2025-01-27T19:06:43.353Z"
   },
   {
    "duration": 3,
    "start_time": "2025-01-27T19:06:44.066Z"
   },
   {
    "duration": 186,
    "start_time": "2025-01-27T19:06:44.070Z"
   },
   {
    "duration": 264,
    "start_time": "2025-01-27T19:06:44.258Z"
   },
   {
    "duration": 285,
    "start_time": "2025-01-27T19:06:44.524Z"
   },
   {
    "duration": 665,
    "start_time": "2025-01-27T19:06:44.811Z"
   },
   {
    "duration": 215,
    "start_time": "2025-01-27T19:06:45.478Z"
   },
   {
    "duration": 642,
    "start_time": "2025-01-27T19:06:45.695Z"
   },
   {
    "duration": 421,
    "start_time": "2025-01-27T19:06:46.339Z"
   },
   {
    "duration": 149,
    "start_time": "2025-01-27T19:06:46.762Z"
   },
   {
    "duration": 321,
    "start_time": "2025-01-27T19:09:48.160Z"
   },
   {
    "duration": 792,
    "start_time": "2025-01-27T19:09:58.566Z"
   },
   {
    "duration": 705,
    "start_time": "2025-01-27T19:11:10.248Z"
   },
   {
    "duration": 5,
    "start_time": "2025-01-27T19:12:12.628Z"
   },
   {
    "duration": 697,
    "start_time": "2025-01-27T19:12:21.188Z"
   },
   {
    "duration": 158,
    "start_time": "2025-01-27T20:20:23.017Z"
   },
   {
    "duration": 12,
    "start_time": "2025-01-27T20:20:29.789Z"
   },
   {
    "duration": 2336,
    "start_time": "2025-01-27T20:20:39.633Z"
   },
   {
    "duration": 169,
    "start_time": "2025-01-27T20:20:41.971Z"
   },
   {
    "duration": 73,
    "start_time": "2025-01-27T20:20:42.142Z"
   },
   {
    "duration": 18,
    "start_time": "2025-01-27T20:20:42.219Z"
   },
   {
    "duration": 14,
    "start_time": "2025-01-27T20:20:42.239Z"
   },
   {
    "duration": 931,
    "start_time": "2025-01-27T20:20:42.255Z"
   },
   {
    "duration": 112,
    "start_time": "2025-01-27T20:20:43.189Z"
   },
   {
    "duration": 22,
    "start_time": "2025-01-27T20:20:43.303Z"
   },
   {
    "duration": 110,
    "start_time": "2025-01-27T20:20:43.327Z"
   },
   {
    "duration": 99,
    "start_time": "2025-01-27T20:20:43.441Z"
   },
   {
    "duration": 30,
    "start_time": "2025-01-27T20:20:43.541Z"
   },
   {
    "duration": 13,
    "start_time": "2025-01-27T20:20:43.573Z"
   },
   {
    "duration": 5,
    "start_time": "2025-01-27T20:20:43.588Z"
   },
   {
    "duration": 28,
    "start_time": "2025-01-27T20:20:43.623Z"
   },
   {
    "duration": 19,
    "start_time": "2025-01-27T20:20:43.653Z"
   },
   {
    "duration": 5,
    "start_time": "2025-01-27T20:20:43.674Z"
   },
   {
    "duration": 5,
    "start_time": "2025-01-27T20:20:43.681Z"
   },
   {
    "duration": 887,
    "start_time": "2025-01-27T20:20:43.688Z"
   },
   {
    "duration": 786,
    "start_time": "2025-01-27T20:20:44.577Z"
   },
   {
    "duration": 4,
    "start_time": "2025-01-27T20:20:45.366Z"
   },
   {
    "duration": 17,
    "start_time": "2025-01-27T20:20:45.372Z"
   },
   {
    "duration": 5,
    "start_time": "2025-01-27T20:20:45.390Z"
   },
   {
    "duration": 31,
    "start_time": "2025-01-27T20:20:45.397Z"
   },
   {
    "duration": 11,
    "start_time": "2025-01-27T20:20:45.430Z"
   },
   {
    "duration": 20,
    "start_time": "2025-01-27T20:20:45.443Z"
   },
   {
    "duration": 31,
    "start_time": "2025-01-27T20:20:45.465Z"
   },
   {
    "duration": 31,
    "start_time": "2025-01-27T20:20:45.524Z"
   },
   {
    "duration": 33,
    "start_time": "2025-01-27T20:20:45.559Z"
   },
   {
    "duration": 34,
    "start_time": "2025-01-27T20:20:45.593Z"
   },
   {
    "duration": 75,
    "start_time": "2025-01-27T20:20:45.629Z"
   },
   {
    "duration": 72,
    "start_time": "2025-01-27T20:20:45.706Z"
   },
   {
    "duration": 7,
    "start_time": "2025-01-27T20:20:45.781Z"
   },
   {
    "duration": 9,
    "start_time": "2025-01-27T20:20:45.789Z"
   },
   {
    "duration": 29,
    "start_time": "2025-01-27T20:20:45.799Z"
   },
   {
    "duration": 408,
    "start_time": "2025-01-27T20:20:45.830Z"
   },
   {
    "duration": 11,
    "start_time": "2025-01-27T20:20:46.240Z"
   },
   {
    "duration": 242,
    "start_time": "2025-01-27T20:20:46.254Z"
   },
   {
    "duration": 323,
    "start_time": "2025-01-27T20:20:46.498Z"
   },
   {
    "duration": 13,
    "start_time": "2025-01-27T20:20:46.824Z"
   },
   {
    "duration": 348,
    "start_time": "2025-01-27T20:20:46.839Z"
   },
   {
    "duration": 61,
    "start_time": "2025-01-27T20:20:47.189Z"
   },
   {
    "duration": 355,
    "start_time": "2025-01-27T20:20:47.252Z"
   },
   {
    "duration": 800,
    "start_time": "2025-01-27T20:20:47.609Z"
   },
   {
    "duration": 4,
    "start_time": "2025-01-27T20:20:48.411Z"
   },
   {
    "duration": 265,
    "start_time": "2025-01-27T20:20:48.426Z"
   },
   {
    "duration": 347,
    "start_time": "2025-01-27T20:20:48.693Z"
   },
   {
    "duration": 324,
    "start_time": "2025-01-27T20:20:49.042Z"
   },
   {
    "duration": 734,
    "start_time": "2025-01-27T20:20:49.369Z"
   },
   {
    "duration": 230,
    "start_time": "2025-01-27T20:20:50.105Z"
   },
   {
    "duration": 721,
    "start_time": "2025-01-27T20:20:50.337Z"
   },
   {
    "duration": 423,
    "start_time": "2025-01-27T20:20:51.060Z"
   },
   {
    "duration": 155,
    "start_time": "2025-01-27T20:20:51.485Z"
   },
   {
    "duration": 90,
    "start_time": "2025-01-27T20:21:40.453Z"
   },
   {
    "duration": 89,
    "start_time": "2025-01-27T20:22:14.762Z"
   },
   {
    "duration": 118,
    "start_time": "2025-01-27T20:46:56.049Z"
   },
   {
    "duration": 160,
    "start_time": "2025-01-27T22:03:13.415Z"
   },
   {
    "duration": 13,
    "start_time": "2025-01-27T22:03:27.304Z"
   },
   {
    "duration": 2145,
    "start_time": "2025-01-27T22:03:37.095Z"
   },
   {
    "duration": 158,
    "start_time": "2025-01-27T22:03:39.242Z"
   },
   {
    "duration": 64,
    "start_time": "2025-01-27T22:03:39.402Z"
   },
   {
    "duration": 12,
    "start_time": "2025-01-27T22:03:39.469Z"
   },
   {
    "duration": 13,
    "start_time": "2025-01-27T22:03:39.483Z"
   },
   {
    "duration": 813,
    "start_time": "2025-01-27T22:03:39.498Z"
   },
   {
    "duration": 99,
    "start_time": "2025-01-27T22:03:40.313Z"
   },
   {
    "duration": 14,
    "start_time": "2025-01-27T22:03:40.414Z"
   },
   {
    "duration": 100,
    "start_time": "2025-01-27T22:03:40.429Z"
   },
   {
    "duration": 91,
    "start_time": "2025-01-27T22:03:40.533Z"
   },
   {
    "duration": 29,
    "start_time": "2025-01-27T22:03:40.626Z"
   },
   {
    "duration": 13,
    "start_time": "2025-01-27T22:03:40.657Z"
   },
   {
    "duration": 4,
    "start_time": "2025-01-27T22:03:40.672Z"
   },
   {
    "duration": 53,
    "start_time": "2025-01-27T22:03:40.677Z"
   },
   {
    "duration": 15,
    "start_time": "2025-01-27T22:03:40.733Z"
   },
   {
    "duration": 4,
    "start_time": "2025-01-27T22:03:40.750Z"
   },
   {
    "duration": 4,
    "start_time": "2025-01-27T22:03:40.756Z"
   },
   {
    "duration": 809,
    "start_time": "2025-01-27T22:03:40.762Z"
   },
   {
    "duration": 739,
    "start_time": "2025-01-27T22:03:41.573Z"
   },
   {
    "duration": 4,
    "start_time": "2025-01-27T22:03:42.314Z"
   },
   {
    "duration": 12,
    "start_time": "2025-01-27T22:03:42.319Z"
   },
   {
    "duration": 4,
    "start_time": "2025-01-27T22:03:42.333Z"
   },
   {
    "duration": 5,
    "start_time": "2025-01-27T22:03:42.338Z"
   },
   {
    "duration": 11,
    "start_time": "2025-01-27T22:03:42.344Z"
   },
   {
    "duration": 14,
    "start_time": "2025-01-27T22:03:42.356Z"
   },
   {
    "duration": 60,
    "start_time": "2025-01-27T22:03:42.372Z"
   },
   {
    "duration": 23,
    "start_time": "2025-01-27T22:03:42.434Z"
   },
   {
    "duration": 30,
    "start_time": "2025-01-27T22:03:42.462Z"
   },
   {
    "duration": 12,
    "start_time": "2025-01-27T22:03:42.513Z"
   },
   {
    "duration": 62,
    "start_time": "2025-01-27T22:03:42.527Z"
   },
   {
    "duration": 55,
    "start_time": "2025-01-27T22:03:42.591Z"
   },
   {
    "duration": 6,
    "start_time": "2025-01-27T22:03:42.648Z"
   },
   {
    "duration": 5,
    "start_time": "2025-01-27T22:03:42.656Z"
   },
   {
    "duration": 9,
    "start_time": "2025-01-27T22:03:42.662Z"
   },
   {
    "duration": 392,
    "start_time": "2025-01-27T22:03:42.672Z"
   },
   {
    "duration": 10,
    "start_time": "2025-01-27T22:03:43.066Z"
   },
   {
    "duration": 204,
    "start_time": "2025-01-27T22:03:43.077Z"
   },
   {
    "duration": 275,
    "start_time": "2025-01-27T22:03:43.283Z"
   },
   {
    "duration": 12,
    "start_time": "2025-01-27T22:03:43.560Z"
   },
   {
    "duration": 308,
    "start_time": "2025-01-27T22:03:43.575Z"
   },
   {
    "duration": 49,
    "start_time": "2025-01-27T22:03:43.885Z"
   },
   {
    "duration": 274,
    "start_time": "2025-01-27T22:03:43.935Z"
   },
   {
    "duration": 721,
    "start_time": "2025-01-27T22:03:44.212Z"
   },
   {
    "duration": 3,
    "start_time": "2025-01-27T22:03:44.935Z"
   },
   {
    "duration": 181,
    "start_time": "2025-01-27T22:03:44.940Z"
   },
   {
    "duration": 268,
    "start_time": "2025-01-27T22:03:45.123Z"
   },
   {
    "duration": 279,
    "start_time": "2025-01-27T22:03:45.394Z"
   },
   {
    "duration": 658,
    "start_time": "2025-01-27T22:03:45.675Z"
   },
   {
    "duration": 218,
    "start_time": "2025-01-27T22:03:46.335Z"
   },
   {
    "duration": 604,
    "start_time": "2025-01-27T22:03:46.555Z"
   },
   {
    "duration": 399,
    "start_time": "2025-01-27T22:03:47.161Z"
   },
   {
    "duration": 149,
    "start_time": "2025-01-27T22:03:47.562Z"
   },
   {
    "duration": 4,
    "start_time": "2025-01-27T22:15:09.782Z"
   },
   {
    "duration": 5,
    "start_time": "2025-01-27T22:16:56.472Z"
   },
   {
    "duration": 28,
    "start_time": "2025-01-27T22:19:22.680Z"
   },
   {
    "duration": 34,
    "start_time": "2025-01-27T22:19:31.979Z"
   },
   {
    "duration": 5,
    "start_time": "2025-01-27T22:27:58.884Z"
   },
   {
    "duration": 4,
    "start_time": "2025-01-27T22:28:39.282Z"
   },
   {
    "duration": 101,
    "start_time": "2025-01-27T22:28:50.731Z"
   },
   {
    "duration": 15,
    "start_time": "2025-01-27T22:28:54.695Z"
   },
   {
    "duration": 5,
    "start_time": "2025-01-27T22:29:00.209Z"
   },
   {
    "duration": 498,
    "start_time": "2025-01-27T22:29:18.108Z"
   },
   {
    "duration": 37,
    "start_time": "2025-01-27T22:29:31.916Z"
   },
   {
    "duration": 6,
    "start_time": "2025-01-27T22:29:54.137Z"
   },
   {
    "duration": 11,
    "start_time": "2025-01-27T22:30:04.379Z"
   },
   {
    "duration": 11,
    "start_time": "2025-01-27T22:30:23.796Z"
   },
   {
    "duration": 13,
    "start_time": "2025-01-27T22:31:08.856Z"
   },
   {
    "duration": 8,
    "start_time": "2025-01-27T22:31:19.433Z"
   },
   {
    "duration": 7,
    "start_time": "2025-01-27T22:32:11.965Z"
   },
   {
    "duration": 6,
    "start_time": "2025-01-27T22:32:25.591Z"
   },
   {
    "duration": 4,
    "start_time": "2025-01-27T22:32:53.498Z"
   },
   {
    "duration": 4,
    "start_time": "2025-01-27T22:33:06.097Z"
   },
   {
    "duration": 4,
    "start_time": "2025-01-27T22:33:32.892Z"
   },
   {
    "duration": 19,
    "start_time": "2025-01-27T22:37:10.220Z"
   },
   {
    "duration": 14,
    "start_time": "2025-01-27T22:40:06.216Z"
   },
   {
    "duration": 3,
    "start_time": "2025-01-27T22:40:54.955Z"
   },
   {
    "duration": 21,
    "start_time": "2025-01-27T22:41:28.026Z"
   },
   {
    "duration": 26,
    "start_time": "2025-01-27T22:42:01.230Z"
   },
   {
    "duration": 595,
    "start_time": "2025-01-27T22:42:15.078Z"
   },
   {
    "duration": 820,
    "start_time": "2025-01-27T22:44:25.172Z"
   },
   {
    "duration": 628,
    "start_time": "2025-01-27T22:46:19.698Z"
   },
   {
    "duration": 643,
    "start_time": "2025-01-27T22:46:36.761Z"
   },
   {
    "duration": 628,
    "start_time": "2025-01-27T22:48:57.931Z"
   },
   {
    "duration": 671,
    "start_time": "2025-01-27T22:49:53.636Z"
   },
   {
    "duration": 625,
    "start_time": "2025-01-27T22:50:12.500Z"
   },
   {
    "duration": 658,
    "start_time": "2025-01-27T22:51:34.323Z"
   },
   {
    "duration": 632,
    "start_time": "2025-01-27T22:52:48.895Z"
   },
   {
    "duration": 300,
    "start_time": "2025-01-27T22:54:19.277Z"
   },
   {
    "duration": 3,
    "start_time": "2025-01-27T22:54:46.095Z"
   },
   {
    "duration": 120,
    "start_time": "2025-01-27T22:54:46.100Z"
   },
   {
    "duration": 45,
    "start_time": "2025-01-27T22:54:46.223Z"
   },
   {
    "duration": 12,
    "start_time": "2025-01-27T22:54:46.270Z"
   },
   {
    "duration": 32,
    "start_time": "2025-01-27T22:54:46.285Z"
   },
   {
    "duration": 840,
    "start_time": "2025-01-27T22:54:46.319Z"
   },
   {
    "duration": 81,
    "start_time": "2025-01-27T22:54:47.160Z"
   },
   {
    "duration": 15,
    "start_time": "2025-01-27T22:54:47.243Z"
   },
   {
    "duration": 109,
    "start_time": "2025-01-27T22:54:47.260Z"
   },
   {
    "duration": 76,
    "start_time": "2025-01-27T22:54:47.371Z"
   },
   {
    "duration": 24,
    "start_time": "2025-01-27T22:54:47.449Z"
   },
   {
    "duration": 12,
    "start_time": "2025-01-27T22:54:47.475Z"
   },
   {
    "duration": 4,
    "start_time": "2025-01-27T22:54:47.488Z"
   },
   {
    "duration": 27,
    "start_time": "2025-01-27T22:54:47.512Z"
   },
   {
    "duration": 17,
    "start_time": "2025-01-27T22:54:47.540Z"
   },
   {
    "duration": 4,
    "start_time": "2025-01-27T22:54:47.558Z"
   },
   {
    "duration": 4,
    "start_time": "2025-01-27T22:54:47.564Z"
   },
   {
    "duration": 760,
    "start_time": "2025-01-27T22:54:47.570Z"
   },
   {
    "duration": 691,
    "start_time": "2025-01-27T22:54:48.331Z"
   },
   {
    "duration": 3,
    "start_time": "2025-01-27T22:54:49.024Z"
   },
   {
    "duration": 13,
    "start_time": "2025-01-27T22:54:49.029Z"
   },
   {
    "duration": 3,
    "start_time": "2025-01-27T22:54:49.044Z"
   },
   {
    "duration": 3,
    "start_time": "2025-01-27T22:54:49.049Z"
   },
   {
    "duration": 10,
    "start_time": "2025-01-27T22:54:49.054Z"
   },
   {
    "duration": 47,
    "start_time": "2025-01-27T22:54:49.065Z"
   },
   {
    "duration": 19,
    "start_time": "2025-01-27T22:54:49.114Z"
   },
   {
    "duration": 19,
    "start_time": "2025-01-27T22:54:49.135Z"
   },
   {
    "duration": 30,
    "start_time": "2025-01-27T22:54:49.156Z"
   },
   {
    "duration": 13,
    "start_time": "2025-01-27T22:54:49.212Z"
   },
   {
    "duration": 62,
    "start_time": "2025-01-27T22:54:49.227Z"
   },
   {
    "duration": 64,
    "start_time": "2025-01-27T22:54:49.291Z"
   },
   {
    "duration": 6,
    "start_time": "2025-01-27T22:54:49.357Z"
   },
   {
    "duration": 5,
    "start_time": "2025-01-27T22:54:49.364Z"
   },
   {
    "duration": 9,
    "start_time": "2025-01-27T22:54:49.371Z"
   },
   {
    "duration": 363,
    "start_time": "2025-01-27T22:54:49.382Z"
   },
   {
    "duration": 9,
    "start_time": "2025-01-27T22:54:49.747Z"
   },
   {
    "duration": 204,
    "start_time": "2025-01-27T22:54:49.757Z"
   },
   {
    "duration": 269,
    "start_time": "2025-01-27T22:54:49.963Z"
   },
   {
    "duration": 13,
    "start_time": "2025-01-27T22:54:50.234Z"
   },
   {
    "duration": 315,
    "start_time": "2025-01-27T22:54:50.249Z"
   },
   {
    "duration": 50,
    "start_time": "2025-01-27T22:54:50.569Z"
   },
   {
    "duration": 216,
    "start_time": "2025-01-27T22:54:50.620Z"
   },
   {
    "duration": 811,
    "start_time": "2025-01-27T22:54:50.838Z"
   },
   {
    "duration": 3,
    "start_time": "2025-01-27T22:54:51.651Z"
   },
   {
    "duration": 374,
    "start_time": "2025-01-27T22:54:51.656Z"
   },
   {
    "duration": 269,
    "start_time": "2025-01-27T22:54:52.032Z"
   },
   {
    "duration": 388,
    "start_time": "2025-01-27T22:54:52.303Z"
   },
   {
    "duration": 659,
    "start_time": "2025-01-27T22:54:52.694Z"
   },
   {
    "duration": 189,
    "start_time": "2025-01-27T22:54:53.355Z"
   },
   {
    "duration": 659,
    "start_time": "2025-01-27T22:54:53.546Z"
   },
   {
    "duration": 409,
    "start_time": "2025-01-27T22:54:54.207Z"
   },
   {
    "duration": 162,
    "start_time": "2025-01-27T22:54:54.618Z"
   },
   {
    "duration": 39,
    "start_time": "2025-01-27T22:55:45.941Z"
   },
   {
    "duration": 19,
    "start_time": "2025-01-27T22:55:57.776Z"
   },
   {
    "duration": 23,
    "start_time": "2025-01-27T22:56:34.370Z"
   },
   {
    "duration": 6,
    "start_time": "2025-01-27T22:56:48.117Z"
   },
   {
    "duration": 18,
    "start_time": "2025-01-27T22:56:56.612Z"
   },
   {
    "duration": 23,
    "start_time": "2025-01-27T22:57:21.813Z"
   },
   {
    "duration": 683,
    "start_time": "2025-01-27T22:57:26.788Z"
   },
   {
    "duration": 696,
    "start_time": "2025-01-27T22:57:39.482Z"
   },
   {
    "duration": 1851,
    "start_time": "2025-01-27T22:57:56.207Z"
   },
   {
    "duration": 643,
    "start_time": "2025-01-27T22:58:24.905Z"
   },
   {
    "duration": 724,
    "start_time": "2025-01-27T22:58:38.154Z"
   },
   {
    "duration": 3,
    "start_time": "2025-01-27T22:59:02.126Z"
   },
   {
    "duration": 112,
    "start_time": "2025-01-27T22:59:02.131Z"
   },
   {
    "duration": 37,
    "start_time": "2025-01-27T22:59:02.244Z"
   },
   {
    "duration": 10,
    "start_time": "2025-01-27T22:59:02.283Z"
   },
   {
    "duration": 10,
    "start_time": "2025-01-27T22:59:02.311Z"
   },
   {
    "duration": 748,
    "start_time": "2025-01-27T22:59:02.323Z"
   },
   {
    "duration": 73,
    "start_time": "2025-01-27T22:59:03.073Z"
   },
   {
    "duration": 11,
    "start_time": "2025-01-27T22:59:03.148Z"
   },
   {
    "duration": 94,
    "start_time": "2025-01-27T22:59:03.160Z"
   },
   {
    "duration": 81,
    "start_time": "2025-01-27T22:59:03.256Z"
   },
   {
    "duration": 26,
    "start_time": "2025-01-27T22:59:03.339Z"
   },
   {
    "duration": 14,
    "start_time": "2025-01-27T22:59:03.367Z"
   },
   {
    "duration": 5,
    "start_time": "2025-01-27T22:59:03.383Z"
   },
   {
    "duration": 31,
    "start_time": "2025-01-27T22:59:03.411Z"
   },
   {
    "duration": 18,
    "start_time": "2025-01-27T22:59:03.444Z"
   },
   {
    "duration": 6,
    "start_time": "2025-01-27T22:59:03.463Z"
   },
   {
    "duration": 6,
    "start_time": "2025-01-27T22:59:03.472Z"
   },
   {
    "duration": 773,
    "start_time": "2025-01-27T22:59:03.480Z"
   },
   {
    "duration": 611,
    "start_time": "2025-01-27T22:59:04.255Z"
   },
   {
    "duration": 4,
    "start_time": "2025-01-27T22:59:04.868Z"
   },
   {
    "duration": 13,
    "start_time": "2025-01-27T22:59:04.873Z"
   },
   {
    "duration": 24,
    "start_time": "2025-01-27T22:59:04.888Z"
   },
   {
    "duration": 4,
    "start_time": "2025-01-27T22:59:04.914Z"
   },
   {
    "duration": 12,
    "start_time": "2025-01-27T22:59:04.920Z"
   },
   {
    "duration": 16,
    "start_time": "2025-01-27T22:59:04.933Z"
   },
   {
    "duration": 20,
    "start_time": "2025-01-27T22:59:04.950Z"
   },
   {
    "duration": 57,
    "start_time": "2025-01-27T22:59:04.971Z"
   },
   {
    "duration": 37,
    "start_time": "2025-01-27T22:59:05.031Z"
   },
   {
    "duration": 14,
    "start_time": "2025-01-27T22:59:05.070Z"
   },
   {
    "duration": 81,
    "start_time": "2025-01-27T22:59:05.085Z"
   },
   {
    "duration": 67,
    "start_time": "2025-01-27T22:59:05.168Z"
   },
   {
    "duration": 5,
    "start_time": "2025-01-27T22:59:05.237Z"
   },
   {
    "duration": 6,
    "start_time": "2025-01-27T22:59:05.244Z"
   },
   {
    "duration": 8,
    "start_time": "2025-01-27T22:59:05.252Z"
   },
   {
    "duration": 976,
    "start_time": "2025-01-27T22:59:05.261Z"
   },
   {
    "duration": 10,
    "start_time": "2025-01-27T22:59:06.239Z"
   },
   {
    "duration": 211,
    "start_time": "2025-01-27T22:59:06.251Z"
   },
   {
    "duration": 318,
    "start_time": "2025-01-27T22:59:06.464Z"
   },
   {
    "duration": 14,
    "start_time": "2025-01-27T22:59:06.784Z"
   },
   {
    "duration": 515,
    "start_time": "2025-01-27T22:59:06.801Z"
   },
   {
    "duration": 41,
    "start_time": "2025-01-27T22:59:07.321Z"
   },
   {
    "duration": 221,
    "start_time": "2025-01-27T22:59:07.363Z"
   },
   {
    "duration": 660,
    "start_time": "2025-01-27T22:59:07.586Z"
   },
   {
    "duration": 3,
    "start_time": "2025-01-27T22:59:08.248Z"
   },
   {
    "duration": 189,
    "start_time": "2025-01-27T22:59:08.252Z"
   },
   {
    "duration": 224,
    "start_time": "2025-01-27T22:59:08.443Z"
   },
   {
    "duration": 271,
    "start_time": "2025-01-27T22:59:08.670Z"
   },
   {
    "duration": 627,
    "start_time": "2025-01-27T22:59:08.942Z"
   },
   {
    "duration": 210,
    "start_time": "2025-01-27T22:59:09.571Z"
   },
   {
    "duration": 654,
    "start_time": "2025-01-27T22:59:09.782Z"
   },
   {
    "duration": 397,
    "start_time": "2025-01-27T22:59:10.438Z"
   },
   {
    "duration": 140,
    "start_time": "2025-01-27T22:59:10.837Z"
   },
   {
    "duration": 14,
    "start_time": "2025-01-27T22:59:45.065Z"
   },
   {
    "duration": 1815,
    "start_time": "2025-01-27T23:00:38.389Z"
   },
   {
    "duration": 30,
    "start_time": "2025-01-27T23:14:48.276Z"
   },
   {
    "duration": 6,
    "start_time": "2025-01-27T23:27:25.594Z"
   },
   {
    "duration": 318,
    "start_time": "2025-01-27T23:36:26.348Z"
   },
   {
    "duration": 182,
    "start_time": "2025-01-27T23:38:44.402Z"
   },
   {
    "duration": 264,
    "start_time": "2025-01-27T23:41:01.591Z"
   },
   {
    "duration": 341,
    "start_time": "2025-01-27T23:46:00.539Z"
   },
   {
    "duration": 4,
    "start_time": "2025-01-27T23:51:22.623Z"
   },
   {
    "duration": 5,
    "start_time": "2025-01-27T23:56:11.479Z"
   },
   {
    "duration": 5,
    "start_time": "2025-01-28T00:05:28.924Z"
   },
   {
    "duration": 5,
    "start_time": "2025-01-28T00:05:38.835Z"
   },
   {
    "duration": 2183,
    "start_time": "2025-01-28T01:19:58.407Z"
   },
   {
    "duration": 168,
    "start_time": "2025-01-28T01:20:00.593Z"
   },
   {
    "duration": 66,
    "start_time": "2025-01-28T01:20:00.763Z"
   },
   {
    "duration": 14,
    "start_time": "2025-01-28T01:20:00.832Z"
   },
   {
    "duration": 13,
    "start_time": "2025-01-28T01:20:00.848Z"
   },
   {
    "duration": 909,
    "start_time": "2025-01-28T01:20:00.864Z"
   },
   {
    "duration": 92,
    "start_time": "2025-01-28T01:20:01.775Z"
   },
   {
    "duration": 15,
    "start_time": "2025-01-28T01:20:01.870Z"
   },
   {
    "duration": 113,
    "start_time": "2025-01-28T01:20:01.888Z"
   },
   {
    "duration": 93,
    "start_time": "2025-01-28T01:20:02.004Z"
   },
   {
    "duration": 41,
    "start_time": "2025-01-28T01:20:02.099Z"
   },
   {
    "duration": 12,
    "start_time": "2025-01-28T01:20:02.144Z"
   },
   {
    "duration": 4,
    "start_time": "2025-01-28T01:20:02.158Z"
   },
   {
    "duration": 26,
    "start_time": "2025-01-28T01:20:02.164Z"
   },
   {
    "duration": 47,
    "start_time": "2025-01-28T01:20:02.192Z"
   },
   {
    "duration": 4,
    "start_time": "2025-01-28T01:20:02.242Z"
   },
   {
    "duration": 4,
    "start_time": "2025-01-28T01:20:02.249Z"
   },
   {
    "duration": 828,
    "start_time": "2025-01-28T01:20:02.254Z"
   },
   {
    "duration": 784,
    "start_time": "2025-01-28T01:20:03.084Z"
   },
   {
    "duration": 2108,
    "start_time": "2025-01-28T01:20:03.870Z"
   },
   {
    "duration": 6,
    "start_time": "2025-01-28T01:20:05.980Z"
   },
   {
    "duration": 13,
    "start_time": "2025-01-28T01:20:05.988Z"
   },
   {
    "duration": 23,
    "start_time": "2025-01-28T01:20:06.003Z"
   },
   {
    "duration": 5,
    "start_time": "2025-01-28T01:20:06.028Z"
   },
   {
    "duration": 10,
    "start_time": "2025-01-28T01:20:06.035Z"
   },
   {
    "duration": 15,
    "start_time": "2025-01-28T01:20:06.047Z"
   },
   {
    "duration": 23,
    "start_time": "2025-01-28T01:20:06.064Z"
   },
   {
    "duration": 24,
    "start_time": "2025-01-28T01:20:06.126Z"
   },
   {
    "duration": 45,
    "start_time": "2025-01-28T01:20:06.154Z"
   },
   {
    "duration": 23,
    "start_time": "2025-01-28T01:20:06.203Z"
   },
   {
    "duration": 63,
    "start_time": "2025-01-28T01:20:06.228Z"
   },
   {
    "duration": 54,
    "start_time": "2025-01-28T01:20:06.293Z"
   },
   {
    "duration": 6,
    "start_time": "2025-01-28T01:20:06.348Z"
   },
   {
    "duration": 5,
    "start_time": "2025-01-28T01:20:06.357Z"
   },
   {
    "duration": 9,
    "start_time": "2025-01-28T01:20:06.364Z"
   },
   {
    "duration": 421,
    "start_time": "2025-01-28T01:20:06.374Z"
   },
   {
    "duration": 11,
    "start_time": "2025-01-28T01:20:06.797Z"
   },
   {
    "duration": 236,
    "start_time": "2025-01-28T01:20:06.811Z"
   },
   {
    "duration": 293,
    "start_time": "2025-01-28T01:20:07.049Z"
   },
   {
    "duration": 13,
    "start_time": "2025-01-28T01:20:07.344Z"
   },
   {
    "duration": 392,
    "start_time": "2025-01-28T01:20:07.359Z"
   },
   {
    "duration": 49,
    "start_time": "2025-01-28T01:20:07.754Z"
   },
   {
    "duration": 19,
    "start_time": "2025-01-28T01:20:07.805Z"
   },
   {
    "duration": 263,
    "start_time": "2025-01-28T01:20:07.826Z"
   },
   {
    "duration": 734,
    "start_time": "2025-01-28T01:20:08.091Z"
   },
   {
    "duration": 3,
    "start_time": "2025-01-28T01:20:08.827Z"
   },
   {
    "duration": 206,
    "start_time": "2025-01-28T01:20:08.831Z"
   },
   {
    "duration": 321,
    "start_time": "2025-01-28T01:20:09.038Z"
   },
   {
    "duration": 337,
    "start_time": "2025-01-28T01:20:09.361Z"
   },
   {
    "duration": 740,
    "start_time": "2025-01-28T01:20:09.700Z"
   },
   {
    "duration": 247,
    "start_time": "2025-01-28T01:20:10.443Z"
   },
   {
    "duration": 710,
    "start_time": "2025-01-28T01:20:10.692Z"
   },
   {
    "duration": 423,
    "start_time": "2025-01-28T01:20:11.404Z"
   },
   {
    "duration": 163,
    "start_time": "2025-01-28T01:20:11.828Z"
   },
   {
    "duration": 5,
    "start_time": "2025-01-28T01:20:11.993Z"
   },
   {
    "duration": 5,
    "start_time": "2025-01-28T01:20:37.052Z"
   },
   {
    "duration": 5,
    "start_time": "2025-01-28T01:20:41.654Z"
   },
   {
    "duration": 119,
    "start_time": "2025-01-28T01:20:41.662Z"
   },
   {
    "duration": 45,
    "start_time": "2025-01-28T01:20:41.782Z"
   },
   {
    "duration": 11,
    "start_time": "2025-01-28T01:20:41.830Z"
   },
   {
    "duration": 9,
    "start_time": "2025-01-28T01:20:41.843Z"
   },
   {
    "duration": 729,
    "start_time": "2025-01-28T01:20:41.854Z"
   },
   {
    "duration": 82,
    "start_time": "2025-01-28T01:20:42.585Z"
   },
   {
    "duration": 18,
    "start_time": "2025-01-28T01:20:42.668Z"
   },
   {
    "duration": 98,
    "start_time": "2025-01-28T01:20:42.689Z"
   },
   {
    "duration": 73,
    "start_time": "2025-01-28T01:20:42.790Z"
   },
   {
    "duration": 25,
    "start_time": "2025-01-28T01:20:42.866Z"
   },
   {
    "duration": 16,
    "start_time": "2025-01-28T01:20:42.893Z"
   },
   {
    "duration": 5,
    "start_time": "2025-01-28T01:20:42.924Z"
   },
   {
    "duration": 34,
    "start_time": "2025-01-28T01:20:42.930Z"
   },
   {
    "duration": 19,
    "start_time": "2025-01-28T01:20:42.965Z"
   },
   {
    "duration": 3,
    "start_time": "2025-01-28T01:20:42.988Z"
   },
   {
    "duration": 31,
    "start_time": "2025-01-28T01:20:42.993Z"
   },
   {
    "duration": 743,
    "start_time": "2025-01-28T01:20:43.025Z"
   },
   {
    "duration": 734,
    "start_time": "2025-01-28T01:20:43.771Z"
   },
   {
    "duration": 1966,
    "start_time": "2025-01-28T01:20:44.509Z"
   },
   {
    "duration": 5,
    "start_time": "2025-01-28T01:20:46.477Z"
   },
   {
    "duration": 11,
    "start_time": "2025-01-28T01:20:46.484Z"
   },
   {
    "duration": 4,
    "start_time": "2025-01-28T01:20:46.497Z"
   },
   {
    "duration": 2,
    "start_time": "2025-01-28T01:20:46.525Z"
   },
   {
    "duration": 10,
    "start_time": "2025-01-28T01:20:46.529Z"
   },
   {
    "duration": 18,
    "start_time": "2025-01-28T01:20:46.542Z"
   },
   {
    "duration": 26,
    "start_time": "2025-01-28T01:20:46.562Z"
   },
   {
    "duration": 38,
    "start_time": "2025-01-28T01:20:46.591Z"
   },
   {
    "duration": 30,
    "start_time": "2025-01-28T01:20:46.631Z"
   },
   {
    "duration": 8,
    "start_time": "2025-01-28T01:20:46.663Z"
   },
   {
    "duration": 89,
    "start_time": "2025-01-28T01:20:46.672Z"
   },
   {
    "duration": 61,
    "start_time": "2025-01-28T01:20:46.763Z"
   },
   {
    "duration": 8,
    "start_time": "2025-01-28T01:20:46.825Z"
   },
   {
    "duration": 6,
    "start_time": "2025-01-28T01:20:46.834Z"
   },
   {
    "duration": 11,
    "start_time": "2025-01-28T01:20:46.843Z"
   },
   {
    "duration": 374,
    "start_time": "2025-01-28T01:20:46.856Z"
   },
   {
    "duration": 12,
    "start_time": "2025-01-28T01:20:47.232Z"
   },
   {
    "duration": 198,
    "start_time": "2025-01-28T01:20:47.246Z"
   },
   {
    "duration": 293,
    "start_time": "2025-01-28T01:20:47.446Z"
   },
   {
    "duration": 15,
    "start_time": "2025-01-28T01:20:47.741Z"
   },
   {
    "duration": 405,
    "start_time": "2025-01-28T01:20:47.758Z"
   },
   {
    "duration": 47,
    "start_time": "2025-01-28T01:20:48.165Z"
   },
   {
    "duration": 15,
    "start_time": "2025-01-28T01:20:48.214Z"
   },
   {
    "duration": 238,
    "start_time": "2025-01-28T01:20:48.231Z"
   },
   {
    "duration": 698,
    "start_time": "2025-01-28T01:20:48.471Z"
   },
   {
    "duration": 3,
    "start_time": "2025-01-28T01:20:49.171Z"
   },
   {
    "duration": 226,
    "start_time": "2025-01-28T01:20:49.176Z"
   },
   {
    "duration": 247,
    "start_time": "2025-01-28T01:20:49.404Z"
   },
   {
    "duration": 273,
    "start_time": "2025-01-28T01:20:49.653Z"
   },
   {
    "duration": 659,
    "start_time": "2025-01-28T01:20:49.927Z"
   },
   {
    "duration": 205,
    "start_time": "2025-01-28T01:20:50.588Z"
   },
   {
    "duration": 601,
    "start_time": "2025-01-28T01:20:50.795Z"
   },
   {
    "duration": 403,
    "start_time": "2025-01-28T01:20:51.398Z"
   },
   {
    "duration": 173,
    "start_time": "2025-01-28T01:20:51.803Z"
   },
   {
    "duration": 0,
    "start_time": "2025-01-28T01:20:51.983Z"
   },
   {
    "duration": 110,
    "start_time": "2025-01-28T01:28:51.439Z"
   },
   {
    "duration": 180,
    "start_time": "2025-01-28T02:41:49.169Z"
   },
   {
    "duration": 0,
    "start_time": "2025-01-28T02:41:49.353Z"
   },
   {
    "duration": 0,
    "start_time": "2025-01-28T02:41:49.355Z"
   },
   {
    "duration": 0,
    "start_time": "2025-01-28T02:41:49.357Z"
   },
   {
    "duration": 0,
    "start_time": "2025-01-28T02:41:49.359Z"
   },
   {
    "duration": 0,
    "start_time": "2025-01-28T02:41:49.360Z"
   },
   {
    "duration": 0,
    "start_time": "2025-01-28T02:41:49.361Z"
   },
   {
    "duration": 0,
    "start_time": "2025-01-28T02:41:49.363Z"
   },
   {
    "duration": 0,
    "start_time": "2025-01-28T02:41:49.365Z"
   },
   {
    "duration": 0,
    "start_time": "2025-01-28T02:41:49.366Z"
   },
   {
    "duration": 0,
    "start_time": "2025-01-28T02:41:49.368Z"
   },
   {
    "duration": 0,
    "start_time": "2025-01-28T02:41:49.369Z"
   },
   {
    "duration": 0,
    "start_time": "2025-01-28T02:41:49.371Z"
   },
   {
    "duration": 0,
    "start_time": "2025-01-28T02:41:49.372Z"
   },
   {
    "duration": 0,
    "start_time": "2025-01-28T02:41:49.374Z"
   },
   {
    "duration": 0,
    "start_time": "2025-01-28T02:41:49.375Z"
   },
   {
    "duration": 0,
    "start_time": "2025-01-28T02:41:49.376Z"
   },
   {
    "duration": 0,
    "start_time": "2025-01-28T02:41:49.377Z"
   },
   {
    "duration": 0,
    "start_time": "2025-01-28T02:41:49.378Z"
   },
   {
    "duration": 0,
    "start_time": "2025-01-28T02:41:49.379Z"
   },
   {
    "duration": 0,
    "start_time": "2025-01-28T02:41:49.380Z"
   },
   {
    "duration": 0,
    "start_time": "2025-01-28T02:41:49.382Z"
   },
   {
    "duration": 0,
    "start_time": "2025-01-28T02:41:49.383Z"
   },
   {
    "duration": 0,
    "start_time": "2025-01-28T02:41:49.385Z"
   },
   {
    "duration": 0,
    "start_time": "2025-01-28T02:41:49.386Z"
   },
   {
    "duration": 0,
    "start_time": "2025-01-28T02:41:49.388Z"
   },
   {
    "duration": 0,
    "start_time": "2025-01-28T02:41:49.443Z"
   },
   {
    "duration": 1,
    "start_time": "2025-01-28T02:41:49.444Z"
   },
   {
    "duration": 0,
    "start_time": "2025-01-28T02:41:49.446Z"
   },
   {
    "duration": 0,
    "start_time": "2025-01-28T02:41:49.446Z"
   },
   {
    "duration": 0,
    "start_time": "2025-01-28T02:41:49.448Z"
   },
   {
    "duration": 0,
    "start_time": "2025-01-28T02:41:49.450Z"
   },
   {
    "duration": 0,
    "start_time": "2025-01-28T02:41:49.451Z"
   },
   {
    "duration": 0,
    "start_time": "2025-01-28T02:41:49.452Z"
   },
   {
    "duration": 0,
    "start_time": "2025-01-28T02:41:49.454Z"
   },
   {
    "duration": 0,
    "start_time": "2025-01-28T02:41:49.455Z"
   },
   {
    "duration": 0,
    "start_time": "2025-01-28T02:41:49.457Z"
   },
   {
    "duration": 0,
    "start_time": "2025-01-28T02:41:49.458Z"
   },
   {
    "duration": 0,
    "start_time": "2025-01-28T02:41:49.459Z"
   },
   {
    "duration": 0,
    "start_time": "2025-01-28T02:41:49.460Z"
   },
   {
    "duration": 0,
    "start_time": "2025-01-28T02:41:49.462Z"
   },
   {
    "duration": 0,
    "start_time": "2025-01-28T02:41:49.463Z"
   },
   {
    "duration": 0,
    "start_time": "2025-01-28T02:41:49.464Z"
   },
   {
    "duration": 0,
    "start_time": "2025-01-28T02:41:49.466Z"
   },
   {
    "duration": 0,
    "start_time": "2025-01-28T02:41:49.467Z"
   },
   {
    "duration": 0,
    "start_time": "2025-01-28T02:41:49.468Z"
   },
   {
    "duration": 0,
    "start_time": "2025-01-28T02:41:49.469Z"
   },
   {
    "duration": 0,
    "start_time": "2025-01-28T02:41:49.470Z"
   },
   {
    "duration": 0,
    "start_time": "2025-01-28T02:41:49.471Z"
   },
   {
    "duration": 0,
    "start_time": "2025-01-28T02:41:49.472Z"
   },
   {
    "duration": 0,
    "start_time": "2025-01-28T02:41:49.473Z"
   },
   {
    "duration": 0,
    "start_time": "2025-01-28T02:41:49.474Z"
   },
   {
    "duration": 0,
    "start_time": "2025-01-28T02:41:49.475Z"
   },
   {
    "duration": 623,
    "start_time": "2025-01-28T06:30:21.045Z"
   },
   {
    "duration": 248,
    "start_time": "2025-01-28T06:30:21.671Z"
   },
   {
    "duration": 85,
    "start_time": "2025-01-28T06:30:21.922Z"
   },
   {
    "duration": 14,
    "start_time": "2025-01-28T06:30:22.009Z"
   },
   {
    "duration": 21,
    "start_time": "2025-01-28T06:30:22.028Z"
   },
   {
    "duration": 1522,
    "start_time": "2025-01-28T06:30:22.051Z"
   },
   {
    "duration": 99,
    "start_time": "2025-01-28T06:30:23.575Z"
   },
   {
    "duration": 15,
    "start_time": "2025-01-28T06:30:23.676Z"
   },
   {
    "duration": 129,
    "start_time": "2025-01-28T06:30:23.692Z"
   },
   {
    "duration": 115,
    "start_time": "2025-01-28T06:30:23.829Z"
   },
   {
    "duration": 33,
    "start_time": "2025-01-28T06:30:23.946Z"
   },
   {
    "duration": 12,
    "start_time": "2025-01-28T06:30:23.981Z"
   },
   {
    "duration": 3,
    "start_time": "2025-01-28T06:30:23.995Z"
   },
   {
    "duration": 71,
    "start_time": "2025-01-28T06:30:24.000Z"
   },
   {
    "duration": 16,
    "start_time": "2025-01-28T06:30:24.072Z"
   },
   {
    "duration": 4,
    "start_time": "2025-01-28T06:30:24.090Z"
   },
   {
    "duration": 4,
    "start_time": "2025-01-28T06:30:24.095Z"
   },
   {
    "duration": 919,
    "start_time": "2025-01-28T06:30:24.100Z"
   },
   {
    "duration": 796,
    "start_time": "2025-01-28T06:30:25.028Z"
   },
   {
    "duration": 2265,
    "start_time": "2025-01-28T06:30:25.826Z"
   },
   {
    "duration": 3,
    "start_time": "2025-01-28T06:30:28.093Z"
   },
   {
    "duration": 11,
    "start_time": "2025-01-28T06:30:28.098Z"
   },
   {
    "duration": 6,
    "start_time": "2025-01-28T06:30:28.126Z"
   },
   {
    "duration": 4,
    "start_time": "2025-01-28T06:30:28.134Z"
   },
   {
    "duration": 16,
    "start_time": "2025-01-28T06:30:28.141Z"
   },
   {
    "duration": 18,
    "start_time": "2025-01-28T06:30:28.159Z"
   },
   {
    "duration": 56,
    "start_time": "2025-01-28T06:30:28.179Z"
   },
   {
    "duration": 32,
    "start_time": "2025-01-28T06:30:28.245Z"
   },
   {
    "duration": 29,
    "start_time": "2025-01-28T06:30:28.279Z"
   },
   {
    "duration": 26,
    "start_time": "2025-01-28T06:30:28.310Z"
   },
   {
    "duration": 68,
    "start_time": "2025-01-28T06:30:28.338Z"
   },
   {
    "duration": 50,
    "start_time": "2025-01-28T06:30:28.408Z"
   },
   {
    "duration": 7,
    "start_time": "2025-01-28T06:30:28.463Z"
   },
   {
    "duration": 5,
    "start_time": "2025-01-28T06:30:28.471Z"
   },
   {
    "duration": 8,
    "start_time": "2025-01-28T06:30:28.478Z"
   },
   {
    "duration": 402,
    "start_time": "2025-01-28T06:30:28.488Z"
   },
   {
    "duration": 9,
    "start_time": "2025-01-28T06:30:28.892Z"
   },
   {
    "duration": 228,
    "start_time": "2025-01-28T06:30:28.903Z"
   },
   {
    "duration": 314,
    "start_time": "2025-01-28T06:30:29.133Z"
   },
   {
    "duration": 18,
    "start_time": "2025-01-28T06:30:29.449Z"
   },
   {
    "duration": 422,
    "start_time": "2025-01-28T06:30:29.469Z"
   },
   {
    "duration": 62,
    "start_time": "2025-01-28T06:30:29.893Z"
   },
   {
    "duration": 5,
    "start_time": "2025-01-28T06:30:29.957Z"
   },
   {
    "duration": 236,
    "start_time": "2025-01-28T06:30:29.964Z"
   },
   {
    "duration": 808,
    "start_time": "2025-01-28T06:30:30.202Z"
   },
   {
    "duration": 4,
    "start_time": "2025-01-28T06:30:31.011Z"
   },
   {
    "duration": 200,
    "start_time": "2025-01-28T06:30:31.027Z"
   },
   {
    "duration": 313,
    "start_time": "2025-01-28T06:30:31.229Z"
   },
   {
    "duration": 310,
    "start_time": "2025-01-28T06:30:31.545Z"
   },
   {
    "duration": 794,
    "start_time": "2025-01-28T06:30:31.857Z"
   },
   {
    "duration": 234,
    "start_time": "2025-01-28T06:30:32.654Z"
   },
   {
    "duration": 861,
    "start_time": "2025-01-28T06:30:32.890Z"
   },
   {
    "duration": 445,
    "start_time": "2025-01-28T06:30:33.753Z"
   },
   {
    "duration": 185,
    "start_time": "2025-01-28T06:30:34.200Z"
   },
   {
    "duration": 2128,
    "start_time": "2025-01-28T16:57:01.346Z"
   },
   {
    "duration": 160,
    "start_time": "2025-01-28T16:57:03.477Z"
   },
   {
    "duration": 61,
    "start_time": "2025-01-28T16:57:03.639Z"
   },
   {
    "duration": 13,
    "start_time": "2025-01-28T16:57:03.702Z"
   },
   {
    "duration": 11,
    "start_time": "2025-01-28T16:57:03.717Z"
   },
   {
    "duration": 790,
    "start_time": "2025-01-28T16:57:03.729Z"
   },
   {
    "duration": 92,
    "start_time": "2025-01-28T16:57:04.521Z"
   },
   {
    "duration": 14,
    "start_time": "2025-01-28T16:57:04.615Z"
   },
   {
    "duration": 117,
    "start_time": "2025-01-28T16:57:04.630Z"
   },
   {
    "duration": 87,
    "start_time": "2025-01-28T16:57:04.750Z"
   },
   {
    "duration": 29,
    "start_time": "2025-01-28T16:57:04.839Z"
   },
   {
    "duration": 13,
    "start_time": "2025-01-28T16:57:04.871Z"
   },
   {
    "duration": 26,
    "start_time": "2025-01-28T16:57:04.886Z"
   },
   {
    "duration": 30,
    "start_time": "2025-01-28T16:57:04.917Z"
   },
   {
    "duration": 16,
    "start_time": "2025-01-28T16:57:04.948Z"
   },
   {
    "duration": 5,
    "start_time": "2025-01-28T16:57:04.965Z"
   },
   {
    "duration": 4,
    "start_time": "2025-01-28T16:57:04.973Z"
   },
   {
    "duration": 782,
    "start_time": "2025-01-28T16:57:04.979Z"
   },
   {
    "duration": 694,
    "start_time": "2025-01-28T16:57:05.763Z"
   },
   {
    "duration": 1912,
    "start_time": "2025-01-28T16:57:06.459Z"
   },
   {
    "duration": 4,
    "start_time": "2025-01-28T16:57:08.372Z"
   },
   {
    "duration": 11,
    "start_time": "2025-01-28T16:57:08.377Z"
   },
   {
    "duration": 3,
    "start_time": "2025-01-28T16:57:08.390Z"
   },
   {
    "duration": 25,
    "start_time": "2025-01-28T16:57:08.394Z"
   },
   {
    "duration": 9,
    "start_time": "2025-01-28T16:57:08.421Z"
   },
   {
    "duration": 14,
    "start_time": "2025-01-28T16:57:08.431Z"
   },
   {
    "duration": 22,
    "start_time": "2025-01-28T16:57:08.446Z"
   },
   {
    "duration": 52,
    "start_time": "2025-01-28T16:57:08.470Z"
   },
   {
    "duration": 28,
    "start_time": "2025-01-28T16:57:08.524Z"
   },
   {
    "duration": 7,
    "start_time": "2025-01-28T16:57:08.554Z"
   },
   {
    "duration": 82,
    "start_time": "2025-01-28T16:57:08.562Z"
   },
   {
    "duration": 44,
    "start_time": "2025-01-28T16:57:08.646Z"
   },
   {
    "duration": 22,
    "start_time": "2025-01-28T16:57:08.692Z"
   },
   {
    "duration": 5,
    "start_time": "2025-01-28T16:57:08.715Z"
   },
   {
    "duration": 8,
    "start_time": "2025-01-28T16:57:08.722Z"
   },
   {
    "duration": 346,
    "start_time": "2025-01-28T16:57:08.732Z"
   },
   {
    "duration": 9,
    "start_time": "2025-01-28T16:57:09.081Z"
   },
   {
    "duration": 239,
    "start_time": "2025-01-28T16:57:09.092Z"
   },
   {
    "duration": 275,
    "start_time": "2025-01-28T16:57:09.332Z"
   },
   {
    "duration": 13,
    "start_time": "2025-01-28T16:57:09.611Z"
   },
   {
    "duration": 309,
    "start_time": "2025-01-28T16:57:09.629Z"
   },
   {
    "duration": 42,
    "start_time": "2025-01-28T16:57:09.940Z"
   },
   {
    "duration": 5,
    "start_time": "2025-01-28T16:57:09.984Z"
   },
   {
    "duration": 229,
    "start_time": "2025-01-28T16:57:09.990Z"
   },
   {
    "duration": 688,
    "start_time": "2025-01-28T16:57:10.221Z"
   },
   {
    "duration": 3,
    "start_time": "2025-01-28T16:57:10.910Z"
   },
   {
    "duration": 460,
    "start_time": "2025-01-28T16:57:10.915Z"
   },
   {
    "duration": 181,
    "start_time": "2025-01-28T16:57:11.377Z"
   },
   {
    "duration": 244,
    "start_time": "2025-01-28T16:57:11.560Z"
   },
   {
    "duration": 270,
    "start_time": "2025-01-28T16:57:11.806Z"
   },
   {
    "duration": 705,
    "start_time": "2025-01-28T16:57:12.078Z"
   },
   {
    "duration": 279,
    "start_time": "2025-01-28T16:57:12.785Z"
   },
   {
    "duration": 628,
    "start_time": "2025-01-28T16:57:13.066Z"
   },
   {
    "duration": 394,
    "start_time": "2025-01-28T16:57:13.696Z"
   },
   {
    "duration": 150,
    "start_time": "2025-01-28T16:57:14.092Z"
   },
   {
    "duration": 443,
    "start_time": "2025-01-28T16:57:21.252Z"
   },
   {
    "duration": 620,
    "start_time": "2025-01-28T16:57:40.899Z"
   },
   {
    "duration": 455,
    "start_time": "2025-01-28T16:57:45.971Z"
   },
   {
    "duration": 527,
    "start_time": "2025-01-28T17:17:24.769Z"
   },
   {
    "duration": 445,
    "start_time": "2025-01-28T17:19:51.751Z"
   },
   {
    "duration": 455,
    "start_time": "2025-01-28T17:28:24.652Z"
   },
   {
    "duration": 172,
    "start_time": "2025-01-28T17:28:25.112Z"
   },
   {
    "duration": 48,
    "start_time": "2025-01-28T17:28:25.286Z"
   },
   {
    "duration": 10,
    "start_time": "2025-01-28T17:28:25.337Z"
   },
   {
    "duration": 9,
    "start_time": "2025-01-28T17:28:25.349Z"
   },
   {
    "duration": 742,
    "start_time": "2025-01-28T17:28:25.360Z"
   },
   {
    "duration": 92,
    "start_time": "2025-01-28T17:28:26.104Z"
   },
   {
    "duration": 24,
    "start_time": "2025-01-28T17:28:26.197Z"
   },
   {
    "duration": 106,
    "start_time": "2025-01-28T17:28:26.222Z"
   },
   {
    "duration": 93,
    "start_time": "2025-01-28T17:28:26.331Z"
   },
   {
    "duration": 26,
    "start_time": "2025-01-28T17:28:26.426Z"
   },
   {
    "duration": 11,
    "start_time": "2025-01-28T17:28:26.454Z"
   },
   {
    "duration": 5,
    "start_time": "2025-01-28T17:28:26.466Z"
   },
   {
    "duration": 47,
    "start_time": "2025-01-28T17:28:26.472Z"
   },
   {
    "duration": 16,
    "start_time": "2025-01-28T17:28:26.520Z"
   },
   {
    "duration": 4,
    "start_time": "2025-01-28T17:28:26.537Z"
   },
   {
    "duration": 4,
    "start_time": "2025-01-28T17:28:26.542Z"
   },
   {
    "duration": 783,
    "start_time": "2025-01-28T17:28:26.548Z"
   },
   {
    "duration": 688,
    "start_time": "2025-01-28T17:28:27.332Z"
   },
   {
    "duration": 2013,
    "start_time": "2025-01-28T17:28:28.022Z"
   },
   {
    "duration": 7,
    "start_time": "2025-01-28T17:28:30.037Z"
   },
   {
    "duration": 18,
    "start_time": "2025-01-28T17:28:30.046Z"
   },
   {
    "duration": 5,
    "start_time": "2025-01-28T17:28:30.067Z"
   },
   {
    "duration": 3,
    "start_time": "2025-01-28T17:28:30.075Z"
   },
   {
    "duration": 40,
    "start_time": "2025-01-28T17:28:30.080Z"
   },
   {
    "duration": 15,
    "start_time": "2025-01-28T17:28:30.122Z"
   },
   {
    "duration": 24,
    "start_time": "2025-01-28T17:28:30.140Z"
   },
   {
    "duration": 55,
    "start_time": "2025-01-28T17:28:30.168Z"
   },
   {
    "duration": 31,
    "start_time": "2025-01-28T17:28:30.226Z"
   },
   {
    "duration": 8,
    "start_time": "2025-01-28T17:28:30.259Z"
   },
   {
    "duration": 88,
    "start_time": "2025-01-28T17:28:30.268Z"
   },
   {
    "duration": 54,
    "start_time": "2025-01-28T17:28:30.358Z"
   },
   {
    "duration": 6,
    "start_time": "2025-01-28T17:28:30.413Z"
   },
   {
    "duration": 6,
    "start_time": "2025-01-28T17:28:30.421Z"
   },
   {
    "duration": 10,
    "start_time": "2025-01-28T17:28:30.429Z"
   },
   {
    "duration": 376,
    "start_time": "2025-01-28T17:28:30.441Z"
   },
   {
    "duration": 9,
    "start_time": "2025-01-28T17:28:30.819Z"
   },
   {
    "duration": 210,
    "start_time": "2025-01-28T17:28:30.830Z"
   },
   {
    "duration": 304,
    "start_time": "2025-01-28T17:28:31.042Z"
   },
   {
    "duration": 14,
    "start_time": "2025-01-28T17:28:31.349Z"
   },
   {
    "duration": 399,
    "start_time": "2025-01-28T17:28:31.365Z"
   },
   {
    "duration": 43,
    "start_time": "2025-01-28T17:28:31.768Z"
   },
   {
    "duration": 5,
    "start_time": "2025-01-28T17:28:31.813Z"
   },
   {
    "duration": 236,
    "start_time": "2025-01-28T17:28:31.820Z"
   },
   {
    "duration": 743,
    "start_time": "2025-01-28T17:28:32.058Z"
   },
   {
    "duration": 10,
    "start_time": "2025-01-28T17:28:32.803Z"
   },
   {
    "duration": 466,
    "start_time": "2025-01-28T17:28:32.814Z"
   },
   {
    "duration": 202,
    "start_time": "2025-01-28T17:28:33.281Z"
   },
   {
    "duration": 267,
    "start_time": "2025-01-28T17:28:33.486Z"
   },
   {
    "duration": 272,
    "start_time": "2025-01-28T17:28:33.755Z"
   },
   {
    "duration": 688,
    "start_time": "2025-01-28T17:28:34.029Z"
   },
   {
    "duration": 213,
    "start_time": "2025-01-28T17:28:34.720Z"
   },
   {
    "duration": 667,
    "start_time": "2025-01-28T17:28:34.935Z"
   },
   {
    "duration": 409,
    "start_time": "2025-01-28T17:28:35.604Z"
   },
   {
    "duration": 155,
    "start_time": "2025-01-28T17:28:36.015Z"
   },
   {
    "duration": 551,
    "start_time": "2025-01-28T17:31:54.888Z"
   },
   {
    "duration": 203,
    "start_time": "2025-01-28T17:36:14.710Z"
   },
   {
    "duration": 169,
    "start_time": "2025-01-28T17:36:41.358Z"
   },
   {
    "duration": 12,
    "start_time": "2025-01-28T17:37:02.789Z"
   },
   {
    "duration": 24,
    "start_time": "2025-01-28T17:37:32.795Z"
   },
   {
    "duration": 23,
    "start_time": "2025-01-28T17:38:10.851Z"
   },
   {
    "duration": 444,
    "start_time": "2025-01-28T17:38:41.082Z"
   },
   {
    "duration": 442,
    "start_time": "2025-01-28T17:40:35.812Z"
   },
   {
    "duration": 441,
    "start_time": "2025-01-28T17:41:18.526Z"
   },
   {
    "duration": 3,
    "start_time": "2025-01-28T17:42:36.044Z"
   },
   {
    "duration": 157,
    "start_time": "2025-01-28T19:36:44.022Z"
   },
   {
    "duration": 15,
    "start_time": "2025-01-28T19:36:55.697Z"
   },
   {
    "duration": 15,
    "start_time": "2025-01-28T19:37:13.879Z"
   },
   {
    "duration": 12,
    "start_time": "2025-01-28T19:38:18.828Z"
   },
   {
    "duration": 13,
    "start_time": "2025-01-28T19:38:46.229Z"
   },
   {
    "duration": 16,
    "start_time": "2025-01-28T19:38:55.571Z"
   },
   {
    "duration": 14,
    "start_time": "2025-01-28T19:39:04.169Z"
   },
   {
    "duration": 34,
    "start_time": "2025-01-28T19:39:30.757Z"
   },
   {
    "duration": 2556,
    "start_time": "2025-01-28T19:39:40.572Z"
   },
   {
    "duration": 164,
    "start_time": "2025-01-28T19:39:43.130Z"
   },
   {
    "duration": 62,
    "start_time": "2025-01-28T19:39:43.297Z"
   },
   {
    "duration": 13,
    "start_time": "2025-01-28T19:39:43.361Z"
   },
   {
    "duration": 13,
    "start_time": "2025-01-28T19:39:43.375Z"
   },
   {
    "duration": 823,
    "start_time": "2025-01-28T19:39:43.390Z"
   },
   {
    "duration": 98,
    "start_time": "2025-01-28T19:39:44.216Z"
   },
   {
    "duration": 18,
    "start_time": "2025-01-28T19:39:44.316Z"
   },
   {
    "duration": 114,
    "start_time": "2025-01-28T19:39:44.336Z"
   },
   {
    "duration": 99,
    "start_time": "2025-01-28T19:39:44.452Z"
   },
   {
    "duration": 31,
    "start_time": "2025-01-28T19:39:44.553Z"
   },
   {
    "duration": 12,
    "start_time": "2025-01-28T19:39:44.587Z"
   },
   {
    "duration": 4,
    "start_time": "2025-01-28T19:39:44.602Z"
   },
   {
    "duration": 49,
    "start_time": "2025-01-28T19:39:44.608Z"
   },
   {
    "duration": 17,
    "start_time": "2025-01-28T19:39:44.659Z"
   },
   {
    "duration": 4,
    "start_time": "2025-01-28T19:39:44.677Z"
   },
   {
    "duration": 5,
    "start_time": "2025-01-28T19:39:44.683Z"
   },
   {
    "duration": 787,
    "start_time": "2025-01-28T19:39:44.689Z"
   },
   {
    "duration": 728,
    "start_time": "2025-01-28T19:39:45.478Z"
   },
   {
    "duration": 1996,
    "start_time": "2025-01-28T19:39:46.208Z"
   },
   {
    "duration": 4,
    "start_time": "2025-01-28T19:39:48.206Z"
   },
   {
    "duration": 30,
    "start_time": "2025-01-28T19:39:48.212Z"
   },
   {
    "duration": 4,
    "start_time": "2025-01-28T19:39:48.245Z"
   },
   {
    "duration": 4,
    "start_time": "2025-01-28T19:39:48.251Z"
   },
   {
    "duration": 9,
    "start_time": "2025-01-28T19:39:48.256Z"
   },
   {
    "duration": 14,
    "start_time": "2025-01-28T19:39:48.267Z"
   },
   {
    "duration": 49,
    "start_time": "2025-01-28T19:39:48.283Z"
   },
   {
    "duration": 25,
    "start_time": "2025-01-28T19:39:48.334Z"
   },
   {
    "duration": 31,
    "start_time": "2025-01-28T19:39:48.361Z"
   },
   {
    "duration": 7,
    "start_time": "2025-01-28T19:39:48.395Z"
   },
   {
    "duration": 89,
    "start_time": "2025-01-28T19:39:48.404Z"
   },
   {
    "duration": 54,
    "start_time": "2025-01-28T19:39:48.495Z"
   },
   {
    "duration": 5,
    "start_time": "2025-01-28T19:39:48.551Z"
   },
   {
    "duration": 5,
    "start_time": "2025-01-28T19:39:48.557Z"
   },
   {
    "duration": 8,
    "start_time": "2025-01-28T19:39:48.564Z"
   },
   {
    "duration": 420,
    "start_time": "2025-01-28T19:39:48.574Z"
   },
   {
    "duration": 9,
    "start_time": "2025-01-28T19:39:48.996Z"
   },
   {
    "duration": 199,
    "start_time": "2025-01-28T19:39:49.006Z"
   },
   {
    "duration": 285,
    "start_time": "2025-01-28T19:39:49.206Z"
   },
   {
    "duration": 14,
    "start_time": "2025-01-28T19:39:49.497Z"
   },
   {
    "duration": 345,
    "start_time": "2025-01-28T19:39:49.513Z"
   },
   {
    "duration": 41,
    "start_time": "2025-01-28T19:39:49.860Z"
   },
   {
    "duration": 5,
    "start_time": "2025-01-28T19:39:49.902Z"
   },
   {
    "duration": 287,
    "start_time": "2025-01-28T19:39:49.909Z"
   },
   {
    "duration": 726,
    "start_time": "2025-01-28T19:39:50.198Z"
   },
   {
    "duration": 6,
    "start_time": "2025-01-28T19:39:50.926Z"
   },
   {
    "duration": 455,
    "start_time": "2025-01-28T19:39:50.933Z"
   },
   {
    "duration": 3,
    "start_time": "2025-01-28T19:39:51.390Z"
   },
   {
    "duration": 644,
    "start_time": "2025-01-28T19:39:51.395Z"
   },
   {
    "duration": 0,
    "start_time": "2025-01-28T19:39:52.041Z"
   },
   {
    "duration": 0,
    "start_time": "2025-01-28T19:39:52.043Z"
   },
   {
    "duration": 0,
    "start_time": "2025-01-28T19:39:52.044Z"
   },
   {
    "duration": 0,
    "start_time": "2025-01-28T19:39:52.046Z"
   },
   {
    "duration": 0,
    "start_time": "2025-01-28T19:39:52.048Z"
   },
   {
    "duration": 0,
    "start_time": "2025-01-28T19:39:52.049Z"
   },
   {
    "duration": 1,
    "start_time": "2025-01-28T19:39:52.050Z"
   },
   {
    "duration": 0,
    "start_time": "2025-01-28T19:39:52.052Z"
   },
   {
    "duration": 114,
    "start_time": "2025-01-28T19:40:44.773Z"
   },
   {
    "duration": 24,
    "start_time": "2025-01-28T19:41:24.351Z"
   },
   {
    "duration": 441,
    "start_time": "2025-01-28T19:42:26.578Z"
   },
   {
    "duration": 465,
    "start_time": "2025-01-28T20:05:00.688Z"
   }
  ],
  "kernelspec": {
   "display_name": "Python 3",
   "language": "python",
   "name": "python3"
  },
  "language_info": {
   "codemirror_mode": {
    "name": "ipython",
    "version": 3
   },
   "file_extension": ".py",
   "mimetype": "text/x-python",
   "name": "python",
   "nbconvert_exporter": "python",
   "pygments_lexer": "ipython3",
   "version": "3.9.6"
  },
  "toc": {
   "base_numbering": 1,
   "nav_menu": {},
   "number_sections": true,
   "sideBar": true,
   "skip_h1_title": true,
   "title_cell": "Table of Contents",
   "title_sidebar": "Contents",
   "toc_cell": false,
   "toc_position": {
    "height": "calc(100% - 180px)",
    "left": "10px",
    "top": "150px",
    "width": "333.95px"
   },
   "toc_section_display": true,
   "toc_window_display": true
  }
 },
 "nbformat": 4,
 "nbformat_minor": 5
}
